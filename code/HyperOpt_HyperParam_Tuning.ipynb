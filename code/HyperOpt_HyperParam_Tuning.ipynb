{
  "cells": [
    {
      "cell_type": "markdown",
      "metadata": {
        "id": "view-in-github",
        "colab_type": "text"
      },
      "source": [
        "<a href=\"https://colab.research.google.com/github/WideSu/Python-for-DS/blob/main/HyperOpt_HyperParam_Tuning.ipynb\" target=\"_parent\"><img src=\"https://colab.research.google.com/assets/colab-badge.svg\" alt=\"Open In Colab\"/></a>"
      ]
    },
    {
      "cell_type": "markdown",
      "metadata": {
        "id": "zgDPbP-qoXZI"
      },
      "source": [
        "TO-DO\n",
        "- [x] Test the average time usage and RMSE for each epoch using scikit-learn random search\n",
        "- [ ] Test TPE hyper param tuning for HyperOpt, Ray, Optuna\n",
        "- [ ] Plot the RMSE through timeline\n",
        "- [ ] Use the different sampler in Optuna: Random,TPE,CMA-ES,NSGA-II\n",
        "\n",
        "The outcome:\n",
        "- A chart consisting the average RMSE and excuation time for all hyper parameter tunning methods\n",
        "\n",
        "|HPO Package                                  |Avg RMSE                        |Avg Time Ellipsed                                            |\n",
        "|---------------------------------------------|--------------------------------|-------------------------------------------------------------|\n",
        "|Scikit-learn                                 |                                |                                                             |\n",
        "|HyperOpt                                     |                                |                                                             |\n",
        "|Ray                                          |                                |                                                             |\n",
        "|Optuna                                       |                                |                                                             |\n",
        "\n",
        "|Library|Pros|Cons|Scenario|\n",
        "|-|-|-|-|\n",
        "|Scikit-learn|Flexible and basic|Only 2 basic methods (grid/random), New methods are not stable|Tradictional tuning|\n",
        "|HyperOpt|High-speed and flexible,New search method: TPE/ATPE| Out-of-date interface |Time-limited|\n",
        "|Ray|Systematic and well wrapped|Too customized and not flexible,Time-cost on initialization|Fast development and deployment with various tuning methods|\n",
        "|Optuna|Well-performed and light;Include all popular and stable tuning methods |Not well wrapped for all methods|Accurate, flexible required|\n"
      ]
    },
    {
      "cell_type": "code",
      "execution_count": null,
      "metadata": {
        "colab": {
          "base_uri": "https://localhost:8080/"
        },
        "id": "WbuirGaFkWCu",
        "outputId": "d5973c4a-88ff-4613-9c14-44b25edd50b9"
      },
      "outputs": [
        {
          "name": "stdout",
          "output_type": "stream",
          "text": [
            "Mounted at /content/drive\n",
            "/content/drive/MyDrive/HPO\n"
          ]
        }
      ],
      "source": [
        "# @title Mont on Google Drive\n",
        "from google.colab import drive\n",
        "drive.mount('/content/drive')\n",
        "%cd /content/drive/MyDrive/HPO/"
      ]
    },
    {
      "cell_type": "code",
      "execution_count": null,
      "metadata": {
        "cellView": "form",
        "id": "uVUkms5Un1uZ"
      },
      "outputs": [],
      "source": [
        "# @title Install and import packages\n",
        "! pip install dateutil\n",
        "! pip install lightgbm\n",
        "! pip install optuna\n",
        "import pandas as pd\n",
        "import dateutil\n",
        "import datetime\n",
        "import optuna\n",
        "from tqdm import tqdm, trange\n",
        "from lightgbm import LGBMRegressor\n",
        "import sklearn\n",
        "import math\n",
        "import time"
      ]
    },
    {
      "cell_type": "code",
      "execution_count": null,
      "metadata": {
        "cellView": "form",
        "id": "dtzhF9YfyNKz"
      },
      "outputs": [],
      "source": [
        "# @title Read-in data and check data type and volume\n",
        "df = pd.read_csv('./exp_data.csv')\n",
        "df.info()"
      ]
    },
    {
      "cell_type": "code",
      "execution_count": null,
      "metadata": {
        "cellView": "form",
        "id": "xnz0CZlvqurc"
      },
      "outputs": [],
      "source": [
        "# @title Change into datatime type\n",
        "df[[\"date\"]] = df[[\"date\"]].apply(pd.to_datetime)"
      ]
    },
    {
      "cell_type": "code",
      "execution_count": null,
      "metadata": {
        "id": "c9uACjiL0OiI"
      },
      "outputs": [],
      "source": [
        "import pickle\n",
        "import time\n",
        "import hyperopt\n",
        "from hyperopt import fmin, hp, Trials\n",
        "\n",
        "library_evaluation_df = {\n",
        "    'Library' : [],\n",
        "    'Train Start Date': [],\n",
        "    'Train End Date': [],\n",
        "    'Test Start Date': [],\n",
        "    'Test End Date': [],\n",
        "    'Smallest RMSE': [],\n",
        "    'Time Ellipsed': []\n",
        "}\n",
        "\n",
        "n_trials = 15\n",
        "\n",
        "predict_times = 60\n",
        "\n",
        "# Configuration \n",
        "train_timespan_months = 180\n",
        "whole_period_months = 60\n",
        "test_timespan_months = 1\n",
        "first_end_time = datetime.datetime(2015, 12, 1)\n",
        "feat_cols = ['absacc', 'acc', 'age', 'agr', 'baspread','bm', 'bm_ia',\n",
        "             'cash', 'cashdebt', 'cashpr', 'cfp', 'cfp_ia', 'chatoia', 'chcsho', 'chempia', 'chinv', 'chmom',\n",
        "             'chpmia', 'chtx', 'cinvest', 'convind', 'currat', 'depr', 'divi', 'divo', 'dolvol', 'dy', \n",
        "             'egr', 'ep', 'gma', 'grcapx', 'grltnoa', 'herf', 'hire', 'ill', 'indmom', 'invest', 'lev', 'lgr',\n",
        "             'maxret', 'mom12m', 'mom1m', 'mom36m', 'mom6m', 'ms', 'mve_ia', 'mvel1', 'nincr', 'operprof',\n",
        "             'orgcap', 'pchcapx_ia', 'pchcurrat', 'pchdepr', 'pchgm_pchsale', 'pchquick', 'pchsale_pchinvt',\n",
        "             'pchsale_pchrect', 'pchsale_pchxsga', 'pchsaleinv', 'pctacc', 'ps', 'quick', 'rd', 'rd_mve',\n",
        "             'rd_sale', 'realestate', 'retvol', 'roaq', 'roavol', 'roeq', 'roic', 'rsup', 'salecash', 'pricedelay',\n",
        "             'saleinv', 'salerec', 'secured', 'securedind', 'sgr', 'sin', 'sp', 'std_dolvol', 'std_turn',\n",
        "             'stdacc', 'stdcf', 'tang', 'tb', 'turn', 'zerotrade','aeavol','ear','beta','betasq','idiovol']\n",
        "y_col = 'ret'\n",
        "\n",
        "train_end_date = first_end_time\n",
        "\n",
        "# Define the search space\n",
        "space = {\n",
        "        'n_estimators': hp.quniform('n_estimators', 50, 500, 1), \n",
        "        'num_leaves': hp.quniform('num_leaves', 10, 512, 1),\n",
        "        'min_data_in_leaf': hp.quniform('min_data_in_leaf', 10, 80, 1),\n",
        "        'bagging_fraction':  hp.uniform('bagging_fraction', 0.0, 1.0), # subsample\n",
        "        'learning_rate': hp.uniform('learning_rate', 0.01, 0.1),  # eta\n",
        "        'lambda_l1': hp.uniform('lambda_l1', 0.01, 1),  # reg_alpha\n",
        "        'lambda_l2': hp.uniform('lambda_l2', 0.01, 1), # reg_lambda\n",
        "}\n",
        "\n",
        "# Evaluation details for each train and test timespan\n",
        "evaluate_detail_df = {\n",
        "    'Train Start Date': [],\n",
        "    'Train End Date': [],\n",
        "    'Test Start Date': [],\n",
        "    'Test End Date': [],\n",
        "    'Smallest RMSE': [],\n",
        "    'Time Ellipsed': []\n",
        "}"
      ]
    },
    {
      "cell_type": "markdown",
      "metadata": {
        "id": "A7bCBAvqULE3"
      },
      "source": [
        "# HyperOpt"
      ]
    },
    {
      "cell_type": "code",
      "execution_count": null,
      "metadata": {
        "colab": {
          "base_uri": "https://localhost:8080/"
        },
        "id": "0-9RITojUGAQ",
        "outputId": "0d62ac74-742f-49b7-c60f-d63ab6f56631"
      },
      "outputs": [
        {
          "metadata": {
            "tags": null
          },
          "name": "stderr",
          "output_type": "stream",
          "text": [
            "\r  0%|          | 0/60 [00:00<?, ?it/s]"
          ]
        },
        {
          "metadata": {
            "tags": null
          },
          "name": "stdout",
          "output_type": "stream",
          "text": [
            "\n",
            "  0%|          | 0/15 [00:00<?, ?it/s, best loss: ?]\u001b[A\n",
            "  7%|▋         | 1/15 [00:09<02:14,  9.58s/it, best loss: 0.12038965932889222]\u001b[A\n",
            " 13%|█▎        | 2/15 [01:38<12:14, 56.50s/it, best loss: 0.12021982476046188]\u001b[A\n",
            " 20%|██        | 3/15 [02:43<12:01, 60.14s/it, best loss: 0.11893105526526511]\u001b[A\n",
            " 27%|██▋       | 4/15 [02:57<07:40, 41.85s/it, best loss: 0.11893105526526511]\u001b[A\n",
            " 33%|███▎      | 5/15 [03:28<06:19, 37.93s/it, best loss: 0.11893105526526511]\u001b[A\n",
            " 40%|████      | 6/15 [03:57<05:15, 35.08s/it, best loss: 0.11893105526526511]\u001b[A\n",
            " 47%|████▋     | 7/15 [04:16<03:59, 29.89s/it, best loss: 0.11893105526526511]\u001b[A\n",
            " 53%|█████▎    | 8/15 [05:52<05:55, 50.86s/it, best loss: 0.11893105526526511]\u001b[A\n",
            " 60%|██████    | 9/15 [07:11<05:57, 59.54s/it, best loss: 0.11893105526526511]\u001b[A\n",
            " 67%|██████▋   | 10/15 [08:06<04:51, 58.22s/it, best loss: 0.11893105526526511]\u001b[A\n",
            " 73%|███████▎  | 11/15 [08:41<03:24, 51.08s/it, best loss: 0.11893105526526511]\u001b[A\n",
            " 80%|████████  | 12/15 [09:37<02:37, 52.50s/it, best loss: 0.11893105526526511]\u001b[A\n",
            " 87%|████████▋ | 13/15 [10:02<01:28, 44.21s/it, best loss: 0.11893105526526511]\u001b[A\n",
            " 93%|█████████▎| 14/15 [10:44<00:43, 43.56s/it, best loss: 0.1182118322608842] \u001b[A\n",
            "100%|██████████| 15/15 [10:52<00:00, 43.51s/it, best loss: 0.1182118322608842]"
          ]
        },
        {
          "metadata": {
            "tags": null
          },
          "name": "stderr",
          "output_type": "stream",
          "text": [
            "\r  2%|▏         | 1/60 [10:52<10:41:52, 652.75s/it]"
          ]
        },
        {
          "metadata": {
            "tags": null
          },
          "name": "stdout",
          "output_type": "stream",
          "text": [
            "\n",
            "\n",
            "  0%|          | 0/15 [00:00<?, ?it/s, best loss: ?]\u001b[A\n",
            "  7%|▋         | 1/15 [00:22<05:09, 22.12s/it, best loss: 0.07171224342640348]\u001b[A\n",
            " 13%|█▎        | 2/15 [01:14<08:40, 40.01s/it, best loss: 0.07171224342640348]\u001b[A\n",
            " 20%|██        | 3/15 [01:20<04:51, 24.28s/it, best loss: 0.06845884244412322]\u001b[A\n",
            " 27%|██▋       | 4/15 [01:45<04:32, 24.74s/it, best loss: 0.06845884244412322]\u001b[A\n",
            " 33%|███▎      | 5/15 [02:59<07:03, 42.39s/it, best loss: 0.06845884244412322]\u001b[A\n",
            " 40%|████      | 6/15 [03:31<05:51, 39.06s/it, best loss: 0.06845884244412322]\u001b[A\n",
            " 47%|████▋     | 7/15 [03:46<04:09, 31.17s/it, best loss: 0.06845884244412322]\u001b[A\n",
            " 53%|█████▎    | 8/15 [04:08<03:17, 28.28s/it, best loss: 0.06845884244412322]\u001b[A\n",
            " 60%|██████    | 9/15 [04:36<02:48, 28.09s/it, best loss: 0.06845884244412322]\u001b[A\n",
            " 67%|██████▋   | 10/15 [04:40<01:42, 20.58s/it, best loss: 0.06845884244412322]\u001b[A\n",
            " 73%|███████▎  | 11/15 [05:24<01:51, 27.90s/it, best loss: 0.06845884244412322]\u001b[A\n",
            " 80%|████████  | 12/15 [05:43<01:15, 25.14s/it, best loss: 0.06845884244412322]\u001b[A\n",
            " 87%|████████▋ | 13/15 [06:55<01:18, 39.21s/it, best loss: 0.06845884244412322]\u001b[A\n",
            " 93%|█████████▎| 14/15 [07:28<00:37, 37.30s/it, best loss: 0.06845884244412322]\u001b[A\n",
            "100%|██████████| 15/15 [08:43<00:00, 34.88s/it, best loss: 0.06845884244412322]"
          ]
        },
        {
          "metadata": {
            "tags": null
          },
          "name": "stderr",
          "output_type": "stream",
          "text": [
            "\r  3%|▎         | 2/60 [19:36<9:17:24, 576.63s/it] "
          ]
        },
        {
          "metadata": {
            "tags": null
          },
          "name": "stdout",
          "output_type": "stream",
          "text": [
            "\n",
            "\n",
            "  0%|          | 0/15 [00:00<?, ?it/s, best loss: ?]\u001b[A\n",
            "  7%|▋         | 1/15 [00:26<06:07, 26.28s/it, best loss: 0.1007776979698906]\u001b[A\n",
            " 13%|█▎        | 2/15 [00:36<03:39, 16.87s/it, best loss: 0.09607766639314376]\u001b[A\n",
            " 20%|██        | 3/15 [01:31<06:48, 34.06s/it, best loss: 0.09607766639314376]\u001b[A\n",
            " 27%|██▋       | 4/15 [02:00<05:56, 32.41s/it, best loss: 0.09607766639314376]\u001b[A\n",
            " 33%|███▎      | 5/15 [03:09<07:32, 45.28s/it, best loss: 0.09607766639314376]\u001b[A\n",
            " 40%|████      | 6/15 [04:01<07:09, 47.67s/it, best loss: 0.09607766639314376]\u001b[A\n",
            " 47%|████▋     | 7/15 [04:23<05:13, 39.21s/it, best loss: 0.09607766639314376]\u001b[A\n",
            " 53%|█████▎    | 8/15 [04:51<04:09, 35.69s/it, best loss: 0.09607766639314376]\u001b[A\n",
            " 60%|██████    | 9/15 [05:31<03:42, 37.07s/it, best loss: 0.09607766639314376]\u001b[A\n",
            " 67%|██████▋   | 10/15 [05:35<02:13, 26.73s/it, best loss: 0.09091593997572812]\u001b[A\n",
            " 73%|███████▎  | 11/15 [05:47<01:29, 22.42s/it, best loss: 0.09091593997572812]\u001b[A\n",
            " 80%|████████  | 12/15 [06:46<01:40, 33.36s/it, best loss: 0.09091593997572812]\u001b[A\n",
            " 87%|████████▋ | 13/15 [06:52<00:50, 25.18s/it, best loss: 0.09091593997572812]\u001b[A\n",
            " 93%|█████████▎| 14/15 [08:07<00:40, 40.16s/it, best loss: 0.09091593997572812]\u001b[A\n",
            "100%|██████████| 15/15 [09:18<00:00, 37.26s/it, best loss: 0.09091593997572812]"
          ]
        },
        {
          "metadata": {
            "tags": null
          },
          "name": "stderr",
          "output_type": "stream",
          "text": [
            "\r  5%|▌         | 3/60 [28:55<9:00:08, 568.57s/it]"
          ]
        },
        {
          "metadata": {
            "tags": null
          },
          "name": "stdout",
          "output_type": "stream",
          "text": [
            "\n",
            "\n",
            "  0%|          | 0/15 [00:00<?, ?it/s, best loss: ?]\u001b[A\n",
            "  7%|▋         | 1/15 [00:03<00:53,  3.84s/it, best loss: 0.07225635256128547]\u001b[A\n",
            " 13%|█▎        | 2/15 [00:48<05:58, 27.61s/it, best loss: 0.07225635256128547]\u001b[A\n",
            " 20%|██        | 3/15 [00:57<03:51, 19.27s/it, best loss: 0.07225635256128547]\u001b[A\n",
            " 27%|██▋       | 4/15 [02:49<10:13, 55.77s/it, best loss: 0.07225635256128547]\u001b[A\n",
            " 33%|███▎      | 5/15 [03:09<07:09, 42.99s/it, best loss: 0.07225635256128547]\u001b[A\n",
            " 40%|████      | 6/15 [03:32<05:25, 36.14s/it, best loss: 0.07225635256128547]\u001b[A\n",
            " 47%|████▋     | 7/15 [04:15<05:08, 38.57s/it, best loss: 0.07225635256128547]\u001b[A\n",
            " 53%|█████▎    | 8/15 [04:57<04:36, 39.55s/it, best loss: 0.07225635256128547]\u001b[A\n",
            " 60%|██████    | 9/15 [05:16<03:18, 33.09s/it, best loss: 0.07225635256128547]\u001b[A\n",
            " 67%|██████▋   | 10/15 [05:30<02:15, 27.06s/it, best loss: 0.07225635256128547]\u001b[A\n",
            " 73%|███████▎  | 11/15 [05:40<01:27, 21.87s/it, best loss: 0.07225635256128547]\u001b[A\n",
            " 80%|████████  | 12/15 [06:42<01:42, 34.29s/it, best loss: 0.07225635256128547]\u001b[A\n",
            " 87%|████████▋ | 13/15 [07:19<01:09, 35.00s/it, best loss: 0.07225635256128547]\u001b[A\n",
            " 93%|█████████▎| 14/15 [08:06<00:38, 38.72s/it, best loss: 0.07225635256128547]\u001b[A\n",
            "100%|██████████| 15/15 [08:31<00:00, 34.08s/it, best loss: 0.07225635256128547]"
          ]
        },
        {
          "metadata": {
            "tags": null
          },
          "name": "stderr",
          "output_type": "stream",
          "text": [
            "\r  7%|▋         | 4/60 [37:26<8:29:32, 545.93s/it]"
          ]
        },
        {
          "metadata": {
            "tags": null
          },
          "name": "stdout",
          "output_type": "stream",
          "text": [
            "\n",
            "\n",
            "  0%|          | 0/15 [00:00<?, ?it/s, best loss: ?]\u001b[A\n",
            "  7%|▋         | 1/15 [00:41<09:34, 41.03s/it, best loss: 0.05939657001516374]\u001b[A\n",
            " 13%|█▎        | 2/15 [02:41<19:01, 87.80s/it, best loss: 0.05852080351260421]\u001b[A\n",
            " 20%|██        | 3/15 [03:32<14:11, 70.96s/it, best loss: 0.05852080351260421]\u001b[A\n",
            " 27%|██▋       | 4/15 [03:45<08:48, 48.01s/it, best loss: 0.05852080351260421]\u001b[A\n",
            " 33%|███▎      | 5/15 [04:40<08:27, 50.73s/it, best loss: 0.05852080351260421]\u001b[A\n",
            " 40%|████      | 6/15 [05:19<06:59, 46.57s/it, best loss: 0.05852080351260421]\u001b[A\n",
            " 47%|████▋     | 7/15 [06:07<06:16, 47.08s/it, best loss: 0.057763797086788485]\u001b[A\n",
            " 53%|█████▎    | 8/15 [06:21<04:16, 36.66s/it, best loss: 0.057763797086788485]\u001b[A\n",
            " 60%|██████    | 9/15 [06:38<03:01, 30.30s/it, best loss: 0.05775896331892232] \u001b[A\n",
            " 67%|██████▋   | 10/15 [07:02<02:22, 28.41s/it, best loss: 0.05775896331892232]\u001b[A\n",
            " 73%|███████▎  | 11/15 [07:23<01:45, 26.31s/it, best loss: 0.05722231302563003]\u001b[A\n",
            " 80%|████████  | 12/15 [08:00<01:28, 29.41s/it, best loss: 0.05722231302563003]\u001b[A\n",
            " 87%|████████▋ | 13/15 [09:03<01:19, 39.72s/it, best loss: 0.05722231302563003]\u001b[A\n",
            " 93%|█████████▎| 14/15 [10:27<00:53, 53.02s/it, best loss: 0.05722231302563003]\u001b[A\n",
            "100%|██████████| 15/15 [11:01<00:00, 44.07s/it, best loss: 0.05722231302563003]"
          ]
        },
        {
          "metadata": {
            "tags": null
          },
          "name": "stderr",
          "output_type": "stream",
          "text": [
            "\r  8%|▊         | 5/60 [48:27<8:58:31, 587.47s/it]"
          ]
        },
        {
          "metadata": {
            "tags": null
          },
          "name": "stdout",
          "output_type": "stream",
          "text": [
            "\n",
            "\n",
            "  0%|          | 0/15 [00:00<?, ?it/s, best loss: ?]\u001b[A\n",
            "  7%|▋         | 1/15 [01:25<19:53, 85.25s/it, best loss: 0.06976923310347115]\u001b[A\n",
            " 13%|█▎        | 2/15 [01:56<11:31, 53.19s/it, best loss: 0.06877865382517823]\u001b[A\n",
            " 20%|██        | 3/15 [02:09<07:01, 35.10s/it, best loss: 0.06758980935817932]\u001b[A\n",
            " 27%|██▋       | 4/15 [02:22<04:50, 26.39s/it, best loss: 0.06758980935817932]\u001b[A\n",
            " 33%|███▎      | 5/15 [03:14<05:55, 35.58s/it, best loss: 0.06758980935817932]\u001b[A\n",
            " 40%|████      | 6/15 [03:32<04:26, 29.58s/it, best loss: 0.06758980935817932]\u001b[A\n",
            " 47%|████▋     | 7/15 [03:46<03:15, 24.44s/it, best loss: 0.06758980935817932]\u001b[A\n",
            " 53%|█████▎    | 8/15 [04:55<04:30, 38.64s/it, best loss: 0.06758980935817932]\u001b[A\n",
            " 60%|██████    | 9/15 [05:04<02:56, 29.35s/it, best loss: 0.06747887381492386]\u001b[A\n",
            " 67%|██████▋   | 10/15 [05:17<02:01, 24.35s/it, best loss: 0.06729160194519618]\u001b[A\n",
            " 73%|███████▎  | 11/15 [06:10<02:12, 33.06s/it, best loss: 0.0671679456466556] \u001b[A\n",
            " 80%|████████  | 12/15 [07:10<02:04, 41.41s/it, best loss: 0.0671679456466556]\u001b[A\n",
            " 87%|████████▋ | 13/15 [07:34<01:12, 36.16s/it, best loss: 0.0671679456466556]\u001b[A\n",
            " 93%|█████████▎| 14/15 [08:21<00:39, 39.32s/it, best loss: 0.0671679456466556]\u001b[A\n",
            "100%|██████████| 15/15 [08:30<00:00, 34.03s/it, best loss: 0.0671679456466556]"
          ]
        },
        {
          "metadata": {
            "tags": null
          },
          "name": "stderr",
          "output_type": "stream",
          "text": [
            "\r 10%|█         | 6/60 [56:57<8:25:09, 561.29s/it]"
          ]
        },
        {
          "metadata": {
            "tags": null
          },
          "name": "stdout",
          "output_type": "stream",
          "text": [
            "\n",
            "\n",
            "  0%|          | 0/15 [00:00<?, ?it/s, best loss: ?]\u001b[A\n",
            "  7%|▋         | 1/15 [00:41<09:37, 41.24s/it, best loss: 0.06869243830967663]\u001b[A\n",
            " 13%|█▎        | 2/15 [01:46<11:57, 55.23s/it, best loss: 0.06869243830967663]\u001b[A\n",
            " 20%|██        | 3/15 [02:57<12:29, 62.47s/it, best loss: 0.06869243830967663]\u001b[A\n",
            " 27%|██▋       | 4/15 [03:54<11:04, 60.37s/it, best loss: 0.06869243830967663]\u001b[A\n",
            " 33%|███▎      | 5/15 [04:24<08:13, 49.37s/it, best loss: 0.06837594361997625]\u001b[A\n",
            " 40%|████      | 6/15 [05:20<07:46, 51.80s/it, best loss: 0.06837594361997625]\u001b[A\n",
            " 47%|████▋     | 7/15 [05:38<05:25, 40.70s/it, best loss: 0.06837594361997625]\u001b[A\n",
            " 53%|█████▎    | 8/15 [06:00<04:03, 34.79s/it, best loss: 0.06837594361997625]\u001b[A\n",
            " 60%|██████    | 9/15 [06:10<02:41, 26.90s/it, best loss: 0.06721043436482371]\u001b[A\n",
            " 67%|██████▋   | 10/15 [06:25<01:56, 23.38s/it, best loss: 0.06721043436482371]\u001b[A\n",
            " 73%|███████▎  | 11/15 [06:58<01:44, 26.13s/it, best loss: 0.06721043436482371]\u001b[A\n",
            " 80%|████████  | 12/15 [07:32<01:25, 28.55s/it, best loss: 0.06721043436482371]\u001b[A\n",
            " 87%|████████▋ | 13/15 [07:57<00:54, 27.46s/it, best loss: 0.06721043436482371]\u001b[A\n",
            " 93%|█████████▎| 14/15 [09:22<00:44, 44.81s/it, best loss: 0.06721043436482371]\u001b[A\n",
            "100%|██████████| 15/15 [10:01<00:00, 40.11s/it, best loss: 0.06721043436482371]"
          ]
        },
        {
          "metadata": {
            "tags": null
          },
          "name": "stderr",
          "output_type": "stream",
          "text": [
            "\r 12%|█▏        | 7/60 [1:06:59<8:27:30, 574.53s/it]"
          ]
        },
        {
          "metadata": {
            "tags": null
          },
          "name": "stdout",
          "output_type": "stream",
          "text": [
            "\n",
            "\n",
            "  0%|          | 0/15 [00:00<?, ?it/s, best loss: ?]\u001b[A\n",
            "  7%|▋         | 1/15 [00:19<04:37, 19.84s/it, best loss: 0.0656481224485362]\u001b[A\n",
            " 13%|█▎        | 2/15 [00:35<03:49, 17.64s/it, best loss: 0.06460784917694347]\u001b[A\n",
            " 20%|██        | 3/15 [01:42<07:58, 39.86s/it, best loss: 0.06460784917694347]\u001b[A\n",
            " 27%|██▋       | 4/15 [02:20<07:09, 39.06s/it, best loss: 0.06428342721165613]\u001b[A\n",
            " 33%|███▎      | 5/15 [03:12<07:17, 43.73s/it, best loss: 0.06428342721165613]\u001b[A\n",
            " 40%|████      | 6/15 [04:11<07:22, 49.16s/it, best loss: 0.06428342721165613]\u001b[A\n",
            " 47%|████▋     | 7/15 [04:19<04:44, 35.57s/it, best loss: 0.06428342721165613]\u001b[A\n",
            " 53%|█████▎    | 8/15 [04:38<03:31, 30.23s/it, best loss: 0.06428342721165613]\u001b[A\n",
            " 60%|██████    | 9/15 [05:47<04:14, 42.40s/it, best loss: 0.06428342721165613]\u001b[A\n",
            " 67%|██████▋   | 10/15 [05:52<02:35, 31.02s/it, best loss: 0.06428342721165613]\u001b[A\n",
            " 73%|███████▎  | 11/15 [07:31<03:27, 51.76s/it, best loss: 0.06428342721165613]\u001b[A\n",
            " 80%|████████  | 12/15 [08:38<02:49, 56.37s/it, best loss: 0.06428342721165613]\u001b[A\n",
            " 87%|████████▋ | 13/15 [09:10<01:37, 48.83s/it, best loss: 0.06428342721165613]\u001b[A\n",
            " 93%|█████████▎| 14/15 [09:39<00:42, 42.84s/it, best loss: 0.06428342721165613]\u001b[A\n",
            "100%|██████████| 15/15 [10:39<00:00, 42.60s/it, best loss: 0.06428342721165613]"
          ]
        },
        {
          "metadata": {
            "tags": null
          },
          "name": "stderr",
          "output_type": "stream",
          "text": [
            "\r 13%|█▎        | 8/60 [1:17:38<8:35:45, 595.11s/it]"
          ]
        },
        {
          "metadata": {
            "tags": null
          },
          "name": "stdout",
          "output_type": "stream",
          "text": [
            "\n",
            "\n",
            "  0%|          | 0/15 [00:00<?, ?it/s, best loss: ?]\u001b[A\n",
            "  7%|▋         | 1/15 [00:44<10:24, 44.60s/it, best loss: 0.05397590905655478]\u001b[A\n",
            " 13%|█▎        | 2/15 [01:43<11:27, 52.90s/it, best loss: 0.053819912648496546]\u001b[A\n",
            " 20%|██        | 3/15 [01:53<06:43, 33.62s/it, best loss: 0.05224794974288309] \u001b[A\n",
            " 27%|██▋       | 4/15 [02:33<06:35, 35.94s/it, best loss: 0.05224794974288309]\u001b[A\n",
            " 33%|███▎      | 5/15 [03:03<05:38, 33.85s/it, best loss: 0.05224794974288309]\u001b[A\n",
            " 40%|████      | 6/15 [03:31<04:45, 31.76s/it, best loss: 0.05224794974288309]\u001b[A\n",
            " 47%|████▋     | 7/15 [03:43<03:23, 25.44s/it, best loss: 0.05203109248142264]\u001b[A\n",
            " 53%|█████▎    | 8/15 [04:00<02:38, 22.60s/it, best loss: 0.05203109248142264]\u001b[A\n",
            " 60%|██████    | 9/15 [05:34<04:29, 45.00s/it, best loss: 0.05203109248142264]\u001b[A\n",
            " 67%|██████▋   | 10/15 [07:30<05:34, 66.85s/it, best loss: 0.05203109248142264]\u001b[A\n",
            " 73%|███████▎  | 11/15 [07:50<03:30, 52.60s/it, best loss: 0.05203109248142264]\u001b[A\n",
            " 80%|████████  | 12/15 [09:44<03:33, 71.24s/it, best loss: 0.05203109248142264]\u001b[A\n",
            " 87%|████████▋ | 13/15 [10:14<01:57, 58.78s/it, best loss: 0.05181416608243452]\u001b[A\n",
            " 93%|█████████▎| 14/15 [11:13<00:58, 58.90s/it, best loss: 0.05181416608243452]\u001b[A\n",
            "100%|██████████| 15/15 [11:17<00:00, 45.15s/it, best loss: 0.05181416608243452]"
          ]
        },
        {
          "metadata": {
            "tags": null
          },
          "name": "stderr",
          "output_type": "stream",
          "text": [
            "\r 15%|█▌        | 9/60 [1:28:56<8:47:42, 620.83s/it]"
          ]
        },
        {
          "metadata": {
            "tags": null
          },
          "name": "stdout",
          "output_type": "stream",
          "text": [
            "\n",
            "\n",
            "  0%|          | 0/15 [00:00<?, ?it/s, best loss: ?]\u001b[A\n",
            "  7%|▋         | 1/15 [00:56<13:04, 56.03s/it, best loss: 0.079606577339892]\u001b[A\n",
            " 13%|█▎        | 2/15 [01:24<08:35, 39.62s/it, best loss: 0.07918082231007127]\u001b[A\n",
            " 20%|██        | 3/15 [01:28<04:39, 23.31s/it, best loss: 0.07728367084713067]\u001b[A\n",
            " 27%|██▋       | 4/15 [02:30<07:08, 38.91s/it, best loss: 0.07728367084713067]\u001b[A\n",
            " 33%|███▎      | 5/15 [02:41<04:48, 28.87s/it, best loss: 0.07728367084713067]\u001b[A\n",
            " 40%|████      | 6/15 [02:54<03:29, 23.27s/it, best loss: 0.07728322346352097]\u001b[A\n",
            " 47%|████▋     | 7/15 [03:27<03:31, 26.42s/it, best loss: 0.07728322346352097]\u001b[A\n",
            " 53%|█████▎    | 8/15 [05:17<06:11, 53.10s/it, best loss: 0.07728322346352097]\u001b[A\n",
            " 60%|██████    | 9/15 [06:11<05:20, 53.41s/it, best loss: 0.07728322346352097]\u001b[A\n",
            " 67%|██████▋   | 10/15 [06:25<03:25, 41.11s/it, best loss: 0.07728322346352097]\u001b[A\n",
            " 73%|███████▎  | 11/15 [06:41<02:14, 33.58s/it, best loss: 0.07728322346352097]\u001b[A\n",
            " 80%|████████  | 12/15 [07:19<01:44, 34.96s/it, best loss: 0.07728322346352097]\u001b[A\n",
            " 87%|████████▋ | 13/15 [07:48<01:06, 33.18s/it, best loss: 0.07728322346352097]\u001b[A\n",
            " 93%|█████████▎| 14/15 [08:11<00:30, 30.03s/it, best loss: 0.07728322346352097]\u001b[A\n",
            "100%|██████████| 15/15 [08:57<00:00, 35.86s/it, best loss: 0.07728322346352097]"
          ]
        },
        {
          "metadata": {
            "tags": null
          },
          "name": "stderr",
          "output_type": "stream",
          "text": [
            "\r 17%|█▋        | 10/60 [1:37:54<8:16:01, 595.24s/it]"
          ]
        },
        {
          "metadata": {
            "tags": null
          },
          "name": "stdout",
          "output_type": "stream",
          "text": [
            "\n",
            "\n",
            "  0%|          | 0/15 [00:00<?, ?it/s, best loss: ?]\u001b[A\n",
            "  7%|▋         | 1/15 [00:07<01:39,  7.13s/it, best loss: 0.08792220902901289]\u001b[A\n",
            " 13%|█▎        | 2/15 [00:20<02:23, 11.06s/it, best loss: 0.08792220902901289]\u001b[A\n",
            " 20%|██        | 3/15 [00:27<01:49,  9.09s/it, best loss: 0.08792220902901289]\u001b[A\n",
            " 27%|██▋       | 4/15 [00:37<01:44,  9.49s/it, best loss: 0.08792220902901289]\u001b[A\n",
            " 33%|███▎      | 5/15 [01:26<03:55, 23.56s/it, best loss: 0.08792220902901289]\u001b[A\n",
            " 40%|████      | 6/15 [01:49<03:32, 23.56s/it, best loss: 0.08758336432609713]\u001b[A\n",
            " 47%|████▋     | 7/15 [01:55<02:21, 17.68s/it, best loss: 0.08758336432609713]\u001b[A\n",
            " 53%|█████▎    | 8/15 [03:04<03:57, 33.94s/it, best loss: 0.08758336432609713]\u001b[A\n",
            " 60%|██████    | 9/15 [04:18<04:39, 46.57s/it, best loss: 0.08758336432609713]\u001b[A\n",
            " 67%|██████▋   | 10/15 [04:50<03:30, 42.08s/it, best loss: 0.08758336432609713]\u001b[A\n",
            " 73%|███████▎  | 11/15 [06:19<03:45, 56.28s/it, best loss: 0.08758336432609713]\u001b[A\n",
            " 80%|████████  | 12/15 [07:07<02:41, 53.99s/it, best loss: 0.08747937401131252]\u001b[A\n",
            " 87%|████████▋ | 13/15 [07:26<01:26, 43.45s/it, best loss: 0.08747937401131252]\u001b[A\n",
            " 93%|█████████▎| 14/15 [08:14<00:44, 44.65s/it, best loss: 0.08747937401131252]\u001b[A\n",
            "100%|██████████| 15/15 [09:44<00:00, 38.98s/it, best loss: 0.08747937401131252]"
          ]
        },
        {
          "metadata": {
            "tags": null
          },
          "name": "stderr",
          "output_type": "stream",
          "text": [
            "\r 18%|█▊        | 11/60 [1:47:38<8:03:29, 592.02s/it]"
          ]
        },
        {
          "metadata": {
            "tags": null
          },
          "name": "stdout",
          "output_type": "stream",
          "text": [
            "\n",
            "\n",
            "  0%|          | 0/15 [00:00<?, ?it/s, best loss: ?]\u001b[A\n",
            "  7%|▋         | 1/15 [00:49<11:39, 49.97s/it, best loss: 0.0503766070821408]\u001b[A\n",
            " 13%|█▎        | 2/15 [01:01<05:52, 27.13s/it, best loss: 0.048517881950976546]\u001b[A\n",
            " 20%|██        | 3/15 [01:16<04:22, 21.85s/it, best loss: 0.048517881950976546]\u001b[A\n",
            " 27%|██▋       | 4/15 [02:08<06:12, 33.87s/it, best loss: 0.048517881950976546]\u001b[A\n",
            " 33%|███▎      | 5/15 [03:45<09:24, 56.41s/it, best loss: 0.048517881950976546]\u001b[A\n",
            " 40%|████      | 6/15 [04:49<08:52, 59.18s/it, best loss: 0.048517881950976546]\u001b[A\n",
            " 47%|████▋     | 7/15 [06:04<08:33, 64.17s/it, best loss: 0.048517881950976546]\u001b[A\n",
            " 53%|█████▎    | 8/15 [06:37<06:19, 54.18s/it, best loss: 0.048517881950976546]\u001b[A\n",
            " 60%|██████    | 9/15 [07:38<05:38, 56.41s/it, best loss: 0.048517881950976546]\u001b[A\n",
            " 67%|██████▋   | 10/15 [07:50<03:34, 42.82s/it, best loss: 0.048105424057806226]\u001b[A\n",
            " 73%|███████▎  | 11/15 [08:00<02:11, 32.79s/it, best loss: 0.048105424057806226]\u001b[A\n",
            " 80%|████████  | 12/15 [08:25<01:30, 30.22s/it, best loss: 0.048105424057806226]\u001b[A\n",
            " 87%|████████▋ | 13/15 [08:47<00:55, 27.88s/it, best loss: 0.048105424057806226]\u001b[A\n",
            " 93%|█████████▎| 14/15 [09:04<00:24, 24.65s/it, best loss: 0.048105424057806226]\u001b[A\n",
            "100%|██████████| 15/15 [09:42<00:00, 38.82s/it, best loss: 0.048105424057806226]"
          ]
        },
        {
          "metadata": {
            "tags": null
          },
          "name": "stderr",
          "output_type": "stream",
          "text": [
            "\r 20%|██        | 12/60 [1:57:21<7:51:15, 589.08s/it]"
          ]
        },
        {
          "metadata": {
            "tags": null
          },
          "name": "stdout",
          "output_type": "stream",
          "text": [
            "\n",
            "\n",
            "  0%|          | 0/15 [00:00<?, ?it/s, best loss: ?]\u001b[A\n",
            "  7%|▋         | 1/15 [01:04<15:05, 64.68s/it, best loss: 0.06834648613119693]\u001b[A\n",
            " 13%|█▎        | 2/15 [02:35<17:18, 79.88s/it, best loss: 0.0681858624741785] \u001b[A\n",
            " 20%|██        | 3/15 [03:23<13:06, 65.52s/it, best loss: 0.06661966734042792]\u001b[A\n",
            " 27%|██▋       | 4/15 [05:16<15:26, 84.20s/it, best loss: 0.06653625125150033]\u001b[A\n",
            " 33%|███▎      | 5/15 [05:51<11:05, 66.58s/it, best loss: 0.06653625125150033]\u001b[A\n",
            " 40%|████      | 6/15 [06:24<08:15, 55.04s/it, best loss: 0.06477016945539242]\u001b[A\n",
            " 47%|████▋     | 7/15 [07:53<08:50, 66.26s/it, best loss: 0.06477016945539242]\u001b[A\n",
            " 53%|█████▎    | 8/15 [08:34<06:46, 58.12s/it, best loss: 0.06477016945539242]\u001b[A\n",
            " 60%|██████    | 9/15 [09:31<05:46, 57.79s/it, best loss: 0.06477016945539242]\u001b[A\n",
            " 67%|██████▋   | 10/15 [10:00<04:03, 48.79s/it, best loss: 0.06477016945539242]\u001b[A\n",
            " 73%|███████▎  | 11/15 [10:41<03:05, 46.46s/it, best loss: 0.06477016945539242]\u001b[A\n",
            " 80%|████████  | 12/15 [12:23<03:10, 63.54s/it, best loss: 0.06477016945539242]\u001b[A\n",
            " 87%|████████▋ | 13/15 [12:30<01:32, 46.41s/it, best loss: 0.06450081970320672]\u001b[A\n",
            " 93%|█████████▎| 14/15 [12:49<00:37, 37.91s/it, best loss: 0.06450081970320672]\u001b[A\n",
            "100%|██████████| 15/15 [13:19<00:00, 53.32s/it, best loss: 0.06450081970320672]"
          ]
        },
        {
          "metadata": {
            "tags": null
          },
          "name": "stderr",
          "output_type": "stream",
          "text": [
            "\r 22%|██▏       | 13/60 [2:10:41<8:31:28, 652.95s/it]"
          ]
        },
        {
          "metadata": {
            "tags": null
          },
          "name": "stdout",
          "output_type": "stream",
          "text": [
            "\n",
            "\n",
            "  0%|          | 0/15 [00:00<?, ?it/s, best loss: ?]\u001b[A\n",
            "  7%|▋         | 1/15 [00:18<04:21, 18.71s/it, best loss: 0.05858882620660973]\u001b[A\n",
            " 13%|█▎        | 2/15 [01:07<07:51, 36.27s/it, best loss: 0.05858882620660973]\u001b[A\n",
            " 20%|██        | 3/15 [01:41<07:05, 35.44s/it, best loss: 0.05612017221842601]\u001b[A\n",
            " 27%|██▋       | 4/15 [01:47<04:22, 23.86s/it, best loss: 0.05572737412880062]\u001b[A\n",
            " 33%|███▎      | 5/15 [01:58<03:10, 19.04s/it, best loss: 0.05495939885656425]\u001b[A\n",
            " 40%|████      | 6/15 [03:21<06:06, 40.73s/it, best loss: 0.05495939885656425]\u001b[A\n",
            " 47%|████▋     | 7/15 [03:35<04:16, 32.05s/it, best loss: 0.05495939885656425]\u001b[A\n",
            " 53%|█████▎    | 8/15 [04:20<04:12, 36.12s/it, best loss: 0.05495939885656425]\u001b[A\n",
            " 60%|██████    | 9/15 [05:14<04:10, 41.75s/it, best loss: 0.05495939885656425]\u001b[A\n",
            " 67%|██████▋   | 10/15 [06:09<03:49, 45.88s/it, best loss: 0.05495939885656425]\u001b[A\n",
            " 73%|███████▎  | 11/15 [06:56<03:04, 46.10s/it, best loss: 0.05495939885656425]\u001b[A\n",
            " 80%|████████  | 12/15 [07:17<01:56, 38.74s/it, best loss: 0.05495939885656425]\u001b[A\n",
            " 87%|████████▋ | 13/15 [07:49<01:12, 36.43s/it, best loss: 0.05495939885656425]\u001b[A\n",
            " 93%|█████████▎| 14/15 [08:27<00:36, 36.97s/it, best loss: 0.05495939885656425]\u001b[A\n",
            "100%|██████████| 15/15 [08:30<00:00, 34.06s/it, best loss: 0.05495939885656425]"
          ]
        },
        {
          "metadata": {
            "tags": null
          },
          "name": "stderr",
          "output_type": "stream",
          "text": [
            "\r 23%|██▎       | 14/60 [2:19:12<7:47:44, 610.10s/it]"
          ]
        },
        {
          "metadata": {
            "tags": null
          },
          "name": "stdout",
          "output_type": "stream",
          "text": [
            "\n",
            "\n",
            "  0%|          | 0/15 [00:00<?, ?it/s, best loss: ?]\u001b[A\n",
            "  7%|▋         | 1/15 [00:38<08:57, 38.41s/it, best loss: 0.04511031735678868]\u001b[A\n",
            " 13%|█▎        | 2/15 [01:07<07:09, 33.02s/it, best loss: 0.044859630855045664]\u001b[A\n",
            " 20%|██        | 3/15 [01:10<03:49, 19.10s/it, best loss: 0.04420594685037876] \u001b[A\n",
            " 27%|██▋       | 4/15 [01:16<02:34, 14.06s/it, best loss: 0.043687945844364244]\u001b[A\n",
            " 33%|███▎      | 5/15 [01:25<02:04, 12.40s/it, best loss: 0.043656508938863144]\u001b[A\n",
            " 40%|████      | 6/15 [01:50<02:29, 16.58s/it, best loss: 0.043656508938863144]\u001b[A\n",
            " 47%|████▋     | 7/15 [02:13<02:30, 18.77s/it, best loss: 0.043656508938863144]\u001b[A\n",
            " 53%|█████▎    | 8/15 [03:32<04:24, 37.71s/it, best loss: 0.043656508938863144]\u001b[A\n",
            " 60%|██████    | 9/15 [03:58<03:24, 34.02s/it, best loss: 0.043656508938863144]\u001b[A\n",
            " 67%|██████▋   | 10/15 [04:46<03:11, 38.35s/it, best loss: 0.043656508938863144]\u001b[A\n",
            " 73%|███████▎  | 11/15 [05:03<02:08, 32.00s/it, best loss: 0.043656508938863144]\u001b[A\n",
            " 80%|████████  | 12/15 [06:27<02:23, 47.70s/it, best loss: 0.043656508938863144]\u001b[A\n",
            " 87%|████████▋ | 13/15 [07:39<01:50, 55.16s/it, best loss: 0.043656508938863144]\u001b[A\n",
            " 93%|█████████▎| 14/15 [08:51<01:00, 60.13s/it, best loss: 0.043656508938863144]\u001b[A\n",
            "100%|██████████| 15/15 [09:19<00:00, 37.30s/it, best loss: 0.043656508938863144]"
          ]
        },
        {
          "metadata": {
            "tags": null
          },
          "name": "stderr",
          "output_type": "stream",
          "text": [
            "\r 25%|██▌       | 15/60 [2:28:31<7:26:09, 594.88s/it]"
          ]
        },
        {
          "metadata": {
            "tags": null
          },
          "name": "stdout",
          "output_type": "stream",
          "text": [
            "\n",
            "\n",
            "  0%|          | 0/15 [00:00<?, ?it/s, best loss: ?]\u001b[A\n",
            "  7%|▋         | 1/15 [00:16<03:45, 16.08s/it, best loss: 0.051817996404867075]\u001b[A\n",
            " 13%|█▎        | 2/15 [01:24<10:06, 46.63s/it, best loss: 0.051817996404867075]\u001b[A\n",
            " 20%|██        | 3/15 [01:49<07:22, 36.88s/it, best loss: 0.050987890264953956]\u001b[A\n",
            " 27%|██▋       | 4/15 [02:19<06:15, 34.12s/it, best loss: 0.05065405179550933] \u001b[A\n",
            " 33%|███▎      | 5/15 [02:29<04:14, 25.50s/it, best loss: 0.05065405179550933]\u001b[A\n",
            " 40%|████      | 6/15 [03:37<06:00, 40.05s/it, best loss: 0.05065405179550933]\u001b[A\n",
            " 47%|████▋     | 7/15 [04:21<05:31, 41.39s/it, best loss: 0.05065405179550933]\u001b[A\n",
            " 53%|█████▎    | 8/15 [04:43<04:04, 34.94s/it, best loss: 0.05065405179550933]\u001b[A\n",
            " 60%|██████    | 9/15 [05:48<04:26, 44.49s/it, best loss: 0.05065405179550933]\u001b[A\n",
            " 67%|██████▋   | 10/15 [06:21<03:24, 40.97s/it, best loss: 0.05065405179550933]\u001b[A\n",
            " 73%|███████▎  | 11/15 [07:05<02:47, 41.99s/it, best loss: 0.05065405179550933]\u001b[A\n",
            " 80%|████████  | 12/15 [08:01<02:18, 46.01s/it, best loss: 0.05065405179550933]\u001b[A\n",
            " 87%|████████▋ | 13/15 [08:49<01:33, 46.80s/it, best loss: 0.05065405179550933]\u001b[A\n",
            " 93%|█████████▎| 14/15 [09:39<00:47, 47.56s/it, best loss: 0.05065405179550933]\u001b[A\n",
            "100%|██████████| 15/15 [09:51<00:00, 39.42s/it, best loss: 0.05065405179550933]"
          ]
        },
        {
          "metadata": {
            "tags": null
          },
          "name": "stderr",
          "output_type": "stream",
          "text": [
            "\r 27%|██▋       | 16/60 [2:38:23<7:15:28, 593.83s/it]"
          ]
        },
        {
          "metadata": {
            "tags": null
          },
          "name": "stdout",
          "output_type": "stream",
          "text": [
            "\n",
            "\n",
            "  0%|          | 0/15 [00:00<?, ?it/s, best loss: ?]\u001b[A\n",
            "  7%|▋         | 1/15 [00:07<01:38,  7.04s/it, best loss: 0.06366525633374115]\u001b[A\n",
            " 13%|█▎        | 2/15 [01:57<14:42, 67.86s/it, best loss: 0.06366525633374115]\u001b[A\n",
            " 20%|██        | 3/15 [03:15<14:28, 72.36s/it, best loss: 0.06366525633374115]\u001b[A\n",
            " 27%|██▋       | 4/15 [03:45<10:15, 55.92s/it, best loss: 0.06366525633374115]\u001b[A\n",
            " 33%|███▎      | 5/15 [04:48<09:44, 58.41s/it, best loss: 0.06366525633374115]\u001b[A\n",
            " 40%|████      | 6/15 [04:53<06:02, 40.27s/it, best loss: 0.06351563797204093]\u001b[A\n",
            " 47%|████▋     | 7/15 [05:33<05:19, 39.98s/it, best loss: 0.06351563797204093]\u001b[A\n",
            " 53%|█████▎    | 8/15 [07:17<07:03, 60.43s/it, best loss: 0.06351563797204093]\u001b[A\n",
            " 60%|██████    | 9/15 [08:26<06:19, 63.18s/it, best loss: 0.06351563797204093]\u001b[A\n",
            " 67%|██████▋   | 10/15 [09:45<05:40, 68.10s/it, best loss: 0.06351563797204093]\u001b[A\n",
            " 73%|███████▎  | 11/15 [10:32<04:06, 61.57s/it, best loss: 0.06351563797204093]\u001b[A\n",
            " 80%|████████  | 12/15 [10:49<02:23, 47.96s/it, best loss: 0.06351563797204093]\u001b[A\n",
            " 87%|████████▋ | 13/15 [11:22<01:26, 43.48s/it, best loss: 0.06351563797204093]\u001b[A\n",
            " 93%|█████████▎| 14/15 [12:00<00:41, 41.95s/it, best loss: 0.06351563797204093]\u001b[A\n",
            "100%|██████████| 15/15 [13:30<00:00, 54.06s/it, best loss: 0.06351563797204093]"
          ]
        },
        {
          "metadata": {
            "tags": null
          },
          "name": "stderr",
          "output_type": "stream",
          "text": [
            "\r 28%|██▊       | 17/60 [2:51:54<7:52:21, 659.10s/it]"
          ]
        },
        {
          "metadata": {
            "tags": null
          },
          "name": "stdout",
          "output_type": "stream",
          "text": [
            "\n",
            "\n",
            "  0%|          | 0/15 [00:00<?, ?it/s, best loss: ?]\u001b[A\n",
            "  7%|▋         | 1/15 [01:06<15:36, 66.86s/it, best loss: 0.05586443335696048]\u001b[A\n",
            " 13%|█▎        | 2/15 [01:14<06:59, 32.24s/it, best loss: 0.053910593823811574]\u001b[A\n",
            " 20%|██        | 3/15 [01:47<06:29, 32.48s/it, best loss: 0.05375893824456366] \u001b[A\n",
            " 27%|██▋       | 4/15 [03:09<09:30, 51.90s/it, best loss: 0.05375893824456366]\u001b[A\n",
            " 33%|███▎      | 5/15 [03:24<06:26, 38.68s/it, best loss: 0.05375893824456366]\u001b[A\n",
            " 40%|████      | 6/15 [03:29<04:05, 27.23s/it, best loss: 0.05363199095920437]\u001b[A\n",
            " 47%|████▋     | 7/15 [04:14<04:24, 33.10s/it, best loss: 0.05363199095920437]\u001b[A\n",
            " 53%|█████▎    | 8/15 [04:54<04:05, 35.12s/it, best loss: 0.05335031893413087]\u001b[A\n",
            " 60%|██████    | 9/15 [06:18<05:03, 50.60s/it, best loss: 0.05335031893413087]\u001b[A\n",
            " 67%|██████▋   | 10/15 [06:27<03:08, 37.80s/it, best loss: 0.05335031893413087]\u001b[A\n",
            " 73%|███████▎  | 11/15 [06:48<02:10, 32.56s/it, best loss: 0.05329393301075358]\u001b[A\n",
            " 80%|████████  | 12/15 [08:02<02:15, 45.22s/it, best loss: 0.05329393301075358]\u001b[A\n",
            " 87%|████████▋ | 13/15 [08:41<01:26, 43.24s/it, best loss: 0.05329393301075358]\u001b[A\n",
            " 93%|█████████▎| 14/15 [09:01<00:36, 36.17s/it, best loss: 0.05329393301075358]\u001b[A\n",
            "100%|██████████| 15/15 [10:11<00:00, 40.79s/it, best loss: 0.05329393301075358]"
          ]
        },
        {
          "metadata": {
            "tags": null
          },
          "name": "stderr",
          "output_type": "stream",
          "text": [
            "\r 30%|███       | 18/60 [3:02:06<7:31:27, 644.93s/it]"
          ]
        },
        {
          "metadata": {
            "tags": null
          },
          "name": "stdout",
          "output_type": "stream",
          "text": [
            "\n",
            "\n",
            "  0%|          | 0/15 [00:00<?, ?it/s, best loss: ?]\u001b[A\n",
            "  7%|▋         | 1/15 [00:20<04:49, 20.69s/it, best loss: 0.05010781402699363]\u001b[A\n",
            " 13%|█▎        | 2/15 [02:34<18:54, 87.30s/it, best loss: 0.05010781402699363]\u001b[A\n",
            " 20%|██        | 3/15 [03:16<13:18, 66.53s/it, best loss: 0.05010781402699363]\u001b[A\n",
            " 27%|██▋       | 4/15 [04:33<12:56, 70.58s/it, best loss: 0.05010781402699363]\u001b[A\n",
            " 33%|███▎      | 5/15 [04:51<08:35, 51.55s/it, best loss: 0.050049467079263825]\u001b[A\n",
            " 40%|████      | 6/15 [05:45<07:53, 52.58s/it, best loss: 0.050049467079263825]\u001b[A\n",
            " 47%|████▋     | 7/15 [06:54<07:44, 58.04s/it, best loss: 0.050049467079263825]\u001b[A\n",
            " 53%|█████▎    | 8/15 [07:08<05:08, 44.03s/it, best loss: 0.050049467079263825]\u001b[A\n",
            " 60%|██████    | 9/15 [07:47<04:13, 42.19s/it, best loss: 0.050049467079263825]\u001b[A\n",
            " 67%|██████▋   | 10/15 [08:27<03:28, 41.71s/it, best loss: 0.050049467079263825]\u001b[A\n",
            " 73%|███████▎  | 11/15 [08:51<02:25, 36.26s/it, best loss: 0.050049467079263825]\u001b[A\n",
            " 80%|████████  | 12/15 [09:48<02:07, 42.64s/it, best loss: 0.050049467079263825]\u001b[A\n",
            " 87%|████████▋ | 13/15 [10:54<01:39, 49.68s/it, best loss: 0.050049467079263825]\u001b[A\n",
            " 93%|█████████▎| 14/15 [12:11<00:57, 57.77s/it, best loss: 0.050049467079263825]\u001b[A\n",
            "100%|██████████| 15/15 [13:04<00:00, 52.30s/it, best loss: 0.050049467079263825]"
          ]
        },
        {
          "metadata": {
            "tags": null
          },
          "name": "stderr",
          "output_type": "stream",
          "text": [
            "\r 32%|███▏      | 19/60 [3:15:10<7:49:21, 686.88s/it]"
          ]
        },
        {
          "metadata": {
            "tags": null
          },
          "name": "stdout",
          "output_type": "stream",
          "text": [
            "\n",
            "\n",
            "  0%|          | 0/15 [00:00<?, ?it/s, best loss: ?]\u001b[A\n",
            "  7%|▋         | 1/15 [00:45<10:30, 45.03s/it, best loss: 0.06454267303203541]\u001b[A\n",
            " 13%|█▎        | 2/15 [02:18<15:55, 73.48s/it, best loss: 0.06454267303203541]\u001b[A\n",
            " 20%|██        | 3/15 [02:52<11:08, 55.68s/it, best loss: 0.06454267303203541]\u001b[A\n",
            " 27%|██▋       | 4/15 [04:15<12:09, 66.34s/it, best loss: 0.06415187690414861]\u001b[A\n",
            " 33%|███▎      | 5/15 [05:18<10:51, 65.11s/it, best loss: 0.06415187690414861]\u001b[A\n",
            " 40%|████      | 6/15 [05:27<06:54, 46.06s/it, best loss: 0.06371040528119357]\u001b[A\n",
            " 47%|████▋     | 7/15 [05:41<04:44, 35.56s/it, best loss: 0.06287138114732894]\u001b[A\n",
            " 53%|█████▎    | 8/15 [06:39<04:58, 42.60s/it, best loss: 0.06287138114732894]\u001b[A\n",
            " 60%|██████    | 9/15 [08:14<05:54, 59.13s/it, best loss: 0.06287138114732894]\u001b[A\n",
            " 67%|██████▋   | 10/15 [08:35<03:55, 47.14s/it, best loss: 0.06287138114732894]\u001b[A\n",
            " 73%|███████▎  | 11/15 [08:51<02:30, 37.65s/it, best loss: 0.06287138114732894]\u001b[A\n",
            " 80%|████████  | 12/15 [09:30<01:54, 38.22s/it, best loss: 0.06287138114732894]\u001b[A\n",
            " 87%|████████▋ | 13/15 [11:04<01:50, 55.16s/it, best loss: 0.06287138114732894]\u001b[A\n",
            " 93%|█████████▎| 14/15 [11:21<00:43, 43.57s/it, best loss: 0.06287138114732894]\u001b[A\n",
            "100%|██████████| 15/15 [12:40<00:00, 50.69s/it, best loss: 0.06287138114732894]"
          ]
        },
        {
          "metadata": {
            "tags": null
          },
          "name": "stderr",
          "output_type": "stream",
          "text": [
            "\r 33%|███▎      | 20/60 [3:27:51<7:52:38, 708.96s/it]"
          ]
        },
        {
          "metadata": {
            "tags": null
          },
          "name": "stdout",
          "output_type": "stream",
          "text": [
            "\n",
            "\n",
            "  0%|          | 0/15 [00:00<?, ?it/s, best loss: ?]\u001b[A\n",
            "  7%|▋         | 1/15 [00:49<11:33, 49.55s/it, best loss: 0.06566265237989048]\u001b[A\n",
            " 13%|█▎        | 2/15 [01:12<07:19, 33.77s/it, best loss: 0.06554599493078501]\u001b[A\n",
            " 20%|██        | 3/15 [02:17<09:35, 47.98s/it, best loss: 0.06554599493078501]\u001b[A\n",
            " 27%|██▋       | 4/15 [02:28<06:08, 33.46s/it, best loss: 0.06554599493078501]\u001b[A\n",
            " 33%|███▎      | 5/15 [03:05<05:49, 34.91s/it, best loss: 0.06554599493078501]\u001b[A\n",
            " 40%|████      | 6/15 [04:43<08:25, 56.17s/it, best loss: 0.06554599493078501]\u001b[A\n",
            " 47%|████▋     | 7/15 [05:24<06:49, 51.22s/it, best loss: 0.06554599493078501]\u001b[A\n",
            " 53%|█████▎    | 8/15 [05:38<04:35, 39.35s/it, best loss: 0.06530828646485923]\u001b[A\n",
            " 60%|██████    | 9/15 [06:28<04:16, 42.72s/it, best loss: 0.06530828646485923]\u001b[A\n",
            " 67%|██████▋   | 10/15 [07:02<03:20, 40.16s/it, best loss: 0.06530828646485923]\u001b[A\n",
            " 73%|███████▎  | 11/15 [07:21<02:14, 33.55s/it, best loss: 0.06530828646485923]\u001b[A\n",
            " 80%|████████  | 12/15 [07:47<01:34, 31.41s/it, best loss: 0.06530828646485923]\u001b[A\n",
            " 87%|████████▋ | 13/15 [08:15<01:00, 30.25s/it, best loss: 0.06530828646485923]\u001b[A\n",
            " 93%|█████████▎| 14/15 [08:27<00:24, 24.82s/it, best loss: 0.0647532275052169] \u001b[A\n",
            "100%|██████████| 15/15 [08:44<00:00, 34.96s/it, best loss: 0.0647532275052169]"
          ]
        },
        {
          "metadata": {
            "tags": null
          },
          "name": "stderr",
          "output_type": "stream",
          "text": [
            "\r 35%|███▌      | 21/60 [3:36:35<7:04:49, 653.57s/it]"
          ]
        },
        {
          "metadata": {
            "tags": null
          },
          "name": "stdout",
          "output_type": "stream",
          "text": [
            "\n",
            "\n",
            "  0%|          | 0/15 [00:00<?, ?it/s, best loss: ?]\u001b[A\n",
            "  7%|▋         | 1/15 [00:32<07:34, 32.48s/it, best loss: 0.06472049020823596]\u001b[A\n",
            " 13%|█▎        | 2/15 [01:30<10:16, 47.43s/it, best loss: 0.06472049020823596]\u001b[A\n",
            " 20%|██        | 3/15 [01:52<07:10, 35.91s/it, best loss: 0.06433770957226098]\u001b[A\n",
            " 27%|██▋       | 4/15 [02:27<06:32, 35.69s/it, best loss: 0.06433770957226098]\u001b[A\n",
            " 33%|███▎      | 5/15 [03:16<06:42, 40.29s/it, best loss: 0.06433770957226098]\u001b[A\n",
            " 40%|████      | 6/15 [04:11<06:46, 45.19s/it, best loss: 0.06433770957226098]\u001b[A\n",
            " 47%|████▋     | 7/15 [04:42<05:25, 40.68s/it, best loss: 0.06433770957226098]\u001b[A\n",
            " 53%|█████▎    | 8/15 [04:55<03:43, 31.99s/it, best loss: 0.06433770957226098]\u001b[A\n",
            " 60%|██████    | 9/15 [05:02<02:24, 24.11s/it, best loss: 0.06433770957226098]\u001b[A\n",
            " 67%|██████▋   | 10/15 [06:38<03:51, 46.27s/it, best loss: 0.06433770957226098]\u001b[A\n",
            " 73%|███████▎  | 11/15 [07:31<03:12, 48.19s/it, best loss: 0.06432052801690852]\u001b[A\n",
            " 80%|████████  | 12/15 [08:40<02:44, 54.69s/it, best loss: 0.06406690843808675]\u001b[A\n",
            " 87%|████████▋ | 13/15 [09:33<01:48, 54.22s/it, best loss: 0.06406690843808675]\u001b[A\n",
            " 93%|█████████▎| 14/15 [09:54<00:44, 44.21s/it, best loss: 0.06406690843808675]\u001b[A\n",
            "100%|██████████| 15/15 [10:12<00:00, 40.81s/it, best loss: 0.06406690843808675]"
          ]
        },
        {
          "metadata": {
            "tags": null
          },
          "name": "stderr",
          "output_type": "stream",
          "text": [
            "\r 37%|███▋      | 22/60 [3:46:47<6:46:04, 641.17s/it]"
          ]
        },
        {
          "metadata": {
            "tags": null
          },
          "name": "stdout",
          "output_type": "stream",
          "text": [
            "\n",
            "\n",
            "  0%|          | 0/15 [00:00<?, ?it/s, best loss: ?]\u001b[A\n",
            "  7%|▋         | 1/15 [01:05<15:20, 65.79s/it, best loss: 0.07050934057710466]\u001b[A\n",
            " 13%|█▎        | 2/15 [01:11<06:33, 30.23s/it, best loss: 0.06850680097227134]\u001b[A\n",
            " 20%|██        | 3/15 [01:25<04:37, 23.10s/it, best loss: 0.06850680097227134]\u001b[A\n",
            " 27%|██▋       | 4/15 [02:07<05:35, 30.52s/it, best loss: 0.06850680097227134]\u001b[A\n",
            " 33%|███▎      | 5/15 [02:34<04:50, 29.07s/it, best loss: 0.06850680097227134]\u001b[A\n",
            " 40%|████      | 6/15 [03:03<04:23, 29.28s/it, best loss: 0.06850680097227134]\u001b[A\n",
            " 47%|████▋     | 7/15 [03:48<04:34, 34.29s/it, best loss: 0.06850680097227134]\u001b[A\n",
            " 53%|█████▎    | 8/15 [03:58<03:06, 26.58s/it, best loss: 0.06850680097227134]\u001b[A\n",
            " 60%|██████    | 9/15 [04:17<02:25, 24.20s/it, best loss: 0.06850680097227134]\u001b[A\n",
            " 67%|██████▋   | 10/15 [04:37<01:54, 22.83s/it, best loss: 0.06810369008843435]\u001b[A\n",
            " 73%|███████▎  | 11/15 [05:15<01:50, 27.64s/it, best loss: 0.06810369008843435]\u001b[A\n",
            " 80%|████████  | 12/15 [06:03<01:41, 33.89s/it, best loss: 0.06810369008843435]\u001b[A\n",
            " 87%|████████▋ | 13/15 [07:07<01:25, 42.79s/it, best loss: 0.06810369008843435]\u001b[A\n",
            " 93%|█████████▎| 14/15 [07:16<00:32, 32.63s/it, best loss: 0.06810369008843435]\u001b[A\n",
            "100%|██████████| 15/15 [08:30<00:00, 34.01s/it, best loss: 0.06810369008843435]"
          ]
        },
        {
          "metadata": {
            "tags": null
          },
          "name": "stderr",
          "output_type": "stream",
          "text": [
            "\r 38%|███▊      | 23/60 [3:55:18<6:11:09, 601.87s/it]"
          ]
        },
        {
          "metadata": {
            "tags": null
          },
          "name": "stdout",
          "output_type": "stream",
          "text": [
            "\n",
            "\n",
            "  0%|          | 0/15 [00:00<?, ?it/s, best loss: ?]\u001b[A\n",
            "  7%|▋         | 1/15 [00:15<03:42, 15.93s/it, best loss: 0.051233191687528115]\u001b[A\n",
            " 13%|█▎        | 2/15 [00:24<02:30, 11.59s/it, best loss: 0.050868425511349485]\u001b[A\n",
            " 20%|██        | 3/15 [01:18<06:13, 31.09s/it, best loss: 0.050868425511349485]\u001b[A\n",
            " 27%|██▋       | 4/15 [01:42<05:09, 28.10s/it, best loss: 0.050868425511349485]\u001b[A\n",
            " 33%|███▎      | 5/15 [02:07<04:32, 27.24s/it, best loss: 0.050868425511349485]\u001b[A\n",
            " 40%|████      | 6/15 [02:42<04:27, 29.72s/it, best loss: 0.050868425511349485]\u001b[A\n",
            " 47%|████▋     | 7/15 [03:32<04:50, 36.29s/it, best loss: 0.050868425511349485]\u001b[A\n",
            " 53%|█████▎    | 8/15 [04:33<05:10, 44.34s/it, best loss: 0.050868425511349485]\u001b[A\n",
            " 60%|██████    | 9/15 [05:53<05:31, 55.21s/it, best loss: 0.050868425511349485]\u001b[A\n",
            " 67%|██████▋   | 10/15 [06:58<04:52, 58.41s/it, best loss: 0.050868425511349485]\u001b[A\n",
            " 73%|███████▎  | 11/15 [08:02<03:59, 59.98s/it, best loss: 0.050868425511349485]\u001b[A\n",
            " 80%|████████  | 12/15 [08:43<02:42, 54.29s/it, best loss: 0.050868425511349485]\u001b[A\n",
            " 87%|████████▋ | 13/15 [09:22<01:39, 49.62s/it, best loss: 0.050868425511349485]\u001b[A\n",
            " 93%|█████████▎| 14/15 [10:02<00:46, 46.91s/it, best loss: 0.050868425511349485]\u001b[A\n",
            "100%|██████████| 15/15 [10:50<00:00, 43.34s/it, best loss: 0.050868425511349485]"
          ]
        },
        {
          "metadata": {
            "tags": null
          },
          "name": "stderr",
          "output_type": "stream",
          "text": [
            "\r 40%|████      | 24/60 [4:06:08<6:09:49, 616.38s/it]"
          ]
        },
        {
          "metadata": {
            "tags": null
          },
          "name": "stdout",
          "output_type": "stream",
          "text": [
            "\n",
            "\n",
            "  0%|          | 0/15 [00:00<?, ?it/s, best loss: ?]\u001b[A\n",
            "  7%|▋         | 1/15 [00:28<06:42, 28.78s/it, best loss: 0.07415713330451966]\u001b[A\n",
            " 13%|█▎        | 2/15 [00:31<02:54, 13.42s/it, best loss: 0.07273068457015686]\u001b[A\n",
            " 20%|██        | 3/15 [00:59<04:02, 20.24s/it, best loss: 0.07273068457015686]\u001b[A\n",
            " 27%|██▋       | 4/15 [01:28<04:18, 23.48s/it, best loss: 0.07273068457015686]\u001b[A\n",
            " 33%|███▎      | 5/15 [01:56<04:11, 25.18s/it, best loss: 0.07273068457015686]\u001b[A\n",
            " 40%|████      | 6/15 [03:31<07:21, 49.00s/it, best loss: 0.07273068457015686]\u001b[A\n",
            " 47%|████▋     | 7/15 [03:37<04:40, 35.03s/it, best loss: 0.07273068457015686]\u001b[A\n",
            " 53%|█████▎    | 8/15 [04:12<04:04, 34.90s/it, best loss: 0.07273068457015686]\u001b[A\n",
            " 60%|██████    | 9/15 [04:25<02:48, 28.01s/it, best loss: 0.07273068457015686]\u001b[A\n",
            " 67%|██████▋   | 10/15 [04:46<02:09, 25.80s/it, best loss: 0.07273068457015686]\u001b[A\n",
            " 73%|███████▎  | 11/15 [05:03<01:32, 23.13s/it, best loss: 0.07273068457015686]\u001b[A\n",
            " 80%|████████  | 12/15 [05:19<01:02, 20.87s/it, best loss: 0.07273068457015686]\u001b[A\n",
            " 87%|████████▋ | 13/15 [05:27<00:34, 17.08s/it, best loss: 0.07273068457015686]\u001b[A\n",
            " 93%|█████████▎| 14/15 [05:56<00:20, 20.59s/it, best loss: 0.07273068457015686]\u001b[A\n",
            "100%|██████████| 15/15 [06:17<00:00, 25.17s/it, best loss: 0.07273068457015686]"
          ]
        },
        {
          "metadata": {
            "tags": null
          },
          "name": "stderr",
          "output_type": "stream",
          "text": [
            "\r 42%|████▏     | 25/60 [4:12:25<5:17:45, 544.73s/it]"
          ]
        },
        {
          "metadata": {
            "tags": null
          },
          "name": "stdout",
          "output_type": "stream",
          "text": [
            "\n",
            "\n",
            "  0%|          | 0/15 [00:00<?, ?it/s, best loss: ?]\u001b[A\n",
            "  7%|▋         | 1/15 [00:57<13:28, 57.73s/it, best loss: 0.08567651552243152]\u001b[A\n",
            " 13%|█▎        | 2/15 [02:02<13:26, 62.01s/it, best loss: 0.08473674977689628]\u001b[A\n",
            " 20%|██        | 3/15 [02:22<08:33, 42.83s/it, best loss: 0.08385721068479554]\u001b[A\n",
            " 27%|██▋       | 4/15 [02:25<04:58, 27.11s/it, best loss: 0.08385721068479554]\u001b[A\n",
            " 33%|███▎      | 5/15 [03:12<05:40, 34.03s/it, best loss: 0.08350691558154666]\u001b[A\n",
            " 40%|████      | 6/15 [03:22<03:53, 25.97s/it, best loss: 0.08350691558154666]\u001b[A\n",
            " 47%|████▋     | 7/15 [03:59<03:57, 29.70s/it, best loss: 0.08343791624295435]\u001b[A\n",
            " 53%|█████▎    | 8/15 [04:51<04:16, 36.71s/it, best loss: 0.08343791624295435]\u001b[A\n",
            " 60%|██████    | 9/15 [05:35<03:53, 38.89s/it, best loss: 0.08343791624295435]\u001b[A\n",
            " 67%|██████▋   | 10/15 [06:30<03:40, 44.02s/it, best loss: 0.08343791624295435]\u001b[A\n",
            " 73%|███████▎  | 11/15 [06:44<02:19, 34.76s/it, best loss: 0.08343791624295435]\u001b[A\n",
            " 80%|████████  | 12/15 [07:01<01:28, 29.46s/it, best loss: 0.08343791624295435]\u001b[A\n",
            " 87%|████████▋ | 13/15 [07:26<00:56, 28.02s/it, best loss: 0.08343791624295435]\u001b[A\n",
            " 93%|█████████▎| 14/15 [08:04<00:31, 31.19s/it, best loss: 0.08343791624295435]\u001b[A\n",
            "100%|██████████| 15/15 [09:25<00:00, 37.73s/it, best loss: 0.08343791624295435]"
          ]
        },
        {
          "metadata": {
            "tags": null
          },
          "name": "stderr",
          "output_type": "stream",
          "text": [
            "\r 43%|████▎     | 26/60 [4:21:51<5:12:17, 551.09s/it]"
          ]
        },
        {
          "metadata": {
            "tags": null
          },
          "name": "stdout",
          "output_type": "stream",
          "text": [
            "\n",
            "\n",
            "  0%|          | 0/15 [00:00<?, ?it/s, best loss: ?]\u001b[A\n",
            "  7%|▋         | 1/15 [00:19<04:36, 19.79s/it, best loss: 0.05941417700510921]\u001b[A\n",
            " 13%|█▎        | 2/15 [01:59<14:30, 66.95s/it, best loss: 0.05941417700510921]\u001b[A\n",
            " 20%|██        | 3/15 [03:31<15:41, 78.45s/it, best loss: 0.05941417700510921]\u001b[A\n",
            " 27%|██▋       | 4/15 [04:29<12:50, 70.03s/it, best loss: 0.05941417700510921]\u001b[A\n",
            " 33%|███▎      | 5/15 [04:59<09:18, 55.82s/it, best loss: 0.05941417700510921]\u001b[A\n",
            " 40%|████      | 6/15 [05:12<06:09, 41.10s/it, best loss: 0.05941417700510921]\u001b[A\n",
            " 47%|████▋     | 7/15 [06:02<05:52, 44.04s/it, best loss: 0.05941417700510921]\u001b[A\n",
            " 53%|█████▎    | 8/15 [07:31<06:49, 58.49s/it, best loss: 0.05941417700510921]\u001b[A\n",
            " 60%|██████    | 9/15 [08:32<05:54, 59.06s/it, best loss: 0.05941417700510921]\u001b[A\n",
            " 67%|██████▋   | 10/15 [08:49<03:51, 46.25s/it, best loss: 0.05941417700510921]\u001b[A\n",
            " 73%|███████▎  | 11/15 [09:03<02:25, 36.26s/it, best loss: 0.05941417700510921]\u001b[A\n",
            " 80%|████████  | 12/15 [09:36<01:46, 35.46s/it, best loss: 0.05941417700510921]\u001b[A\n",
            " 87%|████████▋ | 13/15 [10:42<01:29, 44.57s/it, best loss: 0.05941417700510921]\u001b[A\n",
            " 93%|█████████▎| 14/15 [10:52<00:34, 34.07s/it, best loss: 0.059204456932356625]\u001b[A\n",
            "100%|██████████| 15/15 [10:59<00:00, 43.97s/it, best loss: 0.059204456932356625]"
          ]
        },
        {
          "metadata": {
            "tags": null
          },
          "name": "stderr",
          "output_type": "stream",
          "text": [
            "\r 45%|████▌     | 27/60 [4:32:51<5:20:59, 583.63s/it]"
          ]
        },
        {
          "metadata": {
            "tags": null
          },
          "name": "stdout",
          "output_type": "stream",
          "text": [
            "\n",
            "\n",
            "  0%|          | 0/15 [00:00<?, ?it/s, best loss: ?]\u001b[A\n",
            "  7%|▋         | 1/15 [00:56<13:07, 56.23s/it, best loss: 0.07326004594599211]\u001b[A\n",
            " 13%|█▎        | 2/15 [01:02<05:51, 27.06s/it, best loss: 0.06869694564821453]\u001b[A\n",
            " 20%|██        | 3/15 [01:06<03:15, 16.26s/it, best loss: 0.06869694564821453]\u001b[A\n",
            " 27%|██▋       | 4/15 [02:29<07:50, 42.82s/it, best loss: 0.06869694564821453]\u001b[A\n",
            " 33%|███▎      | 5/15 [02:42<05:20, 32.01s/it, best loss: 0.06869694564821453]\u001b[A\n",
            " 40%|████      | 6/15 [03:46<06:25, 42.88s/it, best loss: 0.06869694564821453]\u001b[A\n",
            " 47%|████▋     | 7/15 [04:29<05:43, 42.99s/it, best loss: 0.06869694564821453]\u001b[A\n",
            " 53%|█████▎    | 8/15 [04:46<04:02, 34.60s/it, best loss: 0.06869694564821453]\u001b[A\n",
            " 60%|██████    | 9/15 [04:53<02:35, 25.94s/it, best loss: 0.06869694564821453]\u001b[A\n",
            " 67%|██████▋   | 10/15 [05:16<02:05, 25.06s/it, best loss: 0.06869694564821453]\u001b[A\n",
            " 73%|███████▎  | 11/15 [05:22<01:16, 19.08s/it, best loss: 0.06869694564821453]\u001b[A\n",
            " 80%|████████  | 12/15 [06:43<01:54, 38.05s/it, best loss: 0.06869694564821453]\u001b[A\n",
            " 87%|████████▋ | 13/15 [07:53<01:35, 47.70s/it, best loss: 0.06869694564821453]\u001b[A\n",
            " 93%|█████████▎| 14/15 [08:25<00:42, 42.97s/it, best loss: 0.06869694564821453]\u001b[A\n",
            "100%|██████████| 15/15 [09:10<00:00, 36.73s/it, best loss: 0.06869694564821453]"
          ]
        },
        {
          "metadata": {
            "tags": null
          },
          "name": "stderr",
          "output_type": "stream",
          "text": [
            "\r 47%|████▋     | 28/60 [4:42:02<5:06:03, 573.86s/it]"
          ]
        },
        {
          "metadata": {
            "tags": null
          },
          "name": "stdout",
          "output_type": "stream",
          "text": [
            "\n",
            "\n",
            "  0%|          | 0/15 [00:00<?, ?it/s, best loss: ?]\u001b[A\n",
            "  7%|▋         | 1/15 [00:42<09:53, 42.40s/it, best loss: 0.06806329048211393]\u001b[A\n",
            " 13%|█▎        | 2/15 [00:51<04:56, 22.79s/it, best loss: 0.06713075798540083]\u001b[A\n",
            " 20%|██        | 3/15 [01:05<03:43, 18.66s/it, best loss: 0.06573752870668435]\u001b[A\n",
            " 27%|██▋       | 4/15 [01:14<02:45, 15.04s/it, best loss: 0.06573752870668435]\u001b[A\n",
            " 33%|███▎      | 5/15 [01:44<03:22, 20.22s/it, best loss: 0.06573752870668435]\u001b[A\n",
            " 40%|████      | 6/15 [02:52<05:29, 36.63s/it, best loss: 0.06573752870668435]\u001b[A\n",
            " 47%|████▋     | 7/15 [04:13<06:49, 51.22s/it, best loss: 0.06573752870668435]\u001b[A\n",
            " 53%|█████▎    | 8/15 [04:34<04:51, 41.64s/it, best loss: 0.06573752870668435]\u001b[A\n",
            " 60%|██████    | 9/15 [05:38<04:51, 48.59s/it, best loss: 0.06573752870668435]\u001b[A\n",
            " 67%|██████▋   | 10/15 [06:20<03:51, 46.34s/it, best loss: 0.06573752870668435]\u001b[A\n",
            " 73%|███████▎  | 11/15 [06:28<02:18, 34.59s/it, best loss: 0.06573752870668435]\u001b[A\n",
            " 80%|████████  | 12/15 [08:04<02:40, 53.54s/it, best loss: 0.06573752870668435]\u001b[A\n",
            " 87%|████████▋ | 13/15 [08:25<01:27, 43.66s/it, best loss: 0.06573752870668435]\u001b[A\n",
            " 93%|█████████▎| 14/15 [08:35<00:33, 33.35s/it, best loss: 0.06573752870668435]\u001b[A\n",
            "100%|██████████| 15/15 [09:09<00:00, 36.66s/it, best loss: 0.06573752870668435]"
          ]
        },
        {
          "metadata": {
            "tags": null
          },
          "name": "stderr",
          "output_type": "stream",
          "text": [
            "\r 48%|████▊     | 29/60 [4:51:12<4:52:48, 566.71s/it]"
          ]
        },
        {
          "metadata": {
            "tags": null
          },
          "name": "stdout",
          "output_type": "stream",
          "text": [
            "\n",
            "\n",
            "  0%|          | 0/15 [00:00<?, ?it/s, best loss: ?]\u001b[A\n",
            "  7%|▋         | 1/15 [00:40<09:27, 40.54s/it, best loss: 0.060154464701012544]\u001b[A\n",
            " 13%|█▎        | 2/15 [00:45<04:13, 19.52s/it, best loss: 0.05793353359053605] \u001b[A\n",
            " 20%|██        | 3/15 [01:18<05:06, 25.57s/it, best loss: 0.05793353359053605]\u001b[A\n",
            " 27%|██▋       | 4/15 [01:35<04:07, 22.52s/it, best loss: 0.05793353359053605]\u001b[A\n",
            " 33%|███▎      | 5/15 [02:30<05:40, 34.04s/it, best loss: 0.05793353359053605]\u001b[A\n",
            " 40%|████      | 6/15 [02:57<04:46, 31.82s/it, best loss: 0.05793353359053605]\u001b[A\n",
            " 47%|████▋     | 7/15 [03:09<03:21, 25.17s/it, best loss: 0.05793353359053605]\u001b[A\n",
            " 53%|█████▎    | 8/15 [03:43<03:16, 28.12s/it, best loss: 0.05793353359053605]\u001b[A\n",
            " 60%|██████    | 9/15 [03:46<02:00, 20.09s/it, best loss: 0.057534954024625135]\u001b[A\n",
            " 67%|██████▋   | 10/15 [04:39<02:30, 30.18s/it, best loss: 0.057534954024625135]\u001b[A\n",
            " 73%|███████▎  | 11/15 [05:19<02:13, 33.45s/it, best loss: 0.057534954024625135]\u001b[A\n",
            " 80%|████████  | 12/15 [06:53<02:35, 51.71s/it, best loss: 0.057534954024625135]\u001b[A\n",
            " 87%|████████▋ | 13/15 [07:18<01:27, 43.78s/it, best loss: 0.057534954024625135]\u001b[A\n",
            " 93%|█████████▎| 14/15 [07:21<00:31, 31.47s/it, best loss: 0.05752640589673623] \u001b[A\n",
            "100%|██████████| 15/15 [08:36<00:00, 34.42s/it, best loss: 0.05752640589673623]"
          ]
        },
        {
          "metadata": {
            "tags": null
          },
          "name": "stderr",
          "output_type": "stream",
          "text": [
            "\r 50%|█████     | 30/60 [4:59:48<4:35:48, 551.63s/it]"
          ]
        },
        {
          "metadata": {
            "tags": null
          },
          "name": "stdout",
          "output_type": "stream",
          "text": [
            "\n",
            "\n",
            "  0%|          | 0/15 [00:00<?, ?it/s, best loss: ?]\u001b[A\n",
            "  7%|▋         | 1/15 [00:51<11:55, 51.11s/it, best loss: 0.07107793630791835]\u001b[A\n",
            " 13%|█▎        | 2/15 [01:50<12:04, 55.75s/it, best loss: 0.07086955800316051]\u001b[A\n",
            " 20%|██        | 3/15 [02:30<09:45, 48.77s/it, best loss: 0.07086955800316051]\u001b[A\n",
            " 27%|██▋       | 4/15 [03:18<08:50, 48.25s/it, best loss: 0.07077675890115998]\u001b[A\n",
            " 33%|███▎      | 5/15 [04:26<09:16, 55.63s/it, best loss: 0.07077675890115998]\u001b[A\n",
            " 40%|████      | 6/15 [05:20<08:15, 55.11s/it, best loss: 0.07077675890115998]\u001b[A\n",
            " 47%|████▋     | 7/15 [05:58<06:34, 49.26s/it, best loss: 0.07063457155485149]\u001b[A\n",
            " 53%|█████▎    | 8/15 [06:23<04:51, 41.64s/it, best loss: 0.06974617818754159]\u001b[A\n",
            " 60%|██████    | 9/15 [06:26<02:57, 29.64s/it, best loss: 0.06939548134716371]\u001b[A\n",
            " 67%|██████▋   | 10/15 [06:34<01:54, 22.84s/it, best loss: 0.06939548134716371]\u001b[A\n",
            " 73%|███████▎  | 11/15 [07:09<01:47, 26.78s/it, best loss: 0.06939548134716371]\u001b[A\n",
            " 80%|████████  | 12/15 [08:55<02:32, 50.73s/it, best loss: 0.06939548134716371]\u001b[A\n",
            " 87%|████████▋ | 13/15 [10:16<02:00, 60.06s/it, best loss: 0.06939548134716371]\u001b[A\n",
            " 93%|█████████▎| 14/15 [11:26<01:03, 63.00s/it, best loss: 0.06939548134716371]\u001b[A\n",
            "100%|██████████| 15/15 [12:09<00:00, 48.65s/it, best loss: 0.06939548134716371]"
          ]
        },
        {
          "metadata": {
            "tags": null
          },
          "name": "stderr",
          "output_type": "stream",
          "text": [
            "\r 52%|█████▏    | 31/60 [5:11:58<4:52:27, 605.10s/it]"
          ]
        },
        {
          "metadata": {
            "tags": null
          },
          "name": "stdout",
          "output_type": "stream",
          "text": [
            "\n",
            "\n",
            "  0%|          | 0/15 [00:00<?, ?it/s, best loss: ?]\u001b[A\n",
            "  7%|▋         | 1/15 [00:21<05:06, 21.86s/it, best loss: 0.0650907729850906]\u001b[A\n",
            " 13%|█▎        | 2/15 [01:20<09:26, 43.58s/it, best loss: 0.0650907729850906]\u001b[A\n",
            " 20%|██        | 3/15 [01:40<06:31, 32.64s/it, best loss: 0.0650907729850906]\u001b[A\n",
            " 27%|██▋       | 4/15 [02:03<05:19, 29.01s/it, best loss: 0.0650907729850906]\u001b[A\n",
            " 33%|███▎      | 5/15 [02:36<05:05, 30.53s/it, best loss: 0.0650907729850906]\u001b[A\n",
            " 40%|████      | 6/15 [03:18<05:09, 34.34s/it, best loss: 0.0650907729850906]\u001b[A\n",
            " 47%|████▋     | 7/15 [04:09<05:17, 39.68s/it, best loss: 0.0650907729850906]\u001b[A\n",
            " 53%|█████▎    | 8/15 [05:32<06:13, 53.42s/it, best loss: 0.06506886348253334]\u001b[A\n",
            " 60%|██████    | 9/15 [06:29<05:28, 54.73s/it, best loss: 0.06506886348253334]\u001b[A\n",
            " 67%|██████▋   | 10/15 [07:10<04:12, 50.50s/it, best loss: 0.06506886348253334]\u001b[A\n",
            " 73%|███████▎  | 11/15 [07:57<03:16, 49.18s/it, best loss: 0.06506886348253334]\u001b[A\n",
            " 80%|████████  | 12/15 [09:08<02:47, 55.96s/it, best loss: 0.06506886348253334]\u001b[A\n",
            " 87%|████████▋ | 13/15 [09:55<01:46, 53.29s/it, best loss: 0.06506886348253334]\u001b[A\n",
            " 93%|█████████▎| 14/15 [10:34<00:48, 48.87s/it, best loss: 0.06506886348253334]\u001b[A\n",
            "100%|██████████| 15/15 [11:23<00:00, 45.54s/it, best loss: 0.06506886348253334]"
          ]
        },
        {
          "metadata": {
            "tags": null
          },
          "name": "stderr",
          "output_type": "stream",
          "text": [
            "\r 53%|█████▎    | 32/60 [5:23:21<4:53:18, 628.53s/it]"
          ]
        },
        {
          "metadata": {
            "tags": null
          },
          "name": "stdout",
          "output_type": "stream",
          "text": [
            "\n",
            "\n",
            "  0%|          | 0/15 [00:00<?, ?it/s, best loss: ?]\u001b[A\n",
            "  7%|▋         | 1/15 [00:20<04:41, 20.10s/it, best loss: 0.05404008325577046]\u001b[A\n",
            " 13%|█▎        | 2/15 [01:05<07:32, 34.79s/it, best loss: 0.05404008325577046]\u001b[A\n",
            " 20%|██        | 3/15 [01:11<04:18, 21.57s/it, best loss: 0.052910035673576335]\u001b[A\n",
            " 27%|██▋       | 4/15 [02:20<07:26, 40.62s/it, best loss: 0.052910035673576335]\u001b[A\n",
            " 33%|███▎      | 5/15 [02:50<06:08, 36.83s/it, best loss: 0.052910035673576335]\u001b[A\n",
            " 40%|████      | 6/15 [03:18<05:03, 33.69s/it, best loss: 0.052910035673576335]\u001b[A\n",
            " 47%|████▋     | 7/15 [03:40<03:59, 29.93s/it, best loss: 0.052910035673576335]\u001b[A\n",
            " 53%|█████▎    | 8/15 [04:01<03:09, 27.11s/it, best loss: 0.05268158385237772] \u001b[A\n",
            " 60%|██████    | 9/15 [04:21<02:29, 24.89s/it, best loss: 0.05268158385237772]\u001b[A\n",
            " 67%|██████▋   | 10/15 [05:01<02:27, 29.58s/it, best loss: 0.05268158385237772]\u001b[A\n",
            " 73%|███████▎  | 11/15 [05:47<02:17, 34.45s/it, best loss: 0.052009106019150986]\u001b[A\n",
            " 80%|████████  | 12/15 [06:37<01:57, 39.29s/it, best loss: 0.052009106019150986]\u001b[A\n",
            " 87%|████████▋ | 13/15 [06:46<01:00, 30.02s/it, best loss: 0.052009106019150986]\u001b[A\n",
            " 93%|█████████▎| 14/15 [06:51<00:22, 22.58s/it, best loss: 0.052009106019150986]\u001b[A\n",
            "100%|██████████| 15/15 [08:11<00:00, 32.78s/it, best loss: 0.052009106019150986]"
          ]
        },
        {
          "metadata": {
            "tags": null
          },
          "name": "stderr",
          "output_type": "stream",
          "text": [
            "\r 55%|█████▌    | 33/60 [5:31:33<4:24:22, 587.48s/it]"
          ]
        },
        {
          "metadata": {
            "tags": null
          },
          "name": "stdout",
          "output_type": "stream",
          "text": [
            "\n",
            "\n",
            "  0%|          | 0/15 [00:00<?, ?it/s, best loss: ?]\u001b[A\n",
            "  7%|▋         | 1/15 [01:16<17:52, 76.62s/it, best loss: 0.14318693392108198]\u001b[A\n",
            " 13%|█▎        | 2/15 [01:32<08:49, 40.69s/it, best loss: 0.1423464556214046] \u001b[A\n",
            " 20%|██        | 3/15 [01:50<06:05, 30.50s/it, best loss: 0.14120272986931373]\u001b[A\n",
            " 27%|██▋       | 4/15 [02:55<08:05, 44.11s/it, best loss: 0.14120272986931373]\u001b[A\n",
            " 33%|███▎      | 5/15 [03:06<05:21, 32.18s/it, best loss: 0.14072058734467724]\u001b[A\n",
            " 40%|████      | 6/15 [04:00<05:55, 39.54s/it, best loss: 0.14072058734467724]\u001b[A\n",
            " 47%|████▋     | 7/15 [05:06<06:26, 48.34s/it, best loss: 0.14072058734467724]\u001b[A\n",
            " 53%|█████▎    | 8/15 [05:52<05:32, 47.46s/it, best loss: 0.14072058734467724]\u001b[A\n",
            " 60%|██████    | 9/15 [07:35<06:29, 64.89s/it, best loss: 0.14072058734467724]\u001b[A\n",
            " 67%|██████▋   | 10/15 [08:30<05:09, 61.80s/it, best loss: 0.14072058734467724]\u001b[A\n",
            " 73%|███████▎  | 11/15 [10:05<04:48, 72.11s/it, best loss: 0.14072058734467724]\u001b[A\n",
            " 80%|████████  | 12/15 [10:54<03:14, 64.92s/it, best loss: 0.14072058734467724]\u001b[A\n",
            " 87%|████████▋ | 13/15 [10:57<01:32, 46.23s/it, best loss: 0.14072058734467724]\u001b[A\n",
            " 93%|█████████▎| 14/15 [11:57<00:50, 50.30s/it, best loss: 0.14072058734467724]\u001b[A\n",
            "100%|██████████| 15/15 [12:08<00:00, 48.55s/it, best loss: 0.14072058734467724]"
          ]
        },
        {
          "metadata": {
            "tags": null
          },
          "name": "stderr",
          "output_type": "stream",
          "text": [
            "\r 57%|█████▋    | 34/60 [5:43:42<4:32:54, 629.78s/it]"
          ]
        },
        {
          "metadata": {
            "tags": null
          },
          "name": "stdout",
          "output_type": "stream",
          "text": [
            "\n",
            "\n",
            "  0%|          | 0/15 [00:00<?, ?it/s, best loss: ?]\u001b[A\n",
            "  7%|▋         | 1/15 [00:19<04:28, 19.19s/it, best loss: 0.0801197634646904]\u001b[A\n",
            " 13%|█▎        | 2/15 [00:53<06:07, 28.26s/it, best loss: 0.0801197634646904]\u001b[A\n",
            " 20%|██        | 3/15 [01:23<05:48, 29.04s/it, best loss: 0.0801197634646904]\u001b[A\n",
            " 27%|██▋       | 4/15 [01:51<05:14, 28.58s/it, best loss: 0.0801197634646904]\u001b[A\n",
            " 33%|███▎      | 5/15 [02:50<06:36, 39.68s/it, best loss: 0.0801197634646904]\u001b[A\n",
            " 40%|████      | 6/15 [03:34<06:08, 40.94s/it, best loss: 0.0801197634646904]\u001b[A\n",
            " 47%|████▋     | 7/15 [03:56<04:37, 34.64s/it, best loss: 0.08009737885169281]\u001b[A\n",
            " 53%|█████▎    | 8/15 [04:06<03:07, 26.85s/it, best loss: 0.07869225609109147]\u001b[A\n",
            " 60%|██████    | 9/15 [05:06<03:44, 37.35s/it, best loss: 0.07869225609109147]\u001b[A\n",
            " 67%|██████▋   | 10/15 [05:21<02:32, 30.47s/it, best loss: 0.07869225609109147]\u001b[A\n",
            " 73%|███████▎  | 11/15 [07:08<03:35, 53.90s/it, best loss: 0.07869225609109147]\u001b[A\n",
            " 80%|████████  | 12/15 [07:37<02:18, 46.23s/it, best loss: 0.07869225609109147]\u001b[A\n",
            " 87%|████████▋ | 13/15 [08:30<01:36, 48.18s/it, best loss: 0.07869225609109147]\u001b[A\n",
            " 93%|█████████▎| 14/15 [08:53<00:40, 40.56s/it, best loss: 0.07869225609109147]\u001b[A\n",
            "100%|██████████| 15/15 [09:31<00:00, 38.09s/it, best loss: 0.07869225609109147]"
          ]
        },
        {
          "metadata": {
            "tags": null
          },
          "name": "stderr",
          "output_type": "stream",
          "text": [
            "\r 58%|█████▊    | 35/60 [5:53:13<4:15:06, 612.26s/it]"
          ]
        },
        {
          "metadata": {
            "tags": null
          },
          "name": "stdout",
          "output_type": "stream",
          "text": [
            "\n",
            "\n",
            "  0%|          | 0/15 [00:00<?, ?it/s, best loss: ?]\u001b[A\n",
            "  7%|▋         | 1/15 [00:37<08:43, 37.37s/it, best loss: 0.12450169836815723]\u001b[A\n",
            " 13%|█▎        | 2/15 [01:42<11:38, 53.73s/it, best loss: 0.12340257778457289]\u001b[A\n",
            " 20%|██        | 3/15 [02:22<09:31, 47.60s/it, best loss: 0.12340257778457289]\u001b[A\n",
            " 27%|██▋       | 4/15 [02:31<05:53, 32.11s/it, best loss: 0.12340257778457289]\u001b[A\n",
            " 33%|███▎      | 5/15 [03:15<06:04, 36.47s/it, best loss: 0.12340257778457289]\u001b[A\n",
            " 40%|████      | 6/15 [04:50<08:29, 56.56s/it, best loss: 0.12340257778457289]\u001b[A\n",
            " 47%|████▋     | 7/15 [05:21<06:24, 48.05s/it, best loss: 0.12340257778457289]\u001b[A\n",
            " 53%|█████▎    | 8/15 [05:30<04:08, 35.49s/it, best loss: 0.12340257778457289]\u001b[A\n",
            " 60%|██████    | 9/15 [05:34<02:34, 25.77s/it, best loss: 0.12340257778457289]\u001b[A\n",
            " 67%|██████▋   | 10/15 [06:20<02:40, 32.00s/it, best loss: 0.12340257778457289]\u001b[A\n",
            " 73%|███████▎  | 11/15 [07:59<03:30, 52.56s/it, best loss: 0.12340257778457289]\u001b[A\n",
            " 80%|████████  | 12/15 [08:59<02:44, 54.83s/it, best loss: 0.12340257778457289]\u001b[A\n",
            " 87%|████████▋ | 13/15 [09:36<01:38, 49.37s/it, best loss: 0.12332711584094587]\u001b[A\n",
            " 93%|█████████▎| 14/15 [09:48<00:38, 38.18s/it, best loss: 0.12332711584094587]\u001b[A\n",
            "100%|██████████| 15/15 [10:32<00:00, 42.19s/it, best loss: 0.12332711584094587]"
          ]
        },
        {
          "metadata": {
            "tags": null
          },
          "name": "stderr",
          "output_type": "stream",
          "text": [
            "\r 60%|██████    | 36/60 [6:03:46<4:07:23, 618.46s/it]"
          ]
        },
        {
          "metadata": {
            "tags": null
          },
          "name": "stdout",
          "output_type": "stream",
          "text": [
            "\n",
            "\n",
            "  0%|          | 0/15 [00:00<?, ?it/s, best loss: ?]\u001b[A\n",
            "  7%|▋         | 1/15 [00:08<01:54,  8.16s/it, best loss: 0.11373627772113164]\u001b[A\n",
            " 13%|█▎        | 2/15 [00:46<05:40, 26.17s/it, best loss: 0.11129738724017986]\u001b[A\n",
            " 20%|██        | 3/15 [01:16<05:30, 27.56s/it, best loss: 0.10950510745830348]\u001b[A\n",
            " 27%|██▋       | 4/15 [01:27<03:53, 21.27s/it, best loss: 0.10758638663486372]\u001b[A\n",
            " 33%|███▎      | 5/15 [02:21<05:28, 32.80s/it, best loss: 0.10758638663486372]\u001b[A\n",
            " 40%|████      | 6/15 [02:46<04:32, 30.29s/it, best loss: 0.10758638663486372]\u001b[A\n",
            " 47%|████▋     | 7/15 [03:35<04:50, 36.35s/it, best loss: 0.10758638663486372]\u001b[A\n",
            " 53%|█████▎    | 8/15 [04:54<05:50, 50.05s/it, best loss: 0.10758638663486372]\u001b[A\n",
            " 60%|██████    | 9/15 [05:39<04:50, 48.34s/it, best loss: 0.10758638663486372]\u001b[A\n",
            " 67%|██████▋   | 10/15 [07:18<05:19, 63.97s/it, best loss: 0.10758638663486372]\u001b[A\n",
            " 73%|███████▎  | 11/15 [08:23<04:16, 64.23s/it, best loss: 0.10758638663486372]\u001b[A\n",
            " 80%|████████  | 12/15 [09:14<03:01, 60.39s/it, best loss: 0.10758638663486372]\u001b[A\n",
            " 87%|████████▋ | 13/15 [10:26<02:07, 63.81s/it, best loss: 0.10758638663486372]\u001b[A\n",
            " 93%|█████████▎| 14/15 [10:56<00:53, 53.73s/it, best loss: 0.10758638663486372]\u001b[A\n",
            "100%|██████████| 15/15 [11:33<00:00, 46.22s/it, best loss: 0.10758638663486372]"
          ]
        },
        {
          "metadata": {
            "tags": null
          },
          "name": "stderr",
          "output_type": "stream",
          "text": [
            "\r 62%|██████▏   | 37/60 [6:15:19<4:05:41, 640.94s/it]"
          ]
        },
        {
          "metadata": {
            "tags": null
          },
          "name": "stdout",
          "output_type": "stream",
          "text": [
            "\n",
            "\n",
            "  0%|          | 0/15 [00:00<?, ?it/s, best loss: ?]\u001b[A\n",
            "  7%|▋         | 1/15 [01:26<20:07, 86.26s/it, best loss: 0.07452602861933907]\u001b[A\n",
            " 13%|█▎        | 2/15 [02:04<12:32, 57.90s/it, best loss: 0.07452602861933907]\u001b[A\n",
            " 20%|██        | 3/15 [02:14<07:11, 35.98s/it, best loss: 0.0722762722543064] \u001b[A\n",
            " 27%|██▋       | 4/15 [02:36<05:34, 30.41s/it, best loss: 0.0722762722543064]\u001b[A\n",
            " 33%|███▎      | 5/15 [03:04<04:56, 29.64s/it, best loss: 0.07194013980589775]\u001b[A\n",
            " 40%|████      | 6/15 [03:31<04:18, 28.67s/it, best loss: 0.07084565668308536]\u001b[A\n",
            " 47%|████▋     | 7/15 [03:53<03:31, 26.49s/it, best loss: 0.07084565668308536]\u001b[A\n",
            " 53%|█████▎    | 8/15 [04:08<02:41, 23.01s/it, best loss: 0.07084565668308536]\u001b[A\n",
            " 60%|██████    | 9/15 [05:48<04:41, 46.88s/it, best loss: 0.07084565668308536]\u001b[A\n",
            " 67%|██████▋   | 10/15 [06:40<04:02, 48.54s/it, best loss: 0.07084565668308536]\u001b[A\n",
            " 73%|███████▎  | 11/15 [07:47<03:36, 54.21s/it, best loss: 0.07084565668308536]\u001b[A\n",
            " 80%|████████  | 12/15 [08:00<02:04, 41.66s/it, best loss: 0.07065222942034824]\u001b[A\n",
            " 87%|████████▋ | 13/15 [08:57<01:32, 46.47s/it, best loss: 0.07065222942034824]\u001b[A\n",
            " 93%|█████████▎| 14/15 [09:06<00:34, 35.00s/it, best loss: 0.07065222942034824]\u001b[A\n",
            "100%|██████████| 15/15 [10:49<00:00, 43.30s/it, best loss: 0.07065222942034824]"
          ]
        },
        {
          "metadata": {
            "tags": null
          },
          "name": "stderr",
          "output_type": "stream",
          "text": [
            "\r 63%|██████▎   | 38/60 [6:26:09<3:55:57, 643.51s/it]"
          ]
        },
        {
          "metadata": {
            "tags": null
          },
          "name": "stdout",
          "output_type": "stream",
          "text": [
            "\n",
            "\n",
            "  0%|          | 0/15 [00:00<?, ?it/s, best loss: ?]\u001b[A\n",
            "  7%|▋         | 1/15 [00:15<03:37, 15.52s/it, best loss: 0.06054074503892951]\u001b[A\n",
            " 13%|█▎        | 2/15 [01:28<10:38, 49.12s/it, best loss: 0.060230825846677084]\u001b[A\n",
            " 20%|██        | 3/15 [01:58<08:07, 40.62s/it, best loss: 0.060230825846677084]\u001b[A\n",
            " 27%|██▋       | 4/15 [02:12<05:29, 29.92s/it, best loss: 0.059938560221863404]\u001b[A\n",
            " 33%|███▎      | 5/15 [02:45<05:12, 31.26s/it, best loss: 0.059938560221863404]\u001b[A\n",
            " 40%|████      | 6/15 [03:31<05:24, 36.07s/it, best loss: 0.059938560221863404]\u001b[A\n",
            " 47%|████▋     | 7/15 [03:44<03:48, 28.52s/it, best loss: 0.05986953495584185] \u001b[A\n",
            " 53%|█████▎    | 8/15 [04:43<04:29, 38.44s/it, best loss: 0.05986953495584185]\u001b[A\n",
            " 60%|██████    | 9/15 [04:59<03:07, 31.30s/it, best loss: 0.05986953495584185]\u001b[A\n",
            " 67%|██████▋   | 10/15 [05:37<02:47, 33.41s/it, best loss: 0.05986953495584185]\u001b[A\n",
            " 73%|███████▎  | 11/15 [06:03<02:04, 31.22s/it, best loss: 0.05986953495584185]\u001b[A\n",
            " 80%|████████  | 12/15 [06:51<01:48, 36.24s/it, best loss: 0.05986953495584185]\u001b[A\n",
            " 87%|████████▋ | 13/15 [07:41<01:20, 40.27s/it, best loss: 0.05963906133359298]\u001b[A\n",
            " 93%|█████████▎| 14/15 [08:01<00:34, 34.12s/it, best loss: 0.05963906133359298]\u001b[A\n",
            "100%|██████████| 15/15 [08:19<00:00, 33.27s/it, best loss: 0.05939562097969837]"
          ]
        },
        {
          "metadata": {
            "tags": null
          },
          "name": "stderr",
          "output_type": "stream",
          "text": [
            "\r 65%|██████▌   | 39/60 [6:34:28<3:30:04, 600.19s/it]"
          ]
        },
        {
          "metadata": {
            "tags": null
          },
          "name": "stdout",
          "output_type": "stream",
          "text": [
            "\n",
            "\n",
            "  0%|          | 0/15 [00:00<?, ?it/s, best loss: ?]\u001b[A\n",
            "  7%|▋         | 1/15 [01:10<16:24, 70.32s/it, best loss: 0.07249605145735023]\u001b[A\n",
            " 13%|█▎        | 2/15 [01:17<07:10, 33.11s/it, best loss: 0.07149398003645356]\u001b[A\n",
            " 20%|██        | 3/15 [02:16<09:01, 45.12s/it, best loss: 0.07149398003645356]\u001b[A\n",
            " 27%|██▋       | 4/15 [03:21<09:40, 52.79s/it, best loss: 0.07149398003645356]\u001b[A\n",
            " 33%|███▎      | 5/15 [04:42<10:30, 63.06s/it, best loss: 0.07149398003645356]\u001b[A\n",
            " 40%|████      | 6/15 [04:45<06:24, 42.73s/it, best loss: 0.06957820503719783]\u001b[A\n",
            " 47%|████▋     | 7/15 [05:42<06:18, 47.26s/it, best loss: 0.06957820503719783]\u001b[A\n",
            " 53%|█████▎    | 8/15 [06:26<05:23, 46.26s/it, best loss: 0.06957820503719783]\u001b[A\n",
            " 60%|██████    | 9/15 [07:45<05:38, 56.40s/it, best loss: 0.06957820503719783]\u001b[A\n",
            " 67%|██████▋   | 10/15 [08:21<04:10, 50.17s/it, best loss: 0.06957820503719783]\u001b[A\n",
            " 73%|███████▎  | 11/15 [09:27<03:40, 55.13s/it, best loss: 0.06957820503719783]\u001b[A\n",
            " 80%|████████  | 12/15 [10:00<02:24, 48.26s/it, best loss: 0.06957820503719783]\u001b[A\n",
            " 87%|████████▋ | 13/15 [10:52<01:38, 49.40s/it, best loss: 0.06957820503719783]\u001b[A\n",
            " 93%|█████████▎| 14/15 [11:06<00:38, 38.63s/it, best loss: 0.06957820503719783]\u001b[A\n",
            "100%|██████████| 15/15 [11:35<00:00, 46.40s/it, best loss: 0.06957820503719783]"
          ]
        },
        {
          "metadata": {
            "tags": null
          },
          "name": "stderr",
          "output_type": "stream",
          "text": [
            "\r 67%|██████▋   | 40/60 [6:46:04<3:29:38, 628.95s/it]"
          ]
        },
        {
          "metadata": {
            "tags": null
          },
          "name": "stdout",
          "output_type": "stream",
          "text": [
            "\n",
            "\n",
            "  0%|          | 0/15 [00:00<?, ?it/s, best loss: ?]\u001b[A\n",
            "  7%|▋         | 1/15 [01:10<16:32, 70.90s/it, best loss: 0.11626558951157258]\u001b[A\n",
            " 13%|█▎        | 2/15 [01:26<08:18, 38.37s/it, best loss: 0.11626558951157258]\u001b[A\n",
            " 20%|██        | 3/15 [01:29<04:28, 22.40s/it, best loss: 0.11626558951157258]\u001b[A\n",
            " 27%|██▋       | 4/15 [01:53<04:13, 23.07s/it, best loss: 0.11626558951157258]\u001b[A\n",
            " 33%|███▎      | 5/15 [02:15<03:45, 22.54s/it, best loss: 0.11626558951157258]\u001b[A\n",
            " 40%|████      | 6/15 [03:43<06:41, 44.65s/it, best loss: 0.11626558951157258]\u001b[A\n",
            " 47%|████▋     | 7/15 [03:55<04:32, 34.03s/it, best loss: 0.11626558951157258]\u001b[A\n",
            " 53%|█████▎    | 8/15 [04:07<03:10, 27.22s/it, best loss: 0.11626558951157258]\u001b[A\n",
            " 60%|██████    | 9/15 [04:43<02:58, 29.74s/it, best loss: 0.11626558951157258]\u001b[A\n",
            " 67%|██████▋   | 10/15 [06:03<03:46, 45.30s/it, best loss: 0.11522618943694407]\u001b[A\n",
            " 73%|███████▎  | 11/15 [06:12<02:17, 34.31s/it, best loss: 0.11522618943694407]\u001b[A\n",
            " 80%|████████  | 12/15 [06:39<01:35, 31.98s/it, best loss: 0.11522618943694407]\u001b[A\n",
            " 87%|████████▋ | 13/15 [07:55<01:30, 45.46s/it, best loss: 0.11486014926460293]\u001b[A\n",
            " 93%|█████████▎| 14/15 [08:27<00:41, 41.30s/it, best loss: 0.11486014926460293]\u001b[A\n",
            "100%|██████████| 15/15 [08:49<00:00, 35.31s/it, best loss: 0.11486014926460293]"
          ]
        },
        {
          "metadata": {
            "tags": null
          },
          "name": "stderr",
          "output_type": "stream",
          "text": [
            "\r 68%|██████▊   | 41/60 [6:54:54<3:09:44, 599.17s/it]"
          ]
        },
        {
          "metadata": {
            "tags": null
          },
          "name": "stdout",
          "output_type": "stream",
          "text": [
            "\n",
            "\n",
            "  0%|          | 0/15 [00:00<?, ?it/s, best loss: ?]\u001b[A\n",
            "  7%|▋         | 1/15 [00:12<02:50, 12.19s/it, best loss: 0.0799918410110008]\u001b[A\n",
            " 13%|█▎        | 2/15 [00:45<05:20, 24.64s/it, best loss: 0.0799918410110008]\u001b[A\n",
            " 20%|██        | 3/15 [01:04<04:27, 22.26s/it, best loss: 0.0799918410110008]\u001b[A\n",
            " 27%|██▋       | 4/15 [01:16<03:16, 17.83s/it, best loss: 0.0799918410110008]\u001b[A\n",
            " 33%|███▎      | 5/15 [03:03<08:22, 50.25s/it, best loss: 0.0799918410110008]\u001b[A\n",
            " 40%|████      | 6/15 [04:23<09:01, 60.17s/it, best loss: 0.0799918410110008]\u001b[A\n",
            " 47%|████▋     | 7/15 [05:07<07:18, 54.83s/it, best loss: 0.0799918410110008]\u001b[A\n",
            " 53%|█████▎    | 8/15 [05:39<05:34, 47.77s/it, best loss: 0.0799918410110008]\u001b[A\n",
            " 60%|██████    | 9/15 [06:07<04:09, 41.55s/it, best loss: 0.0799918410110008]\u001b[A\n",
            " 67%|██████▋   | 10/15 [06:41<03:15, 39.14s/it, best loss: 0.0799918410110008]\u001b[A\n",
            " 73%|███████▎  | 11/15 [07:43<03:05, 46.27s/it, best loss: 0.0799918410110008]\u001b[A\n",
            " 80%|████████  | 12/15 [08:01<01:52, 37.62s/it, best loss: 0.0799918410110008]\u001b[A\n",
            " 87%|████████▋ | 13/15 [08:39<01:15, 37.86s/it, best loss: 0.0799918410110008]\u001b[A\n",
            " 93%|█████████▎| 14/15 [09:28<00:40, 40.95s/it, best loss: 0.0799918410110008]\u001b[A\n",
            "100%|██████████| 15/15 [09:59<00:00, 39.96s/it, best loss: 0.0799918410110008]"
          ]
        },
        {
          "metadata": {
            "tags": null
          },
          "name": "stderr",
          "output_type": "stream",
          "text": [
            "\r 70%|███████   | 42/60 [7:04:53<2:59:46, 599.25s/it]"
          ]
        },
        {
          "metadata": {
            "tags": null
          },
          "name": "stdout",
          "output_type": "stream",
          "text": [
            "\n",
            "\n",
            "  0%|          | 0/15 [00:00<?, ?it/s, best loss: ?]\u001b[A\n",
            "  7%|▋         | 1/15 [00:07<01:50,  7.86s/it, best loss: 0.0630596364954694]\u001b[A\n",
            " 13%|█▎        | 2/15 [00:27<03:15, 15.03s/it, best loss: 0.0630596364954694]\u001b[A\n",
            " 20%|██        | 3/15 [01:06<05:06, 25.58s/it, best loss: 0.0630596364954694]\u001b[A\n",
            " 27%|██▋       | 4/15 [01:13<03:21, 18.35s/it, best loss: 0.0630596364954694]\u001b[A\n",
            " 33%|███▎      | 5/15 [02:45<07:30, 45.09s/it, best loss: 0.0630596364954694]\u001b[A\n",
            " 40%|████      | 6/15 [03:10<05:42, 38.06s/it, best loss: 0.0630596364954694]\u001b[A\n",
            " 47%|████▋     | 7/15 [04:04<05:47, 43.42s/it, best loss: 0.0630596364954694]\u001b[A\n",
            " 53%|█████▎    | 8/15 [04:56<05:22, 46.02s/it, best loss: 0.0630596364954694]\u001b[A\n",
            " 60%|██████    | 9/15 [05:32<04:17, 42.95s/it, best loss: 0.0630596364954694]\u001b[A\n",
            " 67%|██████▋   | 10/15 [06:40<04:13, 50.61s/it, best loss: 0.0630596364954694]\u001b[A\n",
            " 73%|███████▎  | 11/15 [07:23<03:13, 48.40s/it, best loss: 0.0630596364954694]\u001b[A\n",
            " 80%|████████  | 12/15 [08:02<02:16, 45.55s/it, best loss: 0.0630596364954694]\u001b[A\n",
            " 87%|████████▋ | 13/15 [09:20<01:50, 55.21s/it, best loss: 0.0630596364954694]\u001b[A\n",
            " 93%|█████████▎| 14/15 [09:42<00:45, 45.36s/it, best loss: 0.0630596364954694]\u001b[A\n",
            "100%|██████████| 15/15 [10:12<00:00, 40.86s/it, best loss: 0.0630596364954694]"
          ]
        },
        {
          "metadata": {
            "tags": null
          },
          "name": "stderr",
          "output_type": "stream",
          "text": [
            "\r 72%|███████▏  | 43/60 [7:15:06<2:50:57, 603.38s/it]"
          ]
        },
        {
          "metadata": {
            "tags": null
          },
          "name": "stdout",
          "output_type": "stream",
          "text": [
            "\n",
            "\n",
            "  0%|          | 0/15 [00:00<?, ?it/s, best loss: ?]\u001b[A\n",
            "  7%|▋         | 1/15 [00:26<06:08, 26.33s/it, best loss: 0.09418015043495136]\u001b[A\n",
            " 13%|█▎        | 2/15 [01:45<12:26, 57.44s/it, best loss: 0.09418015043495136]\u001b[A\n",
            " 20%|██        | 3/15 [02:16<09:05, 45.48s/it, best loss: 0.09418015043495136]\u001b[A\n",
            " 27%|██▋       | 4/15 [02:56<07:53, 43.02s/it, best loss: 0.09418015043495136]\u001b[A\n",
            " 33%|███▎      | 5/15 [03:40<07:15, 43.50s/it, best loss: 0.09418015043495136]\u001b[A\n",
            " 40%|████      | 6/15 [04:43<07:32, 50.29s/it, best loss: 0.09418015043495136]\u001b[A\n",
            " 47%|████▋     | 7/15 [05:32<06:37, 49.65s/it, best loss: 0.09418015043495136]\u001b[A\n",
            " 53%|█████▎    | 8/15 [05:49<04:34, 39.28s/it, best loss: 0.09418015043495136]\u001b[A\n",
            " 60%|██████    | 9/15 [06:59<04:53, 48.98s/it, best loss: 0.09418015043495136]\u001b[A\n",
            " 67%|██████▋   | 10/15 [07:30<03:36, 43.37s/it, best loss: 0.09404557069854787]\u001b[A\n",
            " 73%|███████▎  | 11/15 [08:22<03:04, 46.15s/it, best loss: 0.09404557069854787]\u001b[A\n",
            " 80%|████████  | 12/15 [08:47<01:59, 39.76s/it, best loss: 0.09404557069854787]\u001b[A\n",
            " 87%|████████▋ | 13/15 [09:20<01:15, 37.62s/it, best loss: 0.09404557069854787]\u001b[A\n",
            " 93%|█████████▎| 14/15 [09:32<00:29, 29.82s/it, best loss: 0.09404557069854787]\u001b[A\n",
            "100%|██████████| 15/15 [09:56<00:00, 39.79s/it, best loss: 0.0939227252455616]"
          ]
        },
        {
          "metadata": {
            "tags": null
          },
          "name": "stderr",
          "output_type": "stream",
          "text": [
            "\r 73%|███████▎  | 44/60 [7:25:03<2:40:22, 601.43s/it]"
          ]
        },
        {
          "metadata": {
            "tags": null
          },
          "name": "stdout",
          "output_type": "stream",
          "text": [
            "\n",
            "\n",
            "  0%|          | 0/15 [00:00<?, ?it/s, best loss: ?]\u001b[A\n",
            "  7%|▋         | 1/15 [00:18<04:18, 18.46s/it, best loss: 0.05992504375483351]\u001b[A\n",
            " 13%|█▎        | 2/15 [02:02<14:56, 68.94s/it, best loss: 0.05992504375483351]\u001b[A\n",
            " 20%|██        | 3/15 [03:27<15:13, 76.11s/it, best loss: 0.05992504375483351]\u001b[A\n",
            " 27%|██▋       | 4/15 [03:41<09:28, 51.70s/it, best loss: 0.05992504375483351]\u001b[A\n",
            " 33%|███▎      | 5/15 [03:56<06:23, 38.36s/it, best loss: 0.05746998459536387]\u001b[A\n",
            " 40%|████      | 6/15 [04:25<05:16, 35.19s/it, best loss: 0.05746998459536387]\u001b[A\n",
            " 47%|████▋     | 7/15 [05:43<06:33, 49.16s/it, best loss: 0.05746998459536387]\u001b[A\n",
            " 53%|█████▎    | 8/15 [06:11<04:56, 42.40s/it, best loss: 0.05746998459536387]\u001b[A\n",
            " 60%|██████    | 9/15 [07:02<04:31, 45.29s/it, best loss: 0.05746998459536387]\u001b[A\n",
            " 67%|██████▋   | 10/15 [07:33<03:23, 40.62s/it, best loss: 0.05746998459536387]\u001b[A\n",
            " 73%|███████▎  | 11/15 [09:06<03:47, 56.76s/it, best loss: 0.05746998459536387]\u001b[A\n",
            " 80%|████████  | 12/15 [10:13<02:59, 59.92s/it, best loss: 0.05746998459536387]\u001b[A\n",
            " 87%|████████▋ | 13/15 [10:43<01:41, 50.78s/it, best loss: 0.05746998459536387]\u001b[A\n",
            " 93%|█████████▎| 14/15 [11:07<00:42, 42.88s/it, best loss: 0.05746998459536387]\u001b[A\n",
            "100%|██████████| 15/15 [11:58<00:00, 47.91s/it, best loss: 0.05746998459536387]"
          ]
        },
        {
          "metadata": {
            "tags": null
          },
          "name": "stderr",
          "output_type": "stream",
          "text": [
            "\r 75%|███████▌  | 45/60 [7:37:02<2:39:09, 636.64s/it]"
          ]
        },
        {
          "metadata": {
            "tags": null
          },
          "name": "stdout",
          "output_type": "stream",
          "text": [
            "\n",
            "\n",
            "  0%|          | 0/15 [00:00<?, ?it/s, best loss: ?]\u001b[A\n",
            "  7%|▋         | 1/15 [00:54<12:44, 54.63s/it, best loss: 0.0731062361990822]\u001b[A\n",
            " 13%|█▎        | 2/15 [01:08<06:37, 30.60s/it, best loss: 0.06963081933146918]\u001b[A\n",
            " 20%|██        | 3/15 [01:16<04:04, 20.36s/it, best loss: 0.06963081933146918]\u001b[A\n",
            " 27%|██▋       | 4/15 [02:06<05:50, 31.87s/it, best loss: 0.06963081933146918]\u001b[A\n",
            " 33%|███▎      | 5/15 [02:14<03:54, 23.45s/it, best loss: 0.06963081933146918]\u001b[A\n",
            " 40%|████      | 6/15 [03:52<07:17, 48.60s/it, best loss: 0.06963081933146918]\u001b[A\n",
            " 47%|████▋     | 7/15 [05:05<07:34, 56.86s/it, best loss: 0.06963081933146918]\u001b[A\n",
            " 53%|█████▎    | 8/15 [05:39<05:45, 49.32s/it, best loss: 0.06963081933146918]\u001b[A\n",
            " 60%|██████    | 9/15 [06:33<05:06, 51.03s/it, best loss: 0.06963081933146918]\u001b[A\n",
            " 67%|██████▋   | 10/15 [07:43<04:43, 56.65s/it, best loss: 0.06963081933146918]\u001b[A\n",
            " 73%|███████▎  | 11/15 [08:14<03:16, 49.02s/it, best loss: 0.06963081933146918]\u001b[A\n",
            " 80%|████████  | 12/15 [09:24<02:45, 55.25s/it, best loss: 0.06963081933146918]\u001b[A\n",
            " 87%|████████▋ | 13/15 [10:27<01:55, 57.55s/it, best loss: 0.06963081933146918]\u001b[A\n",
            " 93%|█████████▎| 14/15 [12:16<01:13, 73.07s/it, best loss: 0.06963081933146918]\u001b[A\n",
            "100%|██████████| 15/15 [13:19<00:00, 53.31s/it, best loss: 0.06963081933146918]"
          ]
        },
        {
          "metadata": {
            "tags": null
          },
          "name": "stderr",
          "output_type": "stream",
          "text": [
            "\r 77%|███████▋  | 46/60 [7:50:22<2:39:57, 685.57s/it]"
          ]
        },
        {
          "metadata": {
            "tags": null
          },
          "name": "stdout",
          "output_type": "stream",
          "text": [
            "\n",
            "\n",
            "  0%|          | 0/15 [00:00<?, ?it/s, best loss: ?]\u001b[A\n",
            "  7%|▋         | 1/15 [01:04<15:00, 64.30s/it, best loss: 0.06962540860625066]\u001b[A\n",
            " 13%|█▎        | 2/15 [02:16<14:52, 68.69s/it, best loss: 0.06770687764530553]\u001b[A\n",
            " 20%|██        | 3/15 [03:12<12:38, 63.22s/it, best loss: 0.06592738957979107]\u001b[A\n",
            " 27%|██▋       | 4/15 [03:43<09:14, 50.45s/it, best loss: 0.06592738957979107]\u001b[A\n",
            " 33%|███▎      | 5/15 [04:37<08:36, 51.62s/it, best loss: 0.06592738957979107]\u001b[A\n",
            " 40%|████      | 6/15 [04:41<05:19, 35.48s/it, best loss: 0.06376707406039932]\u001b[A\n",
            " 47%|████▋     | 7/15 [04:54<03:46, 28.29s/it, best loss: 0.06376707406039932]\u001b[A\n",
            " 53%|█████▎    | 8/15 [05:37<03:50, 32.96s/it, best loss: 0.06376707406039932]\u001b[A\n",
            " 60%|██████    | 9/15 [07:29<05:46, 57.68s/it, best loss: 0.06376707406039932]\u001b[A\n",
            " 67%|██████▋   | 10/15 [08:17<04:31, 54.40s/it, best loss: 0.06376707406039932]\u001b[A\n",
            " 73%|███████▎  | 11/15 [09:00<03:24, 51.03s/it, best loss: 0.06376707406039932]\u001b[A\n",
            " 80%|████████  | 12/15 [09:43<02:25, 48.50s/it, best loss: 0.06376707406039932]\u001b[A\n",
            " 87%|████████▋ | 13/15 [10:09<01:23, 41.93s/it, best loss: 0.06376707406039932]\u001b[A\n",
            " 93%|█████████▎| 14/15 [10:38<00:37, 37.96s/it, best loss: 0.06376707406039932]\u001b[A\n",
            "100%|██████████| 15/15 [11:11<00:00, 44.75s/it, best loss: 0.06376707406039932]"
          ]
        },
        {
          "metadata": {
            "tags": null
          },
          "name": "stderr",
          "output_type": "stream",
          "text": [
            "\r 78%|███████▊  | 47/60 [8:01:33<2:27:36, 681.29s/it]"
          ]
        },
        {
          "metadata": {
            "tags": null
          },
          "name": "stdout",
          "output_type": "stream",
          "text": [
            "\n",
            "\n",
            "  0%|          | 0/15 [00:00<?, ?it/s, best loss: ?]\u001b[A\n",
            "  7%|▋         | 1/15 [00:37<08:43, 37.38s/it, best loss: 0.05615410153283137]\u001b[A\n",
            " 13%|█▎        | 2/15 [00:45<04:20, 20.05s/it, best loss: 0.05349806157126038]\u001b[A\n",
            " 20%|██        | 3/15 [01:04<03:54, 19.57s/it, best loss: 0.05349806157126038]\u001b[A\n",
            " 27%|██▋       | 4/15 [02:05<06:36, 36.07s/it, best loss: 0.05349806157126038]\u001b[A\n",
            " 33%|███▎      | 5/15 [02:17<04:33, 27.34s/it, best loss: 0.05349806157126038]\u001b[A\n",
            " 40%|████      | 6/15 [02:51<04:26, 29.63s/it, best loss: 0.05349806157126038]\u001b[A\n",
            " 47%|████▋     | 7/15 [02:59<03:00, 22.60s/it, best loss: 0.05349806157126038]\u001b[A\n",
            " 53%|█████▎    | 8/15 [03:36<03:10, 27.23s/it, best loss: 0.05349806157126038]\u001b[A\n",
            " 60%|██████    | 9/15 [05:15<04:57, 49.58s/it, best loss: 0.05349806157126038]\u001b[A\n",
            " 67%|██████▋   | 10/15 [05:21<03:00, 36.19s/it, best loss: 0.05321441520141459]\u001b[A\n",
            " 73%|███████▎  | 11/15 [06:20<02:52, 43.16s/it, best loss: 0.05321441520141459]\u001b[A\n",
            " 80%|████████  | 12/15 [07:27<02:31, 50.39s/it, best loss: 0.05321441520141459]\u001b[A\n",
            " 87%|████████▋ | 13/15 [08:32<01:49, 54.85s/it, best loss: 0.05321441520141459]\u001b[A\n",
            " 93%|█████████▎| 14/15 [09:05<00:48, 48.23s/it, best loss: 0.05321441520141459]\u001b[A\n",
            "100%|██████████| 15/15 [09:43<00:00, 38.89s/it, best loss: 0.05321441520141459]"
          ]
        },
        {
          "metadata": {
            "tags": null
          },
          "name": "stderr",
          "output_type": "stream",
          "text": [
            "\r 80%|████████  | 48/60 [8:11:16<2:10:23, 651.92s/it]"
          ]
        },
        {
          "metadata": {
            "tags": null
          },
          "name": "stdout",
          "output_type": "stream",
          "text": [
            "\n",
            "\n",
            "  0%|          | 0/15 [00:00<?, ?it/s, best loss: ?]\u001b[A\n",
            "  7%|▋         | 1/15 [00:29<06:49, 29.26s/it, best loss: 0.08381289280251293]\u001b[A\n",
            " 13%|█▎        | 2/15 [02:16<16:15, 75.06s/it, best loss: 0.08381289280251293]\u001b[A\n",
            " 20%|██        | 3/15 [03:10<13:06, 65.51s/it, best loss: 0.08293979312792861]\u001b[A\n",
            " 27%|██▋       | 4/15 [03:39<09:20, 51.00s/it, best loss: 0.08293979312792861]\u001b[A\n",
            " 33%|███▎      | 5/15 [03:46<05:52, 35.24s/it, best loss: 0.08293979312792861]\u001b[A\n",
            " 40%|████      | 6/15 [05:25<08:30, 56.76s/it, best loss: 0.0829146130349189] \u001b[A\n",
            " 47%|████▋     | 7/15 [06:07<06:57, 52.17s/it, best loss: 0.0829146130349189]\u001b[A\n",
            " 53%|█████▎    | 8/15 [06:40<05:21, 45.98s/it, best loss: 0.0829146130349189]\u001b[A\n",
            " 60%|██████    | 9/15 [07:10<04:05, 40.92s/it, best loss: 0.0829146130349189]\u001b[A\n",
            " 67%|██████▋   | 10/15 [07:47<03:19, 39.80s/it, best loss: 0.0829146130349189]\u001b[A\n",
            " 73%|███████▎  | 11/15 [07:52<01:56, 29.22s/it, best loss: 0.0829146130349189]\u001b[A\n",
            " 80%|████████  | 12/15 [08:41<01:45, 35.17s/it, best loss: 0.0829146130349189]\u001b[A\n",
            " 87%|████████▋ | 13/15 [09:42<01:26, 43.04s/it, best loss: 0.0829146130349189]\u001b[A\n",
            " 93%|█████████▎| 14/15 [11:06<00:55, 55.31s/it, best loss: 0.0829146130349189]\u001b[A\n",
            "100%|██████████| 15/15 [12:09<00:00, 48.63s/it, best loss: 0.0829146130349189]"
          ]
        },
        {
          "metadata": {
            "tags": null
          },
          "name": "stderr",
          "output_type": "stream",
          "text": [
            "\r 82%|████████▏ | 49/60 [8:23:26<2:03:47, 675.20s/it]"
          ]
        },
        {
          "metadata": {
            "tags": null
          },
          "name": "stdout",
          "output_type": "stream",
          "text": [
            "\n",
            "\n",
            "  0%|          | 0/15 [00:00<?, ?it/s, best loss: ?]\u001b[A\n",
            "  7%|▋         | 1/15 [01:05<15:22, 65.89s/it, best loss: 0.13519733381042254]\u001b[A\n",
            " 13%|█▎        | 2/15 [02:01<12:55, 59.68s/it, best loss: 0.13451051616128284]\u001b[A\n",
            " 20%|██        | 3/15 [02:29<09:03, 45.33s/it, best loss: 0.13451051616128284]\u001b[A\n",
            " 27%|██▋       | 4/15 [02:51<06:39, 36.32s/it, best loss: 0.13451051616128284]\u001b[A\n",
            " 33%|███▎      | 5/15 [03:58<07:53, 47.36s/it, best loss: 0.13451051616128284]\u001b[A\n",
            " 40%|████      | 6/15 [04:54<07:31, 50.19s/it, best loss: 0.13451051616128284]\u001b[A\n",
            " 47%|████▋     | 7/15 [06:10<07:49, 58.72s/it, best loss: 0.13451051616128284]\u001b[A\n",
            " 53%|█████▎    | 8/15 [06:39<05:44, 49.17s/it, best loss: 0.134300246081823]  \u001b[A\n",
            " 60%|██████    | 9/15 [07:46<05:27, 54.59s/it, best loss: 0.134300246081823]\u001b[A\n",
            " 67%|██████▋   | 10/15 [08:22<04:04, 48.92s/it, best loss: 0.134300246081823]\u001b[A\n",
            " 73%|███████▎  | 11/15 [09:23<03:30, 52.60s/it, best loss: 0.134300246081823]\u001b[A\n",
            " 80%|████████  | 12/15 [09:50<02:14, 44.92s/it, best loss: 0.134300246081823]\u001b[A\n",
            " 87%|████████▋ | 13/15 [11:01<01:45, 52.70s/it, best loss: 0.134300246081823]\u001b[A\n",
            " 93%|█████████▎| 14/15 [11:12<00:40, 40.10s/it, best loss: 0.134300246081823]\u001b[A\n",
            "100%|██████████| 15/15 [11:40<00:00, 46.72s/it, best loss: 0.134300246081823]"
          ]
        },
        {
          "metadata": {
            "tags": null
          },
          "name": "stderr",
          "output_type": "stream",
          "text": [
            "\r 83%|████████▎ | 50/60 [8:35:07<1:53:49, 682.92s/it]"
          ]
        },
        {
          "metadata": {
            "tags": null
          },
          "name": "stdout",
          "output_type": "stream",
          "text": [
            "\n",
            "\n",
            "  0%|          | 0/15 [00:00<?, ?it/s, best loss: ?]\u001b[A\n",
            "  7%|▋         | 1/15 [01:22<19:08, 82.03s/it, best loss: 0.48349839618328017]\u001b[A\n",
            " 13%|█▎        | 2/15 [02:58<19:40, 90.80s/it, best loss: 0.48349839618328017]\u001b[A\n",
            " 20%|██        | 3/15 [04:29<18:07, 90.59s/it, best loss: 0.481942928901286]  \u001b[A\n",
            " 27%|██▋       | 4/15 [05:00<12:18, 67.10s/it, best loss: 0.481942928901286]\u001b[A\n",
            " 33%|███▎      | 5/15 [05:18<08:13, 49.36s/it, best loss: 0.481942928901286]\u001b[A\n",
            " 40%|████      | 6/15 [05:38<05:55, 39.52s/it, best loss: 0.481942928901286]\u001b[A\n",
            " 47%|████▋     | 7/15 [05:57<04:20, 32.59s/it, best loss: 0.481942928901286]\u001b[A\n",
            " 53%|█████▎    | 8/15 [06:04<02:53, 24.72s/it, best loss: 0.481942928901286]\u001b[A\n",
            " 60%|██████    | 9/15 [06:09<01:50, 18.36s/it, best loss: 0.481942928901286]\u001b[A\n",
            " 67%|██████▋   | 10/15 [06:47<02:02, 24.49s/it, best loss: 0.481942928901286]\u001b[A\n",
            " 73%|███████▎  | 11/15 [07:02<01:26, 21.64s/it, best loss: 0.481942928901286]\u001b[A\n",
            " 80%|████████  | 12/15 [07:20<01:01, 20.61s/it, best loss: 0.481942928901286]\u001b[A\n",
            " 87%|████████▋ | 13/15 [08:00<00:52, 26.44s/it, best loss: 0.4815548076967531]\u001b[A\n",
            " 93%|█████████▎| 14/15 [08:14<00:22, 22.71s/it, best loss: 0.4815548076967531]\u001b[A\n",
            "100%|██████████| 15/15 [08:54<00:00, 35.63s/it, best loss: 0.4815548076967531]"
          ]
        },
        {
          "metadata": {
            "tags": null
          },
          "name": "stderr",
          "output_type": "stream",
          "text": [
            "\r 85%|████████▌ | 51/60 [8:44:01<1:35:45, 638.39s/it]"
          ]
        },
        {
          "metadata": {
            "tags": null
          },
          "name": "stdout",
          "output_type": "stream",
          "text": [
            "\n",
            "\n",
            "  0%|          | 0/15 [00:00<?, ?it/s, best loss: ?]\u001b[A\n",
            "  7%|▋         | 1/15 [00:29<06:47, 29.10s/it, best loss: 0.28991063468231204]\u001b[A\n",
            " 13%|█▎        | 2/15 [01:24<09:40, 44.68s/it, best loss: 0.28991063468231204]\u001b[A\n",
            " 20%|██        | 3/15 [02:43<12:05, 60.48s/it, best loss: 0.28991063468231204]\u001b[A\n",
            " 27%|██▋       | 4/15 [03:17<09:09, 50.00s/it, best loss: 0.28991063468231204]\u001b[A\n",
            " 33%|███▎      | 5/15 [03:49<07:15, 43.50s/it, best loss: 0.28991063468231204]\u001b[A\n",
            " 40%|████      | 6/15 [04:14<05:32, 36.94s/it, best loss: 0.28991063468231204]\u001b[A\n",
            " 47%|████▋     | 7/15 [04:38<04:23, 32.88s/it, best loss: 0.28991063468231204]\u001b[A\n",
            " 53%|█████▎    | 8/15 [05:14<03:57, 33.90s/it, best loss: 0.28991063468231204]\u001b[A\n",
            " 60%|██████    | 9/15 [05:22<02:34, 25.76s/it, best loss: 0.28991063468231204]\u001b[A\n",
            " 67%|██████▋   | 10/15 [06:37<03:24, 40.81s/it, best loss: 0.2689309282873572]\u001b[A\n",
            " 73%|███████▎  | 11/15 [06:56<02:16, 34.13s/it, best loss: 0.2689309282873572]\u001b[A\n",
            " 80%|████████  | 12/15 [07:54<02:04, 41.57s/it, best loss: 0.2689309282873572]\u001b[A\n",
            " 87%|████████▋ | 13/15 [08:07<01:05, 32.79s/it, best loss: 0.2689309282873572]\u001b[A\n",
            " 93%|█████████▎| 14/15 [08:32<00:30, 30.47s/it, best loss: 0.2689309282873572]\u001b[A\n",
            "100%|██████████| 15/15 [09:36<00:00, 38.45s/it, best loss: 0.2689309282873572]"
          ]
        },
        {
          "metadata": {
            "tags": null
          },
          "name": "stderr",
          "output_type": "stream",
          "text": [
            "\r 87%|████████▋ | 52/60 [8:53:38<1:22:39, 619.93s/it]"
          ]
        },
        {
          "metadata": {
            "tags": null
          },
          "name": "stdout",
          "output_type": "stream",
          "text": [
            "\n",
            "\n",
            "  0%|          | 0/15 [00:00<?, ?it/s, best loss: ?]\u001b[A\n",
            "  7%|▋         | 1/15 [00:37<08:44, 37.46s/it, best loss: 0.10790612602578727]\u001b[A\n",
            " 13%|█▎        | 2/15 [01:13<07:59, 36.92s/it, best loss: 0.10336931563126993]\u001b[A\n",
            " 20%|██        | 3/15 [02:14<09:30, 47.54s/it, best loss: 0.09722941000158397]\u001b[A\n",
            " 27%|██▋       | 4/15 [02:19<05:39, 30.88s/it, best loss: 0.09148795205600851]\u001b[A\n",
            " 33%|███▎      | 5/15 [02:52<05:17, 31.71s/it, best loss: 0.09148795205600851]\u001b[A\n",
            " 40%|████      | 6/15 [03:01<03:34, 23.87s/it, best loss: 0.09125627127096121]\u001b[A\n",
            " 47%|████▋     | 7/15 [03:37<03:43, 27.89s/it, best loss: 0.09125627127096121]\u001b[A\n",
            " 53%|█████▎    | 8/15 [04:00<03:04, 26.30s/it, best loss: 0.09125627127096121]\u001b[A\n",
            " 60%|██████    | 9/15 [04:43<03:09, 31.64s/it, best loss: 0.09125627127096121]\u001b[A\n",
            " 67%|██████▋   | 10/15 [04:56<02:09, 25.93s/it, best loss: 0.09099959049639965]\u001b[A\n",
            " 73%|███████▎  | 11/15 [05:09<01:27, 21.78s/it, best loss: 0.09099959049639965]\u001b[A\n",
            " 80%|████████  | 12/15 [05:42<01:15, 25.24s/it, best loss: 0.09099959049639965]\u001b[A\n",
            " 87%|████████▋ | 13/15 [06:33<01:06, 33.15s/it, best loss: 0.09099959049639965]\u001b[A\n",
            " 93%|█████████▎| 14/15 [06:50<00:28, 28.12s/it, best loss: 0.09099959049639965]\u001b[A\n",
            "100%|██████████| 15/15 [07:43<00:00, 30.92s/it, best loss: 0.09099959049639965]"
          ]
        },
        {
          "metadata": {
            "tags": null
          },
          "name": "stderr",
          "output_type": "stream",
          "text": [
            "\r 88%|████████▊ | 53/60 [9:01:22<1:06:51, 573.13s/it]"
          ]
        },
        {
          "metadata": {
            "tags": null
          },
          "name": "stdout",
          "output_type": "stream",
          "text": [
            "\n",
            "\n",
            "  0%|          | 0/15 [00:00<?, ?it/s, best loss: ?]\u001b[A\n",
            "  7%|▋         | 1/15 [00:21<04:55, 21.13s/it, best loss: 0.0815090449348178]\u001b[A\n",
            " 13%|█▎        | 2/15 [01:18<09:09, 42.26s/it, best loss: 0.0815090449348178]\u001b[A\n",
            " 20%|██        | 3/15 [01:33<05:57, 29.75s/it, best loss: 0.07407782801805773]\u001b[A\n",
            " 27%|██▋       | 4/15 [02:40<08:09, 44.46s/it, best loss: 0.07407782801805773]\u001b[A\n",
            " 33%|███▎      | 5/15 [02:55<05:40, 34.01s/it, best loss: 0.07081409384742433]\u001b[A\n",
            " 40%|████      | 6/15 [03:29<05:05, 33.94s/it, best loss: 0.07081409384742433]\u001b[A\n",
            " 47%|████▋     | 7/15 [03:35<03:20, 25.01s/it, best loss: 0.06983579954929224]\u001b[A\n",
            " 53%|█████▎    | 8/15 [04:25<03:49, 32.84s/it, best loss: 0.06983579954929224]\u001b[A\n",
            " 60%|██████    | 9/15 [04:32<02:27, 24.65s/it, best loss: 0.06983579954929224]\u001b[A\n",
            " 67%|██████▋   | 10/15 [05:25<02:47, 33.49s/it, best loss: 0.06983579954929224]\u001b[A\n",
            " 73%|███████▎  | 11/15 [06:19<02:39, 39.89s/it, best loss: 0.06983579954929224]\u001b[A\n",
            " 80%|████████  | 12/15 [07:14<02:13, 44.34s/it, best loss: 0.06983579954929224]\u001b[A\n",
            " 87%|████████▋ | 13/15 [07:22<01:06, 33.45s/it, best loss: 0.06983579954929224]\u001b[A\n",
            " 93%|█████████▎| 14/15 [07:58<00:34, 34.21s/it, best loss: 0.06983579954929224]\u001b[A\n",
            "100%|██████████| 15/15 [08:31<00:00, 34.08s/it, best loss: 0.06983579954929224]"
          ]
        },
        {
          "metadata": {
            "tags": null
          },
          "name": "stderr",
          "output_type": "stream",
          "text": [
            "\r 90%|█████████ | 54/60 [9:09:53<55:27, 554.56s/it]  "
          ]
        },
        {
          "metadata": {
            "tags": null
          },
          "name": "stdout",
          "output_type": "stream",
          "text": [
            "\n",
            "\n",
            "  0%|          | 0/15 [00:00<?, ?it/s, best loss: ?]\u001b[A\n",
            "  7%|▋         | 1/15 [00:41<09:45, 41.79s/it, best loss: 0.0957280651370613]\u001b[A\n",
            " 13%|█▎        | 2/15 [01:40<11:10, 51.59s/it, best loss: 0.0957280651370613]\u001b[A\n",
            " 20%|██        | 3/15 [02:51<12:08, 60.72s/it, best loss: 0.0957280651370613]\u001b[A\n",
            " 27%|██▋       | 4/15 [03:18<08:42, 47.46s/it, best loss: 0.0957280651370613]\u001b[A\n",
            " 33%|███▎      | 5/15 [04:15<08:27, 50.80s/it, best loss: 0.0957280651370613]\u001b[A\n",
            " 40%|████      | 6/15 [05:19<08:18, 55.35s/it, best loss: 0.0957280651370613]\u001b[A\n",
            " 47%|████▋     | 7/15 [06:02<06:48, 51.05s/it, best loss: 0.0957280651370613]\u001b[A\n",
            " 53%|█████▎    | 8/15 [07:31<07:23, 63.43s/it, best loss: 0.0957280651370613]\u001b[A\n",
            " 60%|██████    | 9/15 [08:57<07:01, 70.29s/it, best loss: 0.0957280651370613]\u001b[A\n",
            " 67%|██████▋   | 10/15 [09:55<05:32, 66.40s/it, best loss: 0.0957280651370613]\u001b[A\n",
            " 73%|███████▎  | 11/15 [11:01<04:25, 66.29s/it, best loss: 0.0957280651370613]\u001b[A\n",
            " 80%|████████  | 12/15 [11:50<03:03, 61.26s/it, best loss: 0.0957280651370613]\u001b[A\n",
            " 87%|████████▋ | 13/15 [12:18<01:42, 51.19s/it, best loss: 0.0957280651370613]\u001b[A\n",
            " 93%|█████████▎| 14/15 [12:30<00:39, 39.22s/it, best loss: 0.0957280651370613]\u001b[A\n",
            "100%|██████████| 15/15 [13:11<00:00, 52.75s/it, best loss: 0.0957280651370613]"
          ]
        },
        {
          "metadata": {
            "tags": null
          },
          "name": "stderr",
          "output_type": "stream",
          "text": [
            "\r 92%|█████████▏| 55/60 [9:23:04<52:07, 625.58s/it]"
          ]
        },
        {
          "metadata": {
            "tags": null
          },
          "name": "stdout",
          "output_type": "stream",
          "text": [
            "\n",
            "\n",
            "  0%|          | 0/15 [00:00<?, ?it/s, best loss: ?]\u001b[A\n",
            "  7%|▋         | 1/15 [00:19<04:38, 19.88s/it, best loss: 0.08200075277375031]\u001b[A\n",
            " 13%|█▎        | 2/15 [00:50<05:38, 26.06s/it, best loss: 0.08129692247868808]\u001b[A\n",
            " 20%|██        | 3/15 [01:07<04:26, 22.23s/it, best loss: 0.08114238055765353]\u001b[A\n",
            " 27%|██▋       | 4/15 [01:11<02:44, 14.94s/it, best loss: 0.08114238055765353]\u001b[A\n",
            " 33%|███▎      | 5/15 [01:36<03:03, 18.39s/it, best loss: 0.08114238055765353]\u001b[A\n",
            " 40%|████      | 6/15 [01:45<02:18, 15.44s/it, best loss: 0.08031682455357543]\u001b[A\n",
            " 47%|████▋     | 7/15 [02:40<03:46, 28.35s/it, best loss: 0.08031682455357543]\u001b[A\n",
            " 53%|█████▎    | 8/15 [03:04<03:07, 26.84s/it, best loss: 0.08031682455357543]\u001b[A\n",
            " 60%|██████    | 9/15 [03:11<02:03, 20.54s/it, best loss: 0.08012638316120399]\u001b[A\n",
            " 67%|██████▋   | 10/15 [03:43<02:00, 24.06s/it, best loss: 0.08012638316120399]\u001b[A\n",
            " 73%|███████▎  | 11/15 [05:04<02:46, 41.70s/it, best loss: 0.08012638316120399]\u001b[A\n",
            " 80%|████████  | 12/15 [05:19<01:40, 33.63s/it, best loss: 0.08012638316120399]\u001b[A\n",
            " 87%|████████▋ | 13/15 [05:33<00:55, 27.68s/it, best loss: 0.08012638316120399]\u001b[A\n",
            " 93%|█████████▎| 14/15 [06:40<00:39, 39.42s/it, best loss: 0.08012638316120399]\u001b[A\n",
            "100%|██████████| 15/15 [06:49<00:00, 27.31s/it, best loss: 0.08012638316120399]"
          ]
        },
        {
          "metadata": {
            "tags": null
          },
          "name": "stderr",
          "output_type": "stream",
          "text": [
            "\r 93%|█████████▎| 56/60 [9:29:54<37:23, 560.82s/it]"
          ]
        },
        {
          "metadata": {
            "tags": null
          },
          "name": "stdout",
          "output_type": "stream",
          "text": [
            "\n",
            "\n",
            "  0%|          | 0/15 [00:00<?, ?it/s, best loss: ?]\u001b[A\n",
            "  7%|▋         | 1/15 [00:49<11:32, 49.48s/it, best loss: 0.0833744897372669]\u001b[A\n",
            " 13%|█▎        | 2/15 [01:56<12:54, 59.54s/it, best loss: 0.0833744897372669]\u001b[A\n",
            " 20%|██        | 3/15 [02:58<12:07, 60.65s/it, best loss: 0.0833744897372669]\u001b[A\n",
            " 27%|██▋       | 4/15 [03:37<09:36, 52.39s/it, best loss: 0.0833744897372669]\u001b[A\n",
            " 33%|███▎      | 5/15 [03:50<06:22, 38.26s/it, best loss: 0.08317494751041907]\u001b[A\n",
            " 40%|████      | 6/15 [03:56<04:04, 27.14s/it, best loss: 0.08317494751041907]\u001b[A\n",
            " 47%|████▋     | 7/15 [04:42<04:27, 33.41s/it, best loss: 0.08177438713995802]\u001b[A\n",
            " 53%|█████▎    | 8/15 [06:03<05:39, 48.50s/it, best loss: 0.08177438713995802]\u001b[A\n",
            " 60%|██████    | 9/15 [06:23<03:57, 39.57s/it, best loss: 0.08177438713995802]\u001b[A\n",
            " 67%|██████▋   | 10/15 [07:18<03:41, 44.29s/it, best loss: 0.08177438713995802]\u001b[A\n",
            " 73%|███████▎  | 11/15 [08:35<03:36, 54.17s/it, best loss: 0.08177438713995802]\u001b[A\n",
            " 80%|████████  | 12/15 [10:27<03:35, 71.83s/it, best loss: 0.08177438713995802]\u001b[A\n",
            " 87%|████████▋ | 13/15 [10:56<01:57, 58.92s/it, best loss: 0.08177438713995802]\u001b[A\n",
            " 93%|█████████▎| 14/15 [11:59<01:00, 60.19s/it, best loss: 0.08177438713995802]\u001b[A\n",
            "100%|██████████| 15/15 [12:54<00:00, 51.62s/it, best loss: 0.08177438713995802]"
          ]
        },
        {
          "metadata": {
            "tags": null
          },
          "name": "stderr",
          "output_type": "stream",
          "text": [
            "\r 95%|█████████▌| 57/60 [9:42:49<31:14, 624.88s/it]"
          ]
        },
        {
          "output_type": "stream",
          "name": "stdout",
          "text": [
            "\n",
            "\n",
            "  0%|          | 0/15 [00:00<?, ?it/s, best loss: ?]\u001b[A\n",
            "  7%|▋         | 1/15 [00:25<05:54, 25.34s/it, best loss: 0.08759268351908553]\u001b[A\n",
            " 13%|█▎        | 2/15 [00:34<03:26, 15.86s/it, best loss: 0.08597399161065208]\u001b[A\n",
            " 20%|██        | 3/15 [01:11<05:06, 25.50s/it, best loss: 0.08103612935111898]\u001b[A\n",
            " 27%|██▋       | 4/15 [02:19<07:46, 42.38s/it, best loss: 0.0797512424532768] \u001b[A\n",
            " 33%|███▎      | 5/15 [02:32<05:15, 31.51s/it, best loss: 0.0797512424532768]\u001b[A\n",
            " 40%|████      | 6/15 [03:02<04:39, 31.05s/it, best loss: 0.07855954351865622]\u001b[A\n",
            " 47%|████▋     | 7/15 [03:51<04:57, 37.14s/it, best loss: 0.07855954351865622]\u001b[A\n",
            " 53%|█████▎    | 8/15 [04:19<03:57, 33.95s/it, best loss: 0.07855954351865622]\u001b[A\n",
            " 60%|██████    | 9/15 [04:42<03:04, 30.83s/it, best loss: 0.07855954351865622]\u001b[A\n",
            " 67%|██████▋   | 10/15 [05:20<02:44, 32.91s/it, best loss: 0.07855954351865622]\u001b[A\n",
            " 73%|███████▎  | 11/15 [06:15<02:38, 39.65s/it, best loss: 0.07855954351865622]\u001b[A\n",
            " 80%|████████  | 12/15 [06:24<01:31, 30.44s/it, best loss: 0.07714534585998965]\u001b[A\n",
            " 87%|████████▋ | 13/15 [08:07<01:44, 52.44s/it, best loss: 0.07714534585998965]\u001b[A\n",
            " 93%|█████████▎| 14/15 [08:51<00:49, 49.64s/it, best loss: 0.07714534585998965]\u001b[A\n",
            "100%|██████████| 15/15 [10:12<00:00, 40.82s/it, best loss: 0.07714534585998965]"
          ]
        },
        {
          "output_type": "stream",
          "name": "stderr",
          "text": [
            "\r 97%|█████████▋| 58/60 [9:53:01<20:42, 621.14s/it]"
          ]
        },
        {
          "output_type": "stream",
          "name": "stdout",
          "text": [
            "\n",
            "\n",
            "  0%|          | 0/15 [00:00<?, ?it/s, best loss: ?]\u001b[A\n",
            "  7%|▋         | 1/15 [01:32<21:28, 92.03s/it, best loss: 0.1687114200054252]\u001b[A\n",
            " 13%|█▎        | 2/15 [02:09<13:00, 60.06s/it, best loss: 0.16388260091306112]\u001b[A\n",
            " 20%|██        | 3/15 [02:44<09:42, 48.57s/it, best loss: 0.16347497178888157]\u001b[A\n",
            " 27%|██▋       | 4/15 [02:59<06:28, 35.28s/it, best loss: 0.16207582376342386]\u001b[A\n",
            " 33%|███▎      | 5/15 [03:06<04:10, 25.07s/it, best loss: 0.1590787583018867] \u001b[A\n",
            " 40%|████      | 6/15 [03:36<04:01, 26.82s/it, best loss: 0.1590787583018867]\u001b[A\n",
            " 47%|████▋     | 7/15 [04:26<04:33, 34.22s/it, best loss: 0.1590787583018867]\u001b[A\n",
            " 53%|█████▎    | 8/15 [05:44<05:38, 48.42s/it, best loss: 0.1590787583018867]\u001b[A\n",
            " 60%|██████    | 9/15 [07:27<06:32, 65.47s/it, best loss: 0.1590787583018867]\u001b[A\n",
            " 67%|██████▋   | 10/15 [09:28<06:52, 82.51s/it, best loss: 0.1590787583018867]\u001b[A\n",
            " 73%|███████▎  | 11/15 [09:38<04:01, 60.34s/it, best loss: 0.1590787583018867]\u001b[A\n",
            " 80%|████████  | 12/15 [10:53<03:14, 64.89s/it, best loss: 0.1590787583018867]\u001b[A\n",
            " 87%|████████▋ | 13/15 [11:29<01:52, 56.01s/it, best loss: 0.1590787583018867]\u001b[A\n",
            " 93%|█████████▎| 14/15 [12:20<00:54, 54.40s/it, best loss: 0.1590787583018867]\u001b[A\n",
            "100%|██████████| 15/15 [12:39<00:00, 50.60s/it, best loss: 0.1590787583018867]"
          ]
        },
        {
          "output_type": "stream",
          "name": "stderr",
          "text": [
            "\r 98%|█████████▊| 59/60 [10:05:40<11:02, 662.53s/it]"
          ]
        },
        {
          "output_type": "stream",
          "name": "stdout",
          "text": [
            "\n",
            "\n",
            "  0%|          | 0/15 [00:00<?, ?it/s, best loss: ?]\u001b[A\n",
            "  7%|▋         | 1/15 [00:14<03:26, 14.78s/it, best loss: 0.06177738427381827]\u001b[A\n",
            " 13%|█▎        | 2/15 [00:28<03:07, 14.39s/it, best loss: 0.05958510131658315]\u001b[A\n",
            " 20%|██        | 3/15 [00:47<03:18, 16.53s/it, best loss: 0.05958510131658315]\u001b[A\n",
            " 27%|██▋       | 4/15 [01:05<03:05, 16.90s/it, best loss: 0.05958510131658315]\u001b[A\n",
            " 33%|███▎      | 5/15 [01:41<03:56, 23.65s/it, best loss: 0.05958510131658315]\u001b[A\n",
            " 40%|████      | 6/15 [01:47<02:40, 17.82s/it, best loss: 0.05958510131658315]\u001b[A\n",
            " 47%|████▋     | 7/15 [02:14<02:45, 20.69s/it, best loss: 0.05958510131658315]\u001b[A\n",
            " 53%|█████▎    | 8/15 [02:34<02:24, 20.58s/it, best loss: 0.05958510131658315]\u001b[A\n",
            " 60%|██████    | 9/15 [02:45<01:45, 17.61s/it, best loss: 0.05958510131658315]\u001b[A\n",
            " 67%|██████▋   | 10/15 [03:19<01:53, 22.73s/it, best loss: 0.05958510131658315]\u001b[A\n",
            " 73%|███████▎  | 11/15 [03:32<01:18, 19.61s/it, best loss: 0.05958510131658315]\u001b[A\n",
            " 80%|████████  | 12/15 [04:15<01:20, 26.68s/it, best loss: 0.05958510131658315]\u001b[A\n",
            " 87%|████████▋ | 13/15 [04:36<00:49, 24.98s/it, best loss: 0.05958510131658315]\u001b[A\n",
            " 93%|█████████▎| 14/15 [05:06<00:26, 26.68s/it, best loss: 0.05958510131658315]\u001b[A\n",
            "100%|██████████| 15/15 [05:43<00:00, 22.92s/it, best loss: 0.05958510131658315]"
          ]
        },
        {
          "output_type": "stream",
          "name": "stderr",
          "text": [
            "100%|██████████| 60/60 [10:11:24<00:00, 611.41s/it]"
          ]
        },
        {
          "output_type": "stream",
          "name": "stdout",
          "text": [
            "\n"
          ]
        },
        {
          "output_type": "stream",
          "name": "stderr",
          "text": [
            "\n"
          ]
        }
      ],
      "source": [
        "# Run the backtest for 5 years\n",
        "for period_time in trange(predict_times):\n",
        "    train_start_date = train_end_date - dateutil.relativedelta.relativedelta(months=train_timespan_months)\n",
        "    test_end_date = train_end_date + dateutil.relativedelta.relativedelta(months=test_timespan_months)\n",
        "    train_data = df.query(f'\"{train_start_date}\" < date <= \"{train_end_date}\"')\n",
        "    test_data = df.query(f'\"{train_end_date}\" < date <= \"{test_end_date}\"')\n",
        "    X_train = train_data[feat_cols].values\n",
        "    y_train = train_data[y_col].values\n",
        "    X_test = test_data[feat_cols].values\n",
        "    y_test = test_data[y_col].values.ravel()\n",
        "    def objective(params):\n",
        "        param_dict = dict(\n",
        "            n_estimators = int(params['n_estimators']),\n",
        "            num_leaves = int(params['num_leaves']),\n",
        "            min_data_in_leaf = int(params['min_data_in_leaf']),\n",
        "            bagging_fraction = params['bagging_fraction'],\n",
        "            learning_rate = params['learning_rate'],\n",
        "            lambda_l1 = params['lambda_l1'],\n",
        "            lambda_l2 = params['lambda_l2']\n",
        "        )\n",
        "        model = LGBMRegressor(seed=42,**param_dict)\n",
        "        model.fit(X_train, y_train)\n",
        "        y_pred = model.predict(X_test)\n",
        "        mse = sklearn.metrics.mean_squared_error(y_test, y_pred)\n",
        "        rmse = math.sqrt(mse)\n",
        "        return rmse  # An objective value linked with the Trial object.\n",
        "    ts = time.time()\n",
        "    \n",
        "    trials = Trials()\n",
        "    best = fmin(objective,\n",
        "        space=space,\n",
        "        algo=hyperopt.rand.suggest, # random search\n",
        "        max_evals=n_trials,\n",
        "        trials=trials)\n",
        "\n",
        "    te = time.time()\n",
        "    exc_time = te-ts\n",
        "\n",
        "    best_result = min(trials.losses())\n",
        "    evaluate_detail_df['Smallest RMSE'].append(best_result)\n",
        "    evaluate_detail_df['Time Ellipsed'].append(exc_time)\n",
        "    evaluate_detail_df['Train Start Date'].append(train_start_date)\n",
        "    evaluate_detail_df['Train End Date'].append(train_end_date)\n",
        "    evaluate_detail_df['Test Start Date'].append(train_end_date+dateutil.relativedelta.relativedelta(months=1))\n",
        "    evaluate_detail_df['Test End Date'].append(test_end_date)\n",
        "    train_end_date += dateutil.relativedelta.relativedelta(months=1)\n",
        "evaluate_detail_df = pd.DataFrame(evaluate_detail_df)"
      ]
    },
    {
      "cell_type": "code",
      "execution_count": 8,
      "metadata": {
        "id": "NWnrEZxyy3v3"
      },
      "outputs": [],
      "source": [
        "evaluate_detail_df\n",
        "library_evaluation_df['Library'].extend(['HyperOpt' for _ in range(len(evaluate_detail_df))])\n",
        "library_evaluation_df['Train Start Date'].extend(evaluate_detail_df['Train Start Date'])\n",
        "library_evaluation_df['Train End Date'].extend(evaluate_detail_df['Train End Date'])\n",
        "library_evaluation_df['Test Start Date'].extend(evaluate_detail_df['Test Start Date'])\n",
        "library_evaluation_df['Test End Date'].extend(evaluate_detail_df['Test End Date'])\n",
        "library_evaluation_df['Smallest RMSE'].extend(evaluate_detail_df['Smallest RMSE'])\n",
        "library_evaluation_df['Time Ellipsed'].extend(evaluate_detail_df['Time Ellipsed'])"
      ]
    },
    {
      "cell_type": "code",
      "execution_count": 10,
      "metadata": {
        "id": "xISYcOoU1gIt"
      },
      "outputs": [],
      "source": [
        "hyperopt_tune_res = pd.DataFrame(library_evaluation_df)\n",
        "hyperopt_tune_res.to_pickle('hyperopt_tune_res.pkl')"
      ]
    },
    {
      "cell_type": "code",
      "source": [
        "hyperopt_tune_res"
      ],
      "metadata": {
        "colab": {
          "base_uri": "https://localhost:8080/",
          "height": 1000
        },
        "id": "35Zr2rD18ywO",
        "outputId": "05a37aba-97fd-424d-8546-bf3bb84b02a5"
      },
      "execution_count": 11,
      "outputs": [
        {
          "output_type": "execute_result",
          "data": {
            "text/plain": [
              "     Library Train Start Date Train End Date Test Start Date Test End Date  \\\n",
              "0   HyperOpt       2000-12-01     2015-12-01      2016-01-01    2016-01-01   \n",
              "1   HyperOpt       2001-01-01     2016-01-01      2016-02-01    2016-02-01   \n",
              "2   HyperOpt       2001-02-01     2016-02-01      2016-03-01    2016-03-01   \n",
              "3   HyperOpt       2001-03-01     2016-03-01      2016-04-01    2016-04-01   \n",
              "4   HyperOpt       2001-04-01     2016-04-01      2016-05-01    2016-05-01   \n",
              "5   HyperOpt       2001-05-01     2016-05-01      2016-06-01    2016-06-01   \n",
              "6   HyperOpt       2001-06-01     2016-06-01      2016-07-01    2016-07-01   \n",
              "7   HyperOpt       2001-07-01     2016-07-01      2016-08-01    2016-08-01   \n",
              "8   HyperOpt       2001-08-01     2016-08-01      2016-09-01    2016-09-01   \n",
              "9   HyperOpt       2001-09-01     2016-09-01      2016-10-01    2016-10-01   \n",
              "10  HyperOpt       2001-10-01     2016-10-01      2016-11-01    2016-11-01   \n",
              "11  HyperOpt       2001-11-01     2016-11-01      2016-12-01    2016-12-01   \n",
              "12  HyperOpt       2001-12-01     2016-12-01      2017-01-01    2017-01-01   \n",
              "13  HyperOpt       2002-01-01     2017-01-01      2017-02-01    2017-02-01   \n",
              "14  HyperOpt       2002-02-01     2017-02-01      2017-03-01    2017-03-01   \n",
              "15  HyperOpt       2002-03-01     2017-03-01      2017-04-01    2017-04-01   \n",
              "16  HyperOpt       2002-04-01     2017-04-01      2017-05-01    2017-05-01   \n",
              "17  HyperOpt       2002-05-01     2017-05-01      2017-06-01    2017-06-01   \n",
              "18  HyperOpt       2002-06-01     2017-06-01      2017-07-01    2017-07-01   \n",
              "19  HyperOpt       2002-07-01     2017-07-01      2017-08-01    2017-08-01   \n",
              "20  HyperOpt       2002-08-01     2017-08-01      2017-09-01    2017-09-01   \n",
              "21  HyperOpt       2002-09-01     2017-09-01      2017-10-01    2017-10-01   \n",
              "22  HyperOpt       2002-10-01     2017-10-01      2017-11-01    2017-11-01   \n",
              "23  HyperOpt       2002-11-01     2017-11-01      2017-12-01    2017-12-01   \n",
              "24  HyperOpt       2002-12-01     2017-12-01      2018-01-01    2018-01-01   \n",
              "25  HyperOpt       2003-01-01     2018-01-01      2018-02-01    2018-02-01   \n",
              "26  HyperOpt       2003-02-01     2018-02-01      2018-03-01    2018-03-01   \n",
              "27  HyperOpt       2003-03-01     2018-03-01      2018-04-01    2018-04-01   \n",
              "28  HyperOpt       2003-04-01     2018-04-01      2018-05-01    2018-05-01   \n",
              "29  HyperOpt       2003-05-01     2018-05-01      2018-06-01    2018-06-01   \n",
              "30  HyperOpt       2003-06-01     2018-06-01      2018-07-01    2018-07-01   \n",
              "31  HyperOpt       2003-07-01     2018-07-01      2018-08-01    2018-08-01   \n",
              "32  HyperOpt       2003-08-01     2018-08-01      2018-09-01    2018-09-01   \n",
              "33  HyperOpt       2003-09-01     2018-09-01      2018-10-01    2018-10-01   \n",
              "34  HyperOpt       2003-10-01     2018-10-01      2018-11-01    2018-11-01   \n",
              "35  HyperOpt       2003-11-01     2018-11-01      2018-12-01    2018-12-01   \n",
              "36  HyperOpt       2003-12-01     2018-12-01      2019-01-01    2019-01-01   \n",
              "37  HyperOpt       2004-01-01     2019-01-01      2019-02-01    2019-02-01   \n",
              "38  HyperOpt       2004-02-01     2019-02-01      2019-03-01    2019-03-01   \n",
              "39  HyperOpt       2004-03-01     2019-03-01      2019-04-01    2019-04-01   \n",
              "40  HyperOpt       2004-04-01     2019-04-01      2019-05-01    2019-05-01   \n",
              "41  HyperOpt       2004-05-01     2019-05-01      2019-06-01    2019-06-01   \n",
              "42  HyperOpt       2004-06-01     2019-06-01      2019-07-01    2019-07-01   \n",
              "43  HyperOpt       2004-07-01     2019-07-01      2019-08-01    2019-08-01   \n",
              "44  HyperOpt       2004-08-01     2019-08-01      2019-09-01    2019-09-01   \n",
              "45  HyperOpt       2004-09-01     2019-09-01      2019-10-01    2019-10-01   \n",
              "46  HyperOpt       2004-10-01     2019-10-01      2019-11-01    2019-11-01   \n",
              "47  HyperOpt       2004-11-01     2019-11-01      2019-12-01    2019-12-01   \n",
              "48  HyperOpt       2004-12-01     2019-12-01      2020-01-01    2020-01-01   \n",
              "49  HyperOpt       2005-01-01     2020-01-01      2020-02-01    2020-02-01   \n",
              "50  HyperOpt       2005-02-01     2020-02-01      2020-03-01    2020-03-01   \n",
              "51  HyperOpt       2005-03-01     2020-03-01      2020-04-01    2020-04-01   \n",
              "52  HyperOpt       2005-04-01     2020-04-01      2020-05-01    2020-05-01   \n",
              "53  HyperOpt       2005-05-01     2020-05-01      2020-06-01    2020-06-01   \n",
              "54  HyperOpt       2005-06-01     2020-06-01      2020-07-01    2020-07-01   \n",
              "55  HyperOpt       2005-07-01     2020-07-01      2020-08-01    2020-08-01   \n",
              "56  HyperOpt       2005-08-01     2020-08-01      2020-09-01    2020-09-01   \n",
              "57  HyperOpt       2005-09-01     2020-09-01      2020-10-01    2020-10-01   \n",
              "58  HyperOpt       2005-10-01     2020-10-01      2020-11-01    2020-11-01   \n",
              "59  HyperOpt       2005-11-01     2020-11-01      2020-12-01    2020-12-01   \n",
              "\n",
              "    Smallest RMSE  Time Ellipsed  \n",
              "0        0.118212     652.687818  \n",
              "1        0.068459     523.284430  \n",
              "2        0.090916     558.936830  \n",
              "3        0.072256     511.158078  \n",
              "4        0.057222     661.077880  \n",
              "5        0.067168     510.424067  \n",
              "6        0.067210     601.716901  \n",
              "7        0.064283     639.067829  \n",
              "8        0.051814     677.336538  \n",
              "9        0.077283     537.869380  \n",
              "10       0.087479     584.690880  \n",
              "11       0.048105     582.270190  \n",
              "12       0.064501     799.885442  \n",
              "13       0.054959     510.981845  \n",
              "14       0.043657     559.569505  \n",
              "15       0.050654     591.327018  \n",
              "16       0.063516     810.846991  \n",
              "17       0.053294     611.875715  \n",
              "18       0.050049     784.541547  \n",
              "19       0.062871     760.354222  \n",
              "20       0.064753     524.393624  \n",
              "21       0.064067     612.193588  \n",
              "22       0.068104     510.153768  \n",
              "23       0.050868     650.177344  \n",
              "24       0.072731     377.492769  \n",
              "25       0.083438     565.889819  \n",
              "26       0.059204     659.512667  \n",
              "27       0.068697     550.997809  \n",
              "28       0.065738     549.982322  \n",
              "29       0.057526     516.377050  \n",
              "30       0.069395     729.817485  \n",
              "31       0.065069     683.142238  \n",
              "32       0.052009     491.645564  \n",
              "33       0.140721     728.320342  \n",
              "34       0.078692     571.292343  \n",
              "35       0.123327     632.890741  \n",
              "36       0.107586     693.326313  \n",
              "37       0.070652     649.466427  \n",
              "38       0.059396     499.052860  \n",
              "39       0.069578     695.963139  \n",
              "40       0.114860     529.619018  \n",
              "41       0.079992     599.399367  \n",
              "42       0.063060     612.943591  \n",
              "43       0.093923     596.835522  \n",
              "44       0.057470     718.736707  \n",
              "45       0.069631     799.654319  \n",
              "46       0.063767     671.257304  \n",
              "47       0.053214     583.340483  \n",
              "48       0.082915     729.444496  \n",
              "49       0.134300     700.873438  \n",
              "50       0.481555     534.446373  \n",
              "51       0.268931     576.807280  \n",
              "52       0.091000     463.882325  \n",
              "53       0.069836     511.169563  \n",
              "54       0.095728     791.247245  \n",
              "55       0.080126     409.651388  \n",
              "56       0.081774     774.276498  \n",
              "57       0.077145     612.367752  \n",
              "58       0.159079     759.055263  \n",
              "59       0.059585     343.859844  "
            ],
            "text/html": [
              "\n",
              "  <div id=\"df-8856def1-795d-4251-ac47-8e1c80923e2c\">\n",
              "    <div class=\"colab-df-container\">\n",
              "      <div>\n",
              "<style scoped>\n",
              "    .dataframe tbody tr th:only-of-type {\n",
              "        vertical-align: middle;\n",
              "    }\n",
              "\n",
              "    .dataframe tbody tr th {\n",
              "        vertical-align: top;\n",
              "    }\n",
              "\n",
              "    .dataframe thead th {\n",
              "        text-align: right;\n",
              "    }\n",
              "</style>\n",
              "<table border=\"1\" class=\"dataframe\">\n",
              "  <thead>\n",
              "    <tr style=\"text-align: right;\">\n",
              "      <th></th>\n",
              "      <th>Library</th>\n",
              "      <th>Train Start Date</th>\n",
              "      <th>Train End Date</th>\n",
              "      <th>Test Start Date</th>\n",
              "      <th>Test End Date</th>\n",
              "      <th>Smallest RMSE</th>\n",
              "      <th>Time Ellipsed</th>\n",
              "    </tr>\n",
              "  </thead>\n",
              "  <tbody>\n",
              "    <tr>\n",
              "      <th>0</th>\n",
              "      <td>HyperOpt</td>\n",
              "      <td>2000-12-01</td>\n",
              "      <td>2015-12-01</td>\n",
              "      <td>2016-01-01</td>\n",
              "      <td>2016-01-01</td>\n",
              "      <td>0.118212</td>\n",
              "      <td>652.687818</td>\n",
              "    </tr>\n",
              "    <tr>\n",
              "      <th>1</th>\n",
              "      <td>HyperOpt</td>\n",
              "      <td>2001-01-01</td>\n",
              "      <td>2016-01-01</td>\n",
              "      <td>2016-02-01</td>\n",
              "      <td>2016-02-01</td>\n",
              "      <td>0.068459</td>\n",
              "      <td>523.284430</td>\n",
              "    </tr>\n",
              "    <tr>\n",
              "      <th>2</th>\n",
              "      <td>HyperOpt</td>\n",
              "      <td>2001-02-01</td>\n",
              "      <td>2016-02-01</td>\n",
              "      <td>2016-03-01</td>\n",
              "      <td>2016-03-01</td>\n",
              "      <td>0.090916</td>\n",
              "      <td>558.936830</td>\n",
              "    </tr>\n",
              "    <tr>\n",
              "      <th>3</th>\n",
              "      <td>HyperOpt</td>\n",
              "      <td>2001-03-01</td>\n",
              "      <td>2016-03-01</td>\n",
              "      <td>2016-04-01</td>\n",
              "      <td>2016-04-01</td>\n",
              "      <td>0.072256</td>\n",
              "      <td>511.158078</td>\n",
              "    </tr>\n",
              "    <tr>\n",
              "      <th>4</th>\n",
              "      <td>HyperOpt</td>\n",
              "      <td>2001-04-01</td>\n",
              "      <td>2016-04-01</td>\n",
              "      <td>2016-05-01</td>\n",
              "      <td>2016-05-01</td>\n",
              "      <td>0.057222</td>\n",
              "      <td>661.077880</td>\n",
              "    </tr>\n",
              "    <tr>\n",
              "      <th>5</th>\n",
              "      <td>HyperOpt</td>\n",
              "      <td>2001-05-01</td>\n",
              "      <td>2016-05-01</td>\n",
              "      <td>2016-06-01</td>\n",
              "      <td>2016-06-01</td>\n",
              "      <td>0.067168</td>\n",
              "      <td>510.424067</td>\n",
              "    </tr>\n",
              "    <tr>\n",
              "      <th>6</th>\n",
              "      <td>HyperOpt</td>\n",
              "      <td>2001-06-01</td>\n",
              "      <td>2016-06-01</td>\n",
              "      <td>2016-07-01</td>\n",
              "      <td>2016-07-01</td>\n",
              "      <td>0.067210</td>\n",
              "      <td>601.716901</td>\n",
              "    </tr>\n",
              "    <tr>\n",
              "      <th>7</th>\n",
              "      <td>HyperOpt</td>\n",
              "      <td>2001-07-01</td>\n",
              "      <td>2016-07-01</td>\n",
              "      <td>2016-08-01</td>\n",
              "      <td>2016-08-01</td>\n",
              "      <td>0.064283</td>\n",
              "      <td>639.067829</td>\n",
              "    </tr>\n",
              "    <tr>\n",
              "      <th>8</th>\n",
              "      <td>HyperOpt</td>\n",
              "      <td>2001-08-01</td>\n",
              "      <td>2016-08-01</td>\n",
              "      <td>2016-09-01</td>\n",
              "      <td>2016-09-01</td>\n",
              "      <td>0.051814</td>\n",
              "      <td>677.336538</td>\n",
              "    </tr>\n",
              "    <tr>\n",
              "      <th>9</th>\n",
              "      <td>HyperOpt</td>\n",
              "      <td>2001-09-01</td>\n",
              "      <td>2016-09-01</td>\n",
              "      <td>2016-10-01</td>\n",
              "      <td>2016-10-01</td>\n",
              "      <td>0.077283</td>\n",
              "      <td>537.869380</td>\n",
              "    </tr>\n",
              "    <tr>\n",
              "      <th>10</th>\n",
              "      <td>HyperOpt</td>\n",
              "      <td>2001-10-01</td>\n",
              "      <td>2016-10-01</td>\n",
              "      <td>2016-11-01</td>\n",
              "      <td>2016-11-01</td>\n",
              "      <td>0.087479</td>\n",
              "      <td>584.690880</td>\n",
              "    </tr>\n",
              "    <tr>\n",
              "      <th>11</th>\n",
              "      <td>HyperOpt</td>\n",
              "      <td>2001-11-01</td>\n",
              "      <td>2016-11-01</td>\n",
              "      <td>2016-12-01</td>\n",
              "      <td>2016-12-01</td>\n",
              "      <td>0.048105</td>\n",
              "      <td>582.270190</td>\n",
              "    </tr>\n",
              "    <tr>\n",
              "      <th>12</th>\n",
              "      <td>HyperOpt</td>\n",
              "      <td>2001-12-01</td>\n",
              "      <td>2016-12-01</td>\n",
              "      <td>2017-01-01</td>\n",
              "      <td>2017-01-01</td>\n",
              "      <td>0.064501</td>\n",
              "      <td>799.885442</td>\n",
              "    </tr>\n",
              "    <tr>\n",
              "      <th>13</th>\n",
              "      <td>HyperOpt</td>\n",
              "      <td>2002-01-01</td>\n",
              "      <td>2017-01-01</td>\n",
              "      <td>2017-02-01</td>\n",
              "      <td>2017-02-01</td>\n",
              "      <td>0.054959</td>\n",
              "      <td>510.981845</td>\n",
              "    </tr>\n",
              "    <tr>\n",
              "      <th>14</th>\n",
              "      <td>HyperOpt</td>\n",
              "      <td>2002-02-01</td>\n",
              "      <td>2017-02-01</td>\n",
              "      <td>2017-03-01</td>\n",
              "      <td>2017-03-01</td>\n",
              "      <td>0.043657</td>\n",
              "      <td>559.569505</td>\n",
              "    </tr>\n",
              "    <tr>\n",
              "      <th>15</th>\n",
              "      <td>HyperOpt</td>\n",
              "      <td>2002-03-01</td>\n",
              "      <td>2017-03-01</td>\n",
              "      <td>2017-04-01</td>\n",
              "      <td>2017-04-01</td>\n",
              "      <td>0.050654</td>\n",
              "      <td>591.327018</td>\n",
              "    </tr>\n",
              "    <tr>\n",
              "      <th>16</th>\n",
              "      <td>HyperOpt</td>\n",
              "      <td>2002-04-01</td>\n",
              "      <td>2017-04-01</td>\n",
              "      <td>2017-05-01</td>\n",
              "      <td>2017-05-01</td>\n",
              "      <td>0.063516</td>\n",
              "      <td>810.846991</td>\n",
              "    </tr>\n",
              "    <tr>\n",
              "      <th>17</th>\n",
              "      <td>HyperOpt</td>\n",
              "      <td>2002-05-01</td>\n",
              "      <td>2017-05-01</td>\n",
              "      <td>2017-06-01</td>\n",
              "      <td>2017-06-01</td>\n",
              "      <td>0.053294</td>\n",
              "      <td>611.875715</td>\n",
              "    </tr>\n",
              "    <tr>\n",
              "      <th>18</th>\n",
              "      <td>HyperOpt</td>\n",
              "      <td>2002-06-01</td>\n",
              "      <td>2017-06-01</td>\n",
              "      <td>2017-07-01</td>\n",
              "      <td>2017-07-01</td>\n",
              "      <td>0.050049</td>\n",
              "      <td>784.541547</td>\n",
              "    </tr>\n",
              "    <tr>\n",
              "      <th>19</th>\n",
              "      <td>HyperOpt</td>\n",
              "      <td>2002-07-01</td>\n",
              "      <td>2017-07-01</td>\n",
              "      <td>2017-08-01</td>\n",
              "      <td>2017-08-01</td>\n",
              "      <td>0.062871</td>\n",
              "      <td>760.354222</td>\n",
              "    </tr>\n",
              "    <tr>\n",
              "      <th>20</th>\n",
              "      <td>HyperOpt</td>\n",
              "      <td>2002-08-01</td>\n",
              "      <td>2017-08-01</td>\n",
              "      <td>2017-09-01</td>\n",
              "      <td>2017-09-01</td>\n",
              "      <td>0.064753</td>\n",
              "      <td>524.393624</td>\n",
              "    </tr>\n",
              "    <tr>\n",
              "      <th>21</th>\n",
              "      <td>HyperOpt</td>\n",
              "      <td>2002-09-01</td>\n",
              "      <td>2017-09-01</td>\n",
              "      <td>2017-10-01</td>\n",
              "      <td>2017-10-01</td>\n",
              "      <td>0.064067</td>\n",
              "      <td>612.193588</td>\n",
              "    </tr>\n",
              "    <tr>\n",
              "      <th>22</th>\n",
              "      <td>HyperOpt</td>\n",
              "      <td>2002-10-01</td>\n",
              "      <td>2017-10-01</td>\n",
              "      <td>2017-11-01</td>\n",
              "      <td>2017-11-01</td>\n",
              "      <td>0.068104</td>\n",
              "      <td>510.153768</td>\n",
              "    </tr>\n",
              "    <tr>\n",
              "      <th>23</th>\n",
              "      <td>HyperOpt</td>\n",
              "      <td>2002-11-01</td>\n",
              "      <td>2017-11-01</td>\n",
              "      <td>2017-12-01</td>\n",
              "      <td>2017-12-01</td>\n",
              "      <td>0.050868</td>\n",
              "      <td>650.177344</td>\n",
              "    </tr>\n",
              "    <tr>\n",
              "      <th>24</th>\n",
              "      <td>HyperOpt</td>\n",
              "      <td>2002-12-01</td>\n",
              "      <td>2017-12-01</td>\n",
              "      <td>2018-01-01</td>\n",
              "      <td>2018-01-01</td>\n",
              "      <td>0.072731</td>\n",
              "      <td>377.492769</td>\n",
              "    </tr>\n",
              "    <tr>\n",
              "      <th>25</th>\n",
              "      <td>HyperOpt</td>\n",
              "      <td>2003-01-01</td>\n",
              "      <td>2018-01-01</td>\n",
              "      <td>2018-02-01</td>\n",
              "      <td>2018-02-01</td>\n",
              "      <td>0.083438</td>\n",
              "      <td>565.889819</td>\n",
              "    </tr>\n",
              "    <tr>\n",
              "      <th>26</th>\n",
              "      <td>HyperOpt</td>\n",
              "      <td>2003-02-01</td>\n",
              "      <td>2018-02-01</td>\n",
              "      <td>2018-03-01</td>\n",
              "      <td>2018-03-01</td>\n",
              "      <td>0.059204</td>\n",
              "      <td>659.512667</td>\n",
              "    </tr>\n",
              "    <tr>\n",
              "      <th>27</th>\n",
              "      <td>HyperOpt</td>\n",
              "      <td>2003-03-01</td>\n",
              "      <td>2018-03-01</td>\n",
              "      <td>2018-04-01</td>\n",
              "      <td>2018-04-01</td>\n",
              "      <td>0.068697</td>\n",
              "      <td>550.997809</td>\n",
              "    </tr>\n",
              "    <tr>\n",
              "      <th>28</th>\n",
              "      <td>HyperOpt</td>\n",
              "      <td>2003-04-01</td>\n",
              "      <td>2018-04-01</td>\n",
              "      <td>2018-05-01</td>\n",
              "      <td>2018-05-01</td>\n",
              "      <td>0.065738</td>\n",
              "      <td>549.982322</td>\n",
              "    </tr>\n",
              "    <tr>\n",
              "      <th>29</th>\n",
              "      <td>HyperOpt</td>\n",
              "      <td>2003-05-01</td>\n",
              "      <td>2018-05-01</td>\n",
              "      <td>2018-06-01</td>\n",
              "      <td>2018-06-01</td>\n",
              "      <td>0.057526</td>\n",
              "      <td>516.377050</td>\n",
              "    </tr>\n",
              "    <tr>\n",
              "      <th>30</th>\n",
              "      <td>HyperOpt</td>\n",
              "      <td>2003-06-01</td>\n",
              "      <td>2018-06-01</td>\n",
              "      <td>2018-07-01</td>\n",
              "      <td>2018-07-01</td>\n",
              "      <td>0.069395</td>\n",
              "      <td>729.817485</td>\n",
              "    </tr>\n",
              "    <tr>\n",
              "      <th>31</th>\n",
              "      <td>HyperOpt</td>\n",
              "      <td>2003-07-01</td>\n",
              "      <td>2018-07-01</td>\n",
              "      <td>2018-08-01</td>\n",
              "      <td>2018-08-01</td>\n",
              "      <td>0.065069</td>\n",
              "      <td>683.142238</td>\n",
              "    </tr>\n",
              "    <tr>\n",
              "      <th>32</th>\n",
              "      <td>HyperOpt</td>\n",
              "      <td>2003-08-01</td>\n",
              "      <td>2018-08-01</td>\n",
              "      <td>2018-09-01</td>\n",
              "      <td>2018-09-01</td>\n",
              "      <td>0.052009</td>\n",
              "      <td>491.645564</td>\n",
              "    </tr>\n",
              "    <tr>\n",
              "      <th>33</th>\n",
              "      <td>HyperOpt</td>\n",
              "      <td>2003-09-01</td>\n",
              "      <td>2018-09-01</td>\n",
              "      <td>2018-10-01</td>\n",
              "      <td>2018-10-01</td>\n",
              "      <td>0.140721</td>\n",
              "      <td>728.320342</td>\n",
              "    </tr>\n",
              "    <tr>\n",
              "      <th>34</th>\n",
              "      <td>HyperOpt</td>\n",
              "      <td>2003-10-01</td>\n",
              "      <td>2018-10-01</td>\n",
              "      <td>2018-11-01</td>\n",
              "      <td>2018-11-01</td>\n",
              "      <td>0.078692</td>\n",
              "      <td>571.292343</td>\n",
              "    </tr>\n",
              "    <tr>\n",
              "      <th>35</th>\n",
              "      <td>HyperOpt</td>\n",
              "      <td>2003-11-01</td>\n",
              "      <td>2018-11-01</td>\n",
              "      <td>2018-12-01</td>\n",
              "      <td>2018-12-01</td>\n",
              "      <td>0.123327</td>\n",
              "      <td>632.890741</td>\n",
              "    </tr>\n",
              "    <tr>\n",
              "      <th>36</th>\n",
              "      <td>HyperOpt</td>\n",
              "      <td>2003-12-01</td>\n",
              "      <td>2018-12-01</td>\n",
              "      <td>2019-01-01</td>\n",
              "      <td>2019-01-01</td>\n",
              "      <td>0.107586</td>\n",
              "      <td>693.326313</td>\n",
              "    </tr>\n",
              "    <tr>\n",
              "      <th>37</th>\n",
              "      <td>HyperOpt</td>\n",
              "      <td>2004-01-01</td>\n",
              "      <td>2019-01-01</td>\n",
              "      <td>2019-02-01</td>\n",
              "      <td>2019-02-01</td>\n",
              "      <td>0.070652</td>\n",
              "      <td>649.466427</td>\n",
              "    </tr>\n",
              "    <tr>\n",
              "      <th>38</th>\n",
              "      <td>HyperOpt</td>\n",
              "      <td>2004-02-01</td>\n",
              "      <td>2019-02-01</td>\n",
              "      <td>2019-03-01</td>\n",
              "      <td>2019-03-01</td>\n",
              "      <td>0.059396</td>\n",
              "      <td>499.052860</td>\n",
              "    </tr>\n",
              "    <tr>\n",
              "      <th>39</th>\n",
              "      <td>HyperOpt</td>\n",
              "      <td>2004-03-01</td>\n",
              "      <td>2019-03-01</td>\n",
              "      <td>2019-04-01</td>\n",
              "      <td>2019-04-01</td>\n",
              "      <td>0.069578</td>\n",
              "      <td>695.963139</td>\n",
              "    </tr>\n",
              "    <tr>\n",
              "      <th>40</th>\n",
              "      <td>HyperOpt</td>\n",
              "      <td>2004-04-01</td>\n",
              "      <td>2019-04-01</td>\n",
              "      <td>2019-05-01</td>\n",
              "      <td>2019-05-01</td>\n",
              "      <td>0.114860</td>\n",
              "      <td>529.619018</td>\n",
              "    </tr>\n",
              "    <tr>\n",
              "      <th>41</th>\n",
              "      <td>HyperOpt</td>\n",
              "      <td>2004-05-01</td>\n",
              "      <td>2019-05-01</td>\n",
              "      <td>2019-06-01</td>\n",
              "      <td>2019-06-01</td>\n",
              "      <td>0.079992</td>\n",
              "      <td>599.399367</td>\n",
              "    </tr>\n",
              "    <tr>\n",
              "      <th>42</th>\n",
              "      <td>HyperOpt</td>\n",
              "      <td>2004-06-01</td>\n",
              "      <td>2019-06-01</td>\n",
              "      <td>2019-07-01</td>\n",
              "      <td>2019-07-01</td>\n",
              "      <td>0.063060</td>\n",
              "      <td>612.943591</td>\n",
              "    </tr>\n",
              "    <tr>\n",
              "      <th>43</th>\n",
              "      <td>HyperOpt</td>\n",
              "      <td>2004-07-01</td>\n",
              "      <td>2019-07-01</td>\n",
              "      <td>2019-08-01</td>\n",
              "      <td>2019-08-01</td>\n",
              "      <td>0.093923</td>\n",
              "      <td>596.835522</td>\n",
              "    </tr>\n",
              "    <tr>\n",
              "      <th>44</th>\n",
              "      <td>HyperOpt</td>\n",
              "      <td>2004-08-01</td>\n",
              "      <td>2019-08-01</td>\n",
              "      <td>2019-09-01</td>\n",
              "      <td>2019-09-01</td>\n",
              "      <td>0.057470</td>\n",
              "      <td>718.736707</td>\n",
              "    </tr>\n",
              "    <tr>\n",
              "      <th>45</th>\n",
              "      <td>HyperOpt</td>\n",
              "      <td>2004-09-01</td>\n",
              "      <td>2019-09-01</td>\n",
              "      <td>2019-10-01</td>\n",
              "      <td>2019-10-01</td>\n",
              "      <td>0.069631</td>\n",
              "      <td>799.654319</td>\n",
              "    </tr>\n",
              "    <tr>\n",
              "      <th>46</th>\n",
              "      <td>HyperOpt</td>\n",
              "      <td>2004-10-01</td>\n",
              "      <td>2019-10-01</td>\n",
              "      <td>2019-11-01</td>\n",
              "      <td>2019-11-01</td>\n",
              "      <td>0.063767</td>\n",
              "      <td>671.257304</td>\n",
              "    </tr>\n",
              "    <tr>\n",
              "      <th>47</th>\n",
              "      <td>HyperOpt</td>\n",
              "      <td>2004-11-01</td>\n",
              "      <td>2019-11-01</td>\n",
              "      <td>2019-12-01</td>\n",
              "      <td>2019-12-01</td>\n",
              "      <td>0.053214</td>\n",
              "      <td>583.340483</td>\n",
              "    </tr>\n",
              "    <tr>\n",
              "      <th>48</th>\n",
              "      <td>HyperOpt</td>\n",
              "      <td>2004-12-01</td>\n",
              "      <td>2019-12-01</td>\n",
              "      <td>2020-01-01</td>\n",
              "      <td>2020-01-01</td>\n",
              "      <td>0.082915</td>\n",
              "      <td>729.444496</td>\n",
              "    </tr>\n",
              "    <tr>\n",
              "      <th>49</th>\n",
              "      <td>HyperOpt</td>\n",
              "      <td>2005-01-01</td>\n",
              "      <td>2020-01-01</td>\n",
              "      <td>2020-02-01</td>\n",
              "      <td>2020-02-01</td>\n",
              "      <td>0.134300</td>\n",
              "      <td>700.873438</td>\n",
              "    </tr>\n",
              "    <tr>\n",
              "      <th>50</th>\n",
              "      <td>HyperOpt</td>\n",
              "      <td>2005-02-01</td>\n",
              "      <td>2020-02-01</td>\n",
              "      <td>2020-03-01</td>\n",
              "      <td>2020-03-01</td>\n",
              "      <td>0.481555</td>\n",
              "      <td>534.446373</td>\n",
              "    </tr>\n",
              "    <tr>\n",
              "      <th>51</th>\n",
              "      <td>HyperOpt</td>\n",
              "      <td>2005-03-01</td>\n",
              "      <td>2020-03-01</td>\n",
              "      <td>2020-04-01</td>\n",
              "      <td>2020-04-01</td>\n",
              "      <td>0.268931</td>\n",
              "      <td>576.807280</td>\n",
              "    </tr>\n",
              "    <tr>\n",
              "      <th>52</th>\n",
              "      <td>HyperOpt</td>\n",
              "      <td>2005-04-01</td>\n",
              "      <td>2020-04-01</td>\n",
              "      <td>2020-05-01</td>\n",
              "      <td>2020-05-01</td>\n",
              "      <td>0.091000</td>\n",
              "      <td>463.882325</td>\n",
              "    </tr>\n",
              "    <tr>\n",
              "      <th>53</th>\n",
              "      <td>HyperOpt</td>\n",
              "      <td>2005-05-01</td>\n",
              "      <td>2020-05-01</td>\n",
              "      <td>2020-06-01</td>\n",
              "      <td>2020-06-01</td>\n",
              "      <td>0.069836</td>\n",
              "      <td>511.169563</td>\n",
              "    </tr>\n",
              "    <tr>\n",
              "      <th>54</th>\n",
              "      <td>HyperOpt</td>\n",
              "      <td>2005-06-01</td>\n",
              "      <td>2020-06-01</td>\n",
              "      <td>2020-07-01</td>\n",
              "      <td>2020-07-01</td>\n",
              "      <td>0.095728</td>\n",
              "      <td>791.247245</td>\n",
              "    </tr>\n",
              "    <tr>\n",
              "      <th>55</th>\n",
              "      <td>HyperOpt</td>\n",
              "      <td>2005-07-01</td>\n",
              "      <td>2020-07-01</td>\n",
              "      <td>2020-08-01</td>\n",
              "      <td>2020-08-01</td>\n",
              "      <td>0.080126</td>\n",
              "      <td>409.651388</td>\n",
              "    </tr>\n",
              "    <tr>\n",
              "      <th>56</th>\n",
              "      <td>HyperOpt</td>\n",
              "      <td>2005-08-01</td>\n",
              "      <td>2020-08-01</td>\n",
              "      <td>2020-09-01</td>\n",
              "      <td>2020-09-01</td>\n",
              "      <td>0.081774</td>\n",
              "      <td>774.276498</td>\n",
              "    </tr>\n",
              "    <tr>\n",
              "      <th>57</th>\n",
              "      <td>HyperOpt</td>\n",
              "      <td>2005-09-01</td>\n",
              "      <td>2020-09-01</td>\n",
              "      <td>2020-10-01</td>\n",
              "      <td>2020-10-01</td>\n",
              "      <td>0.077145</td>\n",
              "      <td>612.367752</td>\n",
              "    </tr>\n",
              "    <tr>\n",
              "      <th>58</th>\n",
              "      <td>HyperOpt</td>\n",
              "      <td>2005-10-01</td>\n",
              "      <td>2020-10-01</td>\n",
              "      <td>2020-11-01</td>\n",
              "      <td>2020-11-01</td>\n",
              "      <td>0.159079</td>\n",
              "      <td>759.055263</td>\n",
              "    </tr>\n",
              "    <tr>\n",
              "      <th>59</th>\n",
              "      <td>HyperOpt</td>\n",
              "      <td>2005-11-01</td>\n",
              "      <td>2020-11-01</td>\n",
              "      <td>2020-12-01</td>\n",
              "      <td>2020-12-01</td>\n",
              "      <td>0.059585</td>\n",
              "      <td>343.859844</td>\n",
              "    </tr>\n",
              "  </tbody>\n",
              "</table>\n",
              "</div>\n",
              "      <button class=\"colab-df-convert\" onclick=\"convertToInteractive('df-8856def1-795d-4251-ac47-8e1c80923e2c')\"\n",
              "              title=\"Convert this dataframe to an interactive table.\"\n",
              "              style=\"display:none;\">\n",
              "        \n",
              "  <svg xmlns=\"http://www.w3.org/2000/svg\" height=\"24px\"viewBox=\"0 0 24 24\"\n",
              "       width=\"24px\">\n",
              "    <path d=\"M0 0h24v24H0V0z\" fill=\"none\"/>\n",
              "    <path d=\"M18.56 5.44l.94 2.06.94-2.06 2.06-.94-2.06-.94-.94-2.06-.94 2.06-2.06.94zm-11 1L8.5 8.5l.94-2.06 2.06-.94-2.06-.94L8.5 2.5l-.94 2.06-2.06.94zm10 10l.94 2.06.94-2.06 2.06-.94-2.06-.94-.94-2.06-.94 2.06-2.06.94z\"/><path d=\"M17.41 7.96l-1.37-1.37c-.4-.4-.92-.59-1.43-.59-.52 0-1.04.2-1.43.59L10.3 9.45l-7.72 7.72c-.78.78-.78 2.05 0 2.83L4 21.41c.39.39.9.59 1.41.59.51 0 1.02-.2 1.41-.59l7.78-7.78 2.81-2.81c.8-.78.8-2.07 0-2.86zM5.41 20L4 18.59l7.72-7.72 1.47 1.35L5.41 20z\"/>\n",
              "  </svg>\n",
              "      </button>\n",
              "      \n",
              "  <style>\n",
              "    .colab-df-container {\n",
              "      display:flex;\n",
              "      flex-wrap:wrap;\n",
              "      gap: 12px;\n",
              "    }\n",
              "\n",
              "    .colab-df-convert {\n",
              "      background-color: #E8F0FE;\n",
              "      border: none;\n",
              "      border-radius: 50%;\n",
              "      cursor: pointer;\n",
              "      display: none;\n",
              "      fill: #1967D2;\n",
              "      height: 32px;\n",
              "      padding: 0 0 0 0;\n",
              "      width: 32px;\n",
              "    }\n",
              "\n",
              "    .colab-df-convert:hover {\n",
              "      background-color: #E2EBFA;\n",
              "      box-shadow: 0px 1px 2px rgba(60, 64, 67, 0.3), 0px 1px 3px 1px rgba(60, 64, 67, 0.15);\n",
              "      fill: #174EA6;\n",
              "    }\n",
              "\n",
              "    [theme=dark] .colab-df-convert {\n",
              "      background-color: #3B4455;\n",
              "      fill: #D2E3FC;\n",
              "    }\n",
              "\n",
              "    [theme=dark] .colab-df-convert:hover {\n",
              "      background-color: #434B5C;\n",
              "      box-shadow: 0px 1px 3px 1px rgba(0, 0, 0, 0.15);\n",
              "      filter: drop-shadow(0px 1px 2px rgba(0, 0, 0, 0.3));\n",
              "      fill: #FFFFFF;\n",
              "    }\n",
              "  </style>\n",
              "\n",
              "      <script>\n",
              "        const buttonEl =\n",
              "          document.querySelector('#df-8856def1-795d-4251-ac47-8e1c80923e2c button.colab-df-convert');\n",
              "        buttonEl.style.display =\n",
              "          google.colab.kernel.accessAllowed ? 'block' : 'none';\n",
              "\n",
              "        async function convertToInteractive(key) {\n",
              "          const element = document.querySelector('#df-8856def1-795d-4251-ac47-8e1c80923e2c');\n",
              "          const dataTable =\n",
              "            await google.colab.kernel.invokeFunction('convertToInteractive',\n",
              "                                                     [key], {});\n",
              "          if (!dataTable) return;\n",
              "\n",
              "          const docLinkHtml = 'Like what you see? Visit the ' +\n",
              "            '<a target=\"_blank\" href=https://colab.research.google.com/notebooks/data_table.ipynb>data table notebook</a>'\n",
              "            + ' to learn more about interactive tables.';\n",
              "          element.innerHTML = '';\n",
              "          dataTable['output_type'] = 'display_data';\n",
              "          await google.colab.output.renderOutput(dataTable, element);\n",
              "          const docLink = document.createElement('div');\n",
              "          docLink.innerHTML = docLinkHtml;\n",
              "          element.appendChild(docLink);\n",
              "        }\n",
              "      </script>\n",
              "    </div>\n",
              "  </div>\n",
              "  "
            ]
          },
          "metadata": {},
          "execution_count": 11
        }
      ]
    }
  ],
  "metadata": {
    "colab": {
      "background_execution": "on",
      "collapsed_sections": [],
      "name": "HyperOpt_HyperParam_Tuning.ipynb",
      "provenance": [],
      "toc_visible": true,
      "authorship_tag": "ABX9TyMS2OSvHmciKZuUo9bPTQro",
      "include_colab_link": true
    },
    "kernelspec": {
      "display_name": "Python 3",
      "name": "python3"
    },
    "language_info": {
      "name": "python"
    }
  },
  "nbformat": 4,
  "nbformat_minor": 0
}