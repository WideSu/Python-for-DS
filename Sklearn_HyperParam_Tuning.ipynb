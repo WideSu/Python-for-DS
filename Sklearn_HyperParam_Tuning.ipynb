{
  "cells": [
    {
      "cell_type": "markdown",
      "metadata": {
        "id": "view-in-github",
        "colab_type": "text"
      },
      "source": [
        "<a href=\"https://colab.research.google.com/github/WideSu/Python-for-DS/blob/main/Sklearn_HyperParam_Tuning.ipynb\" target=\"_parent\"><img src=\"https://colab.research.google.com/assets/colab-badge.svg\" alt=\"Open In Colab\"/></a>"
      ]
    },
    {
      "cell_type": "markdown",
      "source": [
        "TO-DO\n",
        "- [x] Test the average time usage and RMSE for each epoch using scikit-learn random search\n",
        "- [ ] Test TPE hyper param tuning for HyperOpt, Ray, Optuna\n",
        "- [ ] Plot the RMSE through timeline\n",
        "- [ ] Use the different sampler in Optuna: Random,TPE,CMA-ES,NSGA-II\n",
        "\n",
        "The outcome:\n",
        "- A chart consisting the average RMSE and excuation time for all hyper parameter tunning methods\n",
        "\n",
        "|HPO Package                                  |Avg RMSE                        |Avg Time Ellipsed                                            |\n",
        "|---------------------------------------------|--------------------------------|-------------------------------------------------------------|\n",
        "|Scikit-learn                                 |                                |                                                             |\n",
        "|HyperOpt                                     |                                |                                                             |\n",
        "|Ray                                          |                                |                                                             |\n",
        "|Optuna                                       |                                |                                                             |\n",
        "\n",
        "|Library|Pros|Cons|Scenario|\n",
        "|-|-|-|-|\n",
        "|Scikit-learn|Flexible and basic|Only 2 basic methods (grid/random), New methods are not stable|Tradictional tuning|\n",
        "|HyperOpt|High-speed and flexible,New search method: TPE/ATPE| Out-of-date interface |Time-limited|\n",
        "|Ray|Systematic and well wrapped|Too customized and not flexible,Time-cost on initialization|Fast development and deployment with various tuning methods|\n",
        "|Optuna|Well-performed and light;Include all popular and stable tuning methods |Not well wrapped for all methods|Accurate, flexible required|\n"
      ],
      "metadata": {
        "id": "zgDPbP-qoXZI"
      }
    },
    {
      "cell_type": "code",
      "execution_count": null,
      "metadata": {
        "colab": {
          "base_uri": "https://localhost:8080/"
        },
        "id": "WbuirGaFkWCu",
        "outputId": "cf92c485-6581-49e6-a2d1-f040565acf4e"
      },
      "outputs": [
        {
          "output_type": "stream",
          "name": "stdout",
          "text": [
            "Mounted at /content/drive\n",
            "/content/drive/MyDrive/HPO\n"
          ]
        }
      ],
      "source": [
        "# @title Mont on Google Drive\n",
        "from google.colab import drive\n",
        "drive.mount('/content/drive')\n",
        "%cd /content/drive/MyDrive/HPO/"
      ]
    },
    {
      "cell_type": "code",
      "execution_count": null,
      "metadata": {
        "id": "uVUkms5Un1uZ",
        "cellView": "form"
      },
      "outputs": [],
      "source": [
        "# @title Install and import packages\n",
        "! pip install dateutil\n",
        "! pip install lightgbm\n",
        "! pip install optuna\n",
        "import pandas as pd\n",
        "import dateutil\n",
        "import datetime\n",
        "import optuna\n",
        "from tqdm import tqdm, trange\n",
        "from lightgbm import LGBMRegressor\n",
        "import sklearn\n",
        "import math\n",
        "import time"
      ]
    },
    {
      "cell_type": "code",
      "execution_count": null,
      "metadata": {
        "id": "dtzhF9YfyNKz",
        "cellView": "form"
      },
      "outputs": [],
      "source": [
        "# @title Read-in data and check data type and volume\n",
        "df = pd.read_csv('./exp_data.csv')\n",
        "df.info()"
      ]
    },
    {
      "cell_type": "code",
      "execution_count": null,
      "metadata": {
        "id": "xnz0CZlvqurc",
        "cellView": "form"
      },
      "outputs": [],
      "source": [
        "# @title Change into datatime type\n",
        "df[[\"date\"]] = df[[\"date\"]].apply(pd.to_datetime)"
      ]
    },
    {
      "cell_type": "code",
      "source": [
        "# @title Configurations for experiements\n",
        "from sklearn.model_selection import RandomizedSearchCV\n",
        "from sklearn.metrics import make_scorer\n",
        "from scipy.stats import uniform,randint\n",
        "# Configuration \n",
        "train_timespan_months = 180\n",
        "whole_period_months = 60\n",
        "test_timespan_months = 1\n",
        "n_trials = 15\n",
        "first_end_time = datetime.datetime(2015, 12, 1)\n",
        "predict_times = 60\n",
        "feat_cols = ['absacc', 'acc', 'age', 'agr', 'baspread','bm', 'bm_ia',\n",
        "             'cash', 'cashdebt', 'cashpr', 'cfp', 'cfp_ia', 'chatoia', 'chcsho', 'chempia', 'chinv', 'chmom',\n",
        "             'chpmia', 'chtx', 'cinvest', 'convind', 'currat', 'depr', 'divi', 'divo', 'dolvol', 'dy', \n",
        "             'egr', 'ep', 'gma', 'grcapx', 'grltnoa', 'herf', 'hire', 'ill', 'indmom', 'invest', 'lev', 'lgr',\n",
        "             'maxret', 'mom12m', 'mom1m', 'mom36m', 'mom6m', 'ms', 'mve_ia', 'mvel1', 'nincr', 'operprof',\n",
        "             'orgcap', 'pchcapx_ia', 'pchcurrat', 'pchdepr', 'pchgm_pchsale', 'pchquick', 'pchsale_pchinvt',\n",
        "             'pchsale_pchrect', 'pchsale_pchxsga', 'pchsaleinv', 'pctacc', 'ps', 'quick', 'rd', 'rd_mve',\n",
        "             'rd_sale', 'realestate', 'retvol', 'roaq', 'roavol', 'roeq', 'roic', 'rsup', 'salecash', 'pricedelay',\n",
        "             'saleinv', 'salerec', 'secured', 'securedind', 'sgr', 'sin', 'sp', 'std_dolvol', 'std_turn',\n",
        "             'stdacc', 'stdcf', 'tang', 'tb', 'turn', 'zerotrade','aeavol','ear','beta','betasq','idiovol']\n",
        "y_col = 'ret'\n",
        "train_end_date = first_end_time\n",
        "\n",
        "# Evaluation details for each train and test timespan\n",
        "evaluate_detail_df = {\n",
        "    'Train Start Date': [],\n",
        "    'Train End Date': [],\n",
        "    'Test Start Date': [],\n",
        "    'Test End Date': [],\n",
        "    'Smallest RMSE': [],\n",
        "    'Time Ellipsed': []\n",
        "}"
      ],
      "metadata": {
        "id": "c9uACjiL0OiI"
      },
      "execution_count": null,
      "outputs": []
    },
    {
      "cell_type": "markdown",
      "source": [
        "# Scikit-learn\n",
        "\n",
        "Refered to [Scikit-learn RandomnizedSearchCV](https://scikit-learn.org/stable/modules/generated/sklearn.model_selection.RandomizedSearchCV.html)"
      ],
      "metadata": {
        "id": "DRFxuwqN-Izw"
      }
    },
    {
      "cell_type": "code",
      "source": [
        "def rmse_score(y_true, y_pred):\n",
        "    rmse = sklearn.metrics.mean_squared_error(y_true, y_pred, squared = False)      \n",
        "    return rmse\n",
        "my_scorer = make_scorer(rmse_score, greater_is_better=False)\n",
        "for period_time in trange(predict_times):\n",
        "    train_start_date = train_end_date - dateutil.relativedelta.relativedelta(months=train_timespan_months)\n",
        "    test_end_date = train_end_date + dateutil.relativedelta.relativedelta(months=test_timespan_months)\n",
        "    # print(train_start_date, train_end_date, test_end_date)\n",
        "    train_data = df.query(f'\"{train_start_date}\" < date <= \"{train_end_date}\"')\n",
        "    test_data = df.query(f'\"{train_end_date}\" < date <= \"{test_end_date}\"')\n",
        "    X_train = train_data[feat_cols].values\n",
        "    y_train = train_data[y_col].values\n",
        "    X_test = test_data[feat_cols].values\n",
        "    y_test = test_data[y_col].values.ravel()\n",
        "    # print(X_train.shape, y_train.shape)\n",
        "    model = LGBMRegressor(seed=42)\n",
        "    param_distribution = dict(\n",
        "        n_estimators = randint(low=50, high=500),   \n",
        "        num_leaves = randint(low=10, high=512),\n",
        "        min_data_in_leaf = randint( low=10, high=80),\n",
        "        bagging_fraction= uniform( loc=0, scale=0.1), # subsample\n",
        "        learning_rate= uniform( loc=0.01, scale=0.09),  # eta\n",
        "        lambda_l1= uniform( loc=0.01, scale=0.99),  # reg_alpha\n",
        "        lambda_l2= uniform( loc=0.01, scale=0.99), # reg_lambda\n",
        "    )\n",
        "    search_cv = RandomizedSearchCV(model, \n",
        "                                   param_distribution,\n",
        "                                   scoring=my_scorer,\n",
        "                                   random_state=0,\n",
        "                                   n_iter = n_trials)\n",
        "    # Calc the search time\n",
        "    ts = time.time()\n",
        "    search_cv.fit(X_train, y_train)\n",
        "    te = time.time()\n",
        "    exc_time = te-ts\n",
        "    evaluate_detail_df['Smallest RMSE'].append(b.best_score_)\n",
        "    evaluate_detail_df['Time Ellipsed'].append(exc_time)\n",
        "    evaluate_detail_df['Train Start Date'].append(train_start_date)\n",
        "    evaluate_detail_df['Train End Date'].append(train_end_date)\n",
        "    evaluate_detail_df['Test Start Date'].append(train_end_date+dateutil.relativedelta.relativedelta(months=1))\n",
        "    evaluate_detail_df['Test End Date'].append(test_end_date)\n",
        "    train_end_date += dateutil.relativedelta.relativedelta(months=1)\n",
        "evaluate_detail_df = pd.DataFrame(evaluate_detail_df)"
      ],
      "metadata": {
        "colab": {
          "base_uri": "https://localhost:8080/"
        },
        "id": "ud_YSXtQ2RKM",
        "outputId": "86c3a667-7e25-4370-f356-15ab15d4ab32"
      },
      "execution_count": null,
      "outputs": [
        {
          "output_type": "stream",
          "name": "stderr",
          "text": [
            "\r  0%|          | 0/60 [00:00<?, ?it/s]"
          ]
        }
      ]
    },
    {
      "cell_type": "code",
      "source": [
        "library_evaluation_df['Library'].extend(['Optuna' for _ in range(len(evaluate_detail_df))])\n",
        "library_evaluation_df['Train Start Date'].extend(evaluate_detail_df['Train Start Date'])\n",
        "library_evaluation_df['Train End Date'].extend(evaluate_detail_df['Train End Date'])\n",
        "library_evaluation_df['Test Start Date'].extend(evaluate_detail_df['Test Start Date'])\n",
        "library_evaluation_df['Test End Date'].extend(evaluate_detail_df['Test End Date'])\n",
        "library_evaluation_df['Smallest RMSE'].extend(evaluate_detail_df['Smallest RMSE'])\n",
        "library_evaluation_df['Time Ellipsed'].extend(evaluate_detail_df['Time Ellipsed'])\n",
        "pd.DataFrame(library_evaluation_df)"
      ],
      "metadata": {
        "id": "i7_QkR1i0e_W"
      },
      "execution_count": null,
      "outputs": []
    }
  ],
  "metadata": {
    "colab": {
      "background_execution": "on",
      "collapsed_sections": [],
      "name": "Sklearn_HyperParam Tuning.ipynb",
      "provenance": [],
      "toc_visible": true,
      "authorship_tag": "ABX9TyO6Spk9HjRz8jF0dZF9CrvE",
      "include_colab_link": true
    },
    "kernelspec": {
      "display_name": "Python 3",
      "name": "python3"
    },
    "language_info": {
      "name": "python"
    }
  },
  "nbformat": 4,
  "nbformat_minor": 0
}